{
 "cells": [
  {
   "cell_type": "code",
   "execution_count": 12,
   "id": "6a6c4250",
   "metadata": {},
   "outputs": [],
   "source": [
    "# !pip install nltk"
   ]
  },
  {
   "cell_type": "code",
   "execution_count": 13,
   "id": "ca29c5ac",
   "metadata": {},
   "outputs": [
    {
     "name": "stderr",
     "output_type": "stream",
     "text": [
      "[nltk_data] Downloading package wordnet to\n",
      "[nltk_data]     C:\\Users\\miqut\\AppData\\Roaming\\nltk_data...\n",
      "[nltk_data]   Package wordnet is already up-to-date!\n",
      "[nltk_data] Downloading package omw-1.4 to\n",
      "[nltk_data]     C:\\Users\\miqut\\AppData\\Roaming\\nltk_data...\n",
      "[nltk_data]   Package omw-1.4 is already up-to-date!\n"
     ]
    }
   ],
   "source": [
    "import nltk\n",
    "nltk.download('wordnet') #Thesaurus\n",
    "nltk.download('omw-1.4')\n",
    "from nltk.stem import WordNetLemmatizer"
   ]
  },
  {
   "cell_type": "code",
   "execution_count": 14,
   "id": "ecaa0653",
   "metadata": {},
   "outputs": [],
   "source": [
    "# Stemmers\n",
    "from nltk.stem import PorterStemmer\n",
    "from nltk.stem import LancasterStemmer"
   ]
  },
  {
   "cell_type": "code",
   "execution_count": 15,
   "id": "d615c24f",
   "metadata": {},
   "outputs": [
    {
     "name": "stdout",
     "output_type": "stream",
     "text": [
      "caresses \t caress | caress\n",
      "flies \t fli | fli\n",
      "dies \t die | die\n",
      "mules \t mule | mul\n",
      "denied \t deni | deny\n",
      "died \t die | died\n",
      "agreed \t agre | agree\n",
      "owned \t own | own\n",
      "humbled \t humbl | humbl\n",
      "sized \t size | siz\n",
      "meeting \t meet | meet\n",
      "stating \t state | stat\n",
      "siezing \t siez | siez\n",
      "itemization \t item | item\n",
      "sensational \t sensat | sens\n",
      "traditional \t tradit | tradit\n",
      "reference \t refer | ref\n",
      "colonizer \t colon | colon\n",
      "plotted \t plot | plot\n"
     ]
    }
   ],
   "source": [
    "# https://www.nltk.org/howto/stem.html\n",
    "stemmer  = PorterStemmer()\n",
    "stemmer2 = LancasterStemmer()\n",
    "plurals  = ['caresses', 'flies', 'dies', 'mules', 'denied','died', 'agreed', 'owned', 'humbled', 'sized', 'meeting', 'stating', 'siezing', 'itemization','sensational', 'traditional', 'reference', 'colonizer','plotted']\n",
    "\n",
    "for w in plurals:\n",
    "    print(w,\"\\t\", stemmer.stem(w),\"|\", stemmer2.stem(w))"
   ]
  },
  {
   "cell_type": "code",
   "execution_count": 16,
   "id": "04cd2baf",
   "metadata": {},
   "outputs": [
    {
     "name": "stdout",
     "output_type": "stream",
     "text": [
      "be wa\n"
     ]
    }
   ],
   "source": [
    "lemmatizer = WordNetLemmatizer()\n",
    "print(lemmatizer.lemmatize(\"was\",pos=\"v\"),stemmer.stem(\"was\"))"
   ]
  },
  {
   "cell_type": "markdown",
   "id": "0ca6546f",
   "metadata": {},
   "source": [
    "# Activity:\n",
    "- Compute the ratio between the number of lemmas and stems of a nice book."
   ]
  },
  {
   "cell_type": "code",
   "execution_count": 17,
   "id": "112b0ffa",
   "metadata": {},
   "outputs": [
    {
     "name": "stderr",
     "output_type": "stream",
     "text": [
      "  % Total    % Received % Xferd  Average Speed   Time    Time     Time  Current\n",
      "                                 Dload  Upload   Total   Spent    Left  Speed\n",
      "\n",
      "  0     0    0     0    0     0      0      0 --:--:-- --:--:-- --:--:--     0\n",
      "  0     0    0     0    0     0      0      0 --:--:-- --:--:-- --:--:--     0\n",
      "100  165k  100  165k    0     0   188k      0 --:--:-- --:--:-- --:--:--  188k\n"
     ]
    }
   ],
   "source": [
    "!curl https://www.gutenberg.org/cache/epub/1513/pg1513.txt -o romeojulieta.txt"
   ]
  },
  {
   "cell_type": "code",
   "execution_count": 18,
   "id": "2d99dd6a",
   "metadata": {},
   "outputs": [
    {
     "name": "stdout",
     "output_type": "stream",
     "text": [
      "The Project Gutenberg eBook of Romeo and Juliet, by William Shakespeare\n",
      "\n",
      "\n",
      "\n",
      "This eBook is for the use of anyone anywhere in the United States and\n",
      "\n",
      "most other parts of the world at no cost and with almost no restrictions\n",
      "\n",
      "whatsoever. You may copy it, give it away or re-use it under the terms\n",
      "\n",
      "of the Project Gutenberg License included with this eBook or online at\n",
      "\n",
      "www.gutenberg.org. If you are not located in the United States, you\n",
      "\n",
      "will have to check the laws of the country where you are located before\n",
      "\n",
      "using this eBook.\n",
      "\n",
      "\n",
      "\n"
     ]
    }
   ],
   "source": [
    "romeojulieta = open('romeojulieta.txt','r')\n",
    "romeojulietaLines = romeojulieta.readlines()\n",
    "for line in romeojulietaLines[0:10]:\n",
    "    print(line)"
   ]
  },
  {
   "cell_type": "code",
   "execution_count": 19,
   "id": "5bfde9d5",
   "metadata": {},
   "outputs": [
    {
     "name": "stdout",
     "output_type": "stream",
     "text": [
      " subscribe to our email newsletter to hear about new ebooks archive foundation how to help produce our new ebooks and how to including how to make donations to the project gutenberg literary this website includes information about project gutenberg-tm  facility www.gutenberg.org most people start at our website which has the main pg search  edition necessarily keep ebooks in compliance with any particular paper the u.s unless a copyright notice is included thus we do not editions all of which ar ...\n"
     ]
    }
   ],
   "source": [
    "import re\n",
    "import functools\n",
    "romeojulietaCleanLines = map(lambda line: re.sub(\"(\\W(?!(\\w)))+\", \"\", line).lower(), romeojulietaLines)\n",
    "romeojulietaBook = functools.reduce(lambda line, book: book + \" \" + line, romeojulietaCleanLines)\n",
    "\n",
    "print(romeojulietaBook[0:500] + \" ...\")"
   ]
  },
  {
   "cell_type": "code",
   "execution_count": 23,
   "id": "b5322b4e",
   "metadata": {},
   "outputs": [
    {
     "name": "stdout",
     "output_type": "stream",
     "text": [
      "4076\n"
     ]
    }
   ],
   "source": [
    "romeojulietaWords = romeojulietaBook.split()\n",
    "lemmas = set()\n",
    "for word in romeojulietaWords:\n",
    "    lemmas.add(lemmatizer.lemmatize(word)),\n",
    "\n",
    "print(len(lemmas))"
   ]
  },
  {
   "cell_type": "code",
   "execution_count": 26,
   "id": "d0d28fb6",
   "metadata": {},
   "outputs": [
    {
     "name": "stdout",
     "output_type": "stream",
     "text": [
      "subscribe \t subscrib | subscrib\n",
      "to \t to | to\n",
      "our \t our | our\n",
      "email \t email | email\n",
      "newsletter \t newslett | newslet\n",
      "to \t to | to\n",
      "hear \t hear | hear\n",
      "about \t about | about\n",
      "new \t new | new\n",
      "ebooks \t ebook | ebook\n"
     ]
    }
   ],
   "source": [
    "for word in romeojulietaWords[0:10]:\n",
    "    print(word,\"\\t\\t\", stemmer.stem(word),\"|\", stemmer2.stem(word))"
   ]
  }
 ],
 "metadata": {
  "interpreter": {
   "hash": "a707b6ce8c685eb936424fcc3009d4b4b7a52543c4db09380a3fc49186ceb509"
  },
  "kernelspec": {
   "display_name": "MyPy397",
   "language": "python",
   "name": "python3"
  },
  "language_info": {
   "codemirror_mode": {
    "name": "ipython",
    "version": 3
   },
   "file_extension": ".py",
   "mimetype": "text/x-python",
   "name": "python",
   "nbconvert_exporter": "python",
   "pygments_lexer": "ipython3",
   "version": "3.9.7"
  }
 },
 "nbformat": 4,
 "nbformat_minor": 5
}
