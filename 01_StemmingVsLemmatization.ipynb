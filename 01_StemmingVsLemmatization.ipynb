{
 "cells": [
  {
   "cell_type": "code",
   "execution_count": null,
   "id": "6a6c4250",
   "metadata": {},
   "outputs": [],
   "source": [
    "# !pip install nltk"
   ]
  },
  {
   "cell_type": "code",
   "execution_count": null,
   "id": "ca29c5ac",
   "metadata": {},
   "outputs": [],
   "source": [
    "import nltk\n",
    "nltk.download('wordnet') #Thesaurus\n",
    "nltk.download('omw-1.4')\n",
    "nltk.download('omw')\n",
    "from nltk.stem import WordNetLemmatizer"
   ]
  },
  {
   "cell_type": "code",
   "execution_count": null,
   "id": "ecaa0653",
   "metadata": {},
   "outputs": [],
   "source": [
    "# Stemmers\n",
    "from nltk.stem import PorterStemmer\n",
    "from nltk.stem import LancasterStemmer"
   ]
  },
  {
   "cell_type": "code",
   "execution_count": null,
   "id": "d615c24f",
   "metadata": {},
   "outputs": [],
   "source": [
    "# https://www.nltk.org/howto/stem.html\n",
    "stemmer  = PorterStemmer()\n",
    "stemmer2 = LancasterStemmer()\n",
    "plurals  = ['caresses', 'flies', 'dies', 'mules', 'denied','died', 'agreed', 'owned', 'humbled', 'sized', 'meeting', 'stating', 'siezing', 'itemization','sensational', 'traditional', 'reference', 'colonizer','plotted']\n",
    "\n",
    "for w in plurals:\n",
    "    print(w,\"\\t\", stemmer.stem(w),\"|\", stemmer2.stem(w))"
   ]
  },
  {
   "cell_type": "code",
   "execution_count": null,
   "id": "04cd2baf",
   "metadata": {},
   "outputs": [],
   "source": [
    "lemmatizer = WordNetLemmatizer()\n",
    "print(lemmatizer.lemmatize(\"was\",pos=\"v\"),stemmer.stem(\"was\"))"
   ]
  },
  {
   "cell_type": "markdown",
   "id": "0ca6546f",
   "metadata": {},
   "source": [
    "# Activity:\n",
    "- Compute the ratio between the number of lemmas and stems of a nice book."
   ]
  },
  {
   "cell_type": "code",
   "execution_count": null,
   "id": "112b0ffa",
   "metadata": {},
   "outputs": [],
   "source": [
    "!curl https://www.gutenberg.org/cache/epub/1513/pg1513.txt -o romeojulieta.txt"
   ]
  },
  {
   "cell_type": "code",
   "execution_count": null,
   "id": "2d99dd6a",
   "metadata": {},
   "outputs": [],
   "source": [
    "romeojulieta = open('romeojulieta.txt','r')\n",
    "romeojulietaLines = romeojulieta.readlines()\n",
    "for line in romeojulietaLines[0:10]:\n",
    "    print(line)"
   ]
  },
  {
   "cell_type": "code",
   "execution_count": null,
   "id": "5bfde9d5",
   "metadata": {},
   "outputs": [],
   "source": [
    "import re\n",
    "import functools\n",
    "romeojulietaCleanLines = map(lambda line: re.sub(\"(\\W(?!(\\w)))+\", \"\", line).lower(), romeojulietaLines)\n",
    "romeojulietaBook = functools.reduce(lambda line, book: book + \" \" + line, romeojulietaCleanLines)\n",
    "\n",
    "print(romeojulietaBook[0:500] + \" ...\")"
   ]
  },
  {
   "cell_type": "code",
   "execution_count": null,
   "id": "b5322b4e",
   "metadata": {},
   "outputs": [],
   "source": [
    "romeojulietaWords = romeojulietaBook.split()\n",
    "lemmas = set()\n",
    "for word in romeojulietaWords:\n",
    "    lemmas.add(lemmatizer.lemmatize(word)),\n",
    "\n",
    "print(len(lemmas))"
   ]
  },
  {
   "cell_type": "code",
   "execution_count": null,
   "id": "d0d28fb6",
   "metadata": {},
   "outputs": [],
   "source": [
    "for word in romeojulietaWords[0:10]:\n",
    "    print(word,\"\\t\\t\", stemmer.stem(word),\"|\", stemmer2.stem(word))"
   ]
  }
 ],
 "metadata": {
  "interpreter": {
   "hash": "a707b6ce8c685eb936424fcc3009d4b4b7a52543c4db09380a3fc49186ceb509"
  },
  "kernelspec": {
   "display_name": "MyPy397",
   "language": "python",
   "name": "python3"
  },
  "language_info": {
   "codemirror_mode": {
    "name": "ipython",
    "version": 3
   },
   "file_extension": ".py",
   "mimetype": "text/x-python",
   "name": "python",
   "nbconvert_exporter": "python",
   "pygments_lexer": "ipython3",
   "version": "3.9.7"
  }
 },
 "nbformat": 4,
 "nbformat_minor": 5
}
