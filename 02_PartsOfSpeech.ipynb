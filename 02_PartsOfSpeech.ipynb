{
 "cells": [
  {
   "cell_type": "markdown",
   "id": "28a13929",
   "metadata": {},
   "source": [
    "NLTK POS Tags Examples are as below:\n",
    "\n",
    "https://www.nltk.org/api/nltk.tag.html\n",
    "\n",
    "Abbreviation    Meaning\n",
    "\n",
    "CC  coordinating conjunction <br />\n",
    "CD  cardinal digit <br />\n",
    "DT  determiner<br />\n",
    "EX  existential there <br />\n",
    "FW  foreign word <br />\n",
    "IN  preposition/subordinating conjunction <br />\n",
    "JJ  This NLTK POS Tag is an adjective (large)<br />\n",
    "JJR adjective, comparative (larger)<br />\n",
    "JJS adjective, superlative (largest)<br />\n",
    "LS  list market<br />\n",
    "MD  modal (could, will)<br />\n",
    "NN  noun, singular (cat, tree)<br />\n",
    "NNS noun plural (desks)<br />\n",
    "NNP proper noun, singular (sarah) <br />\n",
    "NNPS    proper noun, plural (indians or americans) <br />\n",
    "PDT predeterminer (all, both, half)<br />\n",
    "POS possessive ending (parent\\ ‘s) <br />\n",
    "PRP personal pronoun (hers, herself, him, himself)<br />\n",
    "PRP$    possessive pronoun (her, his, mine, my, our )<br />\n",
    "RB  adverb (occasionally, swiftly)<br />\n",
    "RBR adverb, comparative (greater)<br />\n",
    "RBS adverb, superlative (biggest)<br />\n",
    "RP  particle (about)<br />\n",
    "TO  infinite marker (to)<br />\n",
    "UH  interjection (goodbye)<br />\n",
    "VB  verb (ask)<br />\n",
    "VBG verb gerund (judging)<br />\n",
    "VBD verb past tense (pleaded)<br />\n",
    "VBN verb past participle (reunified)<br />\n",
    "VBP verb, present tense not 3rd person singular(wrap)<br />\n",
    "VBZ verb, present tense with 3rd person singular (bases)<br />\n",
    "WDT wh-determiner (that, what)<br />\n",
    "WP  wh- pronoun (who)<br />\n",
    "WRB wh- adverb (how)<br />"
   ]
  },
  {
   "cell_type": "code",
   "execution_count": 13,
   "id": "32adf6c6",
   "metadata": {},
   "outputs": [
    {
     "name": "stderr",
     "output_type": "stream",
     "text": [
      "[nltk_data] Downloading package averaged_perceptron_tagger to\n",
      "[nltk_data]     C:\\Users\\miqut\\AppData\\Roaming\\nltk_data...\n",
      "[nltk_data]   Package averaged_perceptron_tagger is already up-to-\n",
      "[nltk_data]       date!\n"
     ]
    },
    {
     "data": {
      "text/plain": [
       "True"
      ]
     },
     "execution_count": 13,
     "metadata": {},
     "output_type": "execute_result"
    }
   ],
   "source": [
    "import nltk #etiquetador medio\n",
    "nltk.download('averaged_perceptron_tagger')"
   ]
  },
  {
   "cell_type": "code",
   "execution_count": 14,
   "id": "9d365a69",
   "metadata": {},
   "outputs": [],
   "source": [
    "import nltk"
   ]
  },
  {
   "cell_type": "code",
   "execution_count": 15,
   "id": "3b71ceb9",
   "metadata": {},
   "outputs": [
    {
     "data": {
      "text/plain": [
       "[('This', 'DT'),\n",
       " ('is', 'VBZ'),\n",
       " ('the', 'DT'),\n",
       " ('lost', 'JJ'),\n",
       " ('dog', 'NN'),\n",
       " ('I', 'PRP'),\n",
       " ('found', 'VBD'),\n",
       " ('at', 'IN'),\n",
       " ('the', 'DT'),\n",
       " ('park', 'NN')]"
      ]
     },
     "execution_count": 15,
     "metadata": {},
     "output_type": "execute_result"
    }
   ],
   "source": [
    "text = \"This is the lost dog I found at the park\".split()\n",
    "nltk.pos_tag(text)"
   ]
  },
  {
   "cell_type": "code",
   "execution_count": 16,
   "id": "51d55c29",
   "metadata": {},
   "outputs": [
    {
     "name": "stdout",
     "output_type": "stream",
     "text": [
      "[('This', 'DET'), ('is', 'VERB'), ('the', 'DET'), ('lost', 'ADJ'), ('dog', 'NOUN'), ('I', 'PRON'), ('found', 'VERB'), ('at', 'ADP'), ('the', 'DET'), ('park', 'NOUN')]\n"
     ]
    }
   ],
   "source": [
    "print(nltk.pos_tag(text, tagset='universal'))"
   ]
  },
  {
   "cell_type": "code",
   "execution_count": 17,
   "id": "e6685689",
   "metadata": {},
   "outputs": [
    {
     "name": "stdout",
     "output_type": "stream",
     "text": [
      "[('This', 'NN'), ('is', 'NN'), ('the', 'NN'), ('lost', 'NN'), ('dog', 'NN'), ('I', 'NN'), ('found', 'NN'), ('at', 'NN'), ('the', 'NN'), ('park', 'NN')]\n"
     ]
    }
   ],
   "source": [
    "defaultTagger = nltk.DefaultTagger(\"NN\")\n",
    "print(defaultTagger.tag(text))"
   ]
  },
  {
   "cell_type": "code",
   "execution_count": 18,
   "id": "3d42acc1",
   "metadata": {},
   "outputs": [
    {
     "name": "stderr",
     "output_type": "stream",
     "text": [
      "[nltk_data] Downloading package cess_esp to\n",
      "[nltk_data]     C:\\Users\\miqut\\AppData\\Roaming\\nltk_data...\n",
      "[nltk_data]   Package cess_esp is already up-to-date!\n"
     ]
    },
    {
     "data": {
      "text/plain": [
       "True"
      ]
     },
     "execution_count": 18,
     "metadata": {},
     "output_type": "execute_result"
    }
   ],
   "source": [
    "nltk.download(\"cess_esp\")"
   ]
  },
  {
   "cell_type": "code",
   "execution_count": 19,
   "id": "f33931a6",
   "metadata": {},
   "outputs": [
    {
     "name": "stderr",
     "output_type": "stream",
     "text": [
      "[nltk_data] Downloading package universal_tagset to\n",
      "[nltk_data]     C:\\Users\\miqut\\AppData\\Roaming\\nltk_data...\n",
      "[nltk_data]   Package universal_tagset is already up-to-date!\n"
     ]
    },
    {
     "data": {
      "text/plain": [
       "True"
      ]
     },
     "execution_count": 19,
     "metadata": {},
     "output_type": "execute_result"
    }
   ],
   "source": [
    "nltk.download('universal_tagset')"
   ]
  },
  {
   "cell_type": "code",
   "execution_count": 20,
   "id": "3b041047",
   "metadata": {},
   "outputs": [
    {
     "name": "stderr",
     "output_type": "stream",
     "text": [
      "[nltk_data] Downloading package tagsets to\n",
      "[nltk_data]     C:\\Users\\miqut\\AppData\\Roaming\\nltk_data...\n",
      "[nltk_data]   Package tagsets is already up-to-date!\n"
     ]
    },
    {
     "data": {
      "text/plain": [
       "True"
      ]
     },
     "execution_count": 20,
     "metadata": {},
     "output_type": "execute_result"
    }
   ],
   "source": [
    "nltk.download('tagsets')"
   ]
  },
  {
   "cell_type": "code",
   "execution_count": 21,
   "id": "be21a1b6",
   "metadata": {},
   "outputs": [
    {
     "ename": "NotImplementedError",
     "evalue": "Currently, NLTK pos_tag only supports English and Russian (i.e. lang='eng' or lang='rus')",
     "output_type": "error",
     "traceback": [
      "\u001b[1;31m---------------------------------------------------------------------------\u001b[0m",
      "\u001b[1;31mNotImplementedError\u001b[0m                       Traceback (most recent call last)",
      "\u001b[1;32m~\\AppData\\Local\\Temp/ipykernel_9372/4194588252.py\u001b[0m in \u001b[0;36m<module>\u001b[1;34m\u001b[0m\n\u001b[0;32m      1\u001b[0m \u001b[0mtexto\u001b[0m \u001b[1;33m=\u001b[0m \u001b[1;34m\"Hola Caracola caminar caminaré camino caminaría en autobus\"\u001b[0m\u001b[1;33m.\u001b[0m\u001b[0msplit\u001b[0m\u001b[1;33m(\u001b[0m\u001b[1;33m)\u001b[0m\u001b[1;33m\u001b[0m\u001b[1;33m\u001b[0m\u001b[0m\n\u001b[1;32m----> 2\u001b[1;33m \u001b[0mnltk\u001b[0m\u001b[1;33m.\u001b[0m\u001b[0mpos_tag\u001b[0m\u001b[1;33m(\u001b[0m\u001b[0mtexto\u001b[0m\u001b[1;33m,\u001b[0m \u001b[0mlang\u001b[0m\u001b[1;33m=\u001b[0m\u001b[1;34m'spa'\u001b[0m\u001b[1;33m)\u001b[0m\u001b[1;33m\u001b[0m\u001b[1;33m\u001b[0m\u001b[0m\n\u001b[0m",
      "\u001b[1;32mC:\\tools\\Anaconda3\\lib\\site-packages\\nltk\\tag\\__init__.py\u001b[0m in \u001b[0;36mpos_tag\u001b[1;34m(tokens, tagset, lang)\u001b[0m\n\u001b[0;32m    164\u001b[0m     \"\"\"\n\u001b[0;32m    165\u001b[0m     \u001b[0mtagger\u001b[0m \u001b[1;33m=\u001b[0m \u001b[0m_get_tagger\u001b[0m\u001b[1;33m(\u001b[0m\u001b[0mlang\u001b[0m\u001b[1;33m)\u001b[0m\u001b[1;33m\u001b[0m\u001b[1;33m\u001b[0m\u001b[0m\n\u001b[1;32m--> 166\u001b[1;33m     \u001b[1;32mreturn\u001b[0m \u001b[0m_pos_tag\u001b[0m\u001b[1;33m(\u001b[0m\u001b[0mtokens\u001b[0m\u001b[1;33m,\u001b[0m \u001b[0mtagset\u001b[0m\u001b[1;33m,\u001b[0m \u001b[0mtagger\u001b[0m\u001b[1;33m,\u001b[0m \u001b[0mlang\u001b[0m\u001b[1;33m)\u001b[0m\u001b[1;33m\u001b[0m\u001b[1;33m\u001b[0m\u001b[0m\n\u001b[0m\u001b[0;32m    167\u001b[0m \u001b[1;33m\u001b[0m\u001b[0m\n\u001b[0;32m    168\u001b[0m \u001b[1;33m\u001b[0m\u001b[0m\n",
      "\u001b[1;32mC:\\tools\\Anaconda3\\lib\\site-packages\\nltk\\tag\\__init__.py\u001b[0m in \u001b[0;36m_pos_tag\u001b[1;34m(tokens, tagset, tagger, lang)\u001b[0m\n\u001b[0;32m    112\u001b[0m     \u001b[1;31m# Currently only supports English and Russian.\u001b[0m\u001b[1;33m\u001b[0m\u001b[1;33m\u001b[0m\u001b[0m\n\u001b[0;32m    113\u001b[0m     \u001b[1;32mif\u001b[0m \u001b[0mlang\u001b[0m \u001b[1;32mnot\u001b[0m \u001b[1;32min\u001b[0m \u001b[1;33m[\u001b[0m\u001b[1;34m\"eng\"\u001b[0m\u001b[1;33m,\u001b[0m \u001b[1;34m\"rus\"\u001b[0m\u001b[1;33m]\u001b[0m\u001b[1;33m:\u001b[0m\u001b[1;33m\u001b[0m\u001b[1;33m\u001b[0m\u001b[0m\n\u001b[1;32m--> 114\u001b[1;33m         raise NotImplementedError(\n\u001b[0m\u001b[0;32m    115\u001b[0m             \u001b[1;34m\"Currently, NLTK pos_tag only supports English and Russian \"\u001b[0m\u001b[1;33m\u001b[0m\u001b[1;33m\u001b[0m\u001b[0m\n\u001b[0;32m    116\u001b[0m             \u001b[1;34m\"(i.e. lang='eng' or lang='rus')\"\u001b[0m\u001b[1;33m\u001b[0m\u001b[1;33m\u001b[0m\u001b[0m\n",
      "\u001b[1;31mNotImplementedError\u001b[0m: Currently, NLTK pos_tag only supports English and Russian (i.e. lang='eng' or lang='rus')"
     ]
    }
   ],
   "source": [
    "texto = \"Hola Caracola caminar caminaré camino caminaría en autobus\".split()\n",
    "nltk.pos_tag(texto, lang='spa')"
   ]
  },
  {
   "cell_type": "code",
   "execution_count": null,
   "id": "00c31260",
   "metadata": {},
   "outputs": [
    {
     "name": "stdout",
     "output_type": "stream",
     "text": [
      "[('Hola', 'NOUN'), ('Caracola', 'NOUN'), ('ir', 'VERB'), ('a', 'DET'), ('correr', 'NOUN'), ('en', 'ADP'), ('autobus', 'NOUN')]\n"
     ]
    }
   ],
   "source": [
    "texto = \"Hola Caracola ir a correr en autobus\".split()\n",
    "print(nltk.pos_tag(texto, tagset='universal'))"
   ]
  },
  {
   "cell_type": "code",
   "execution_count": null,
   "id": "618b1dfb",
   "metadata": {},
   "outputs": [],
   "source": [
    "from nltk.corpus import cess_esp as cess\n",
    "from nltk import UnigramTagger as ut\n",
    "\n",
    "# Read the corpus\n",
    "cess_sents = cess.tagged_sents()\n",
    "\n",
    "# Train\n",
    "uni_tag = ut(cess_sents)"
   ]
  },
  {
   "cell_type": "code",
   "execution_count": null,
   "id": "62b7abde",
   "metadata": {},
   "outputs": [
    {
     "name": "stdout",
     "output_type": "stream",
     "text": [
      "[('Hola', None), (',', 'Fc'), ('esta', 'dd0fs0'), ('concha', None), ('está', 'vmip3s0'), ('fria', None), ('.', 'Fp')]\n"
     ]
    }
   ],
   "source": [
    "sentence = \"Hola , esta concha está fria .\"\n",
    "print(uni_tag.tag(sentence.split(\" \")))"
   ]
  },
  {
   "cell_type": "code",
   "execution_count": null,
   "id": "59310976",
   "metadata": {},
   "outputs": [
    {
     "name": "stdout",
     "output_type": "stream",
     "text": [
      "[('Bones,', None), ('aquesta', None), ('petxina', None), ('està', None), ('freda', None), ('.', 'Fp')]\n"
     ]
    }
   ],
   "source": [
    "sentence = \"Bones, aquesta petxina està freda .\"\n",
    "print(uni_tag.tag(sentence.split(\" \")))"
   ]
  },
  {
   "cell_type": "code",
   "execution_count": null,
   "id": "cf6d220c",
   "metadata": {},
   "outputs": [],
   "source": [
    "# ¿Existen más \"etiquetadores\" como UnigramTagger?"
   ]
  },
  {
   "cell_type": "markdown",
   "id": "a9228603",
   "metadata": {},
   "source": [
    "### Activity:\n",
    "\n",
    "From all these amazon reviews, we want to obtain ALL the ADJECTIVES with a rating b >4 ratings stars, and <2 stars.\n",
    "\n",
    "https://www.kaggle.com/PromptCloudHQ/amazon-reviews-unlocked-mobile-phones"
   ]
  },
  {
   "cell_type": "code",
   "execution_count": null,
   "id": "eda91e91",
   "metadata": {},
   "outputs": [
    {
     "data": {
      "text/html": [
       "<div>\n",
       "<style scoped>\n",
       "    .dataframe tbody tr th:only-of-type {\n",
       "        vertical-align: middle;\n",
       "    }\n",
       "\n",
       "    .dataframe tbody tr th {\n",
       "        vertical-align: top;\n",
       "    }\n",
       "\n",
       "    .dataframe thead th {\n",
       "        text-align: right;\n",
       "    }\n",
       "</style>\n",
       "<table border=\"1\" class=\"dataframe\">\n",
       "  <thead>\n",
       "    <tr style=\"text-align: right;\">\n",
       "      <th></th>\n",
       "      <th>Product Name</th>\n",
       "      <th>Brand Name</th>\n",
       "      <th>Price</th>\n",
       "      <th>Rating</th>\n",
       "      <th>Reviews</th>\n",
       "      <th>Review Votes</th>\n",
       "    </tr>\n",
       "  </thead>\n",
       "  <tbody>\n",
       "    <tr>\n",
       "      <th>0</th>\n",
       "      <td>\"CLEAR CLEAN ESN\" Sprint EPIC 4G Galaxy SPH-D7...</td>\n",
       "      <td>Samsung</td>\n",
       "      <td>199.99</td>\n",
       "      <td>5</td>\n",
       "      <td>I feel so LUCKY to have found this used (phone...</td>\n",
       "      <td>1.0</td>\n",
       "    </tr>\n",
       "    <tr>\n",
       "      <th>1</th>\n",
       "      <td>\"CLEAR CLEAN ESN\" Sprint EPIC 4G Galaxy SPH-D7...</td>\n",
       "      <td>Samsung</td>\n",
       "      <td>199.99</td>\n",
       "      <td>4</td>\n",
       "      <td>nice phone, nice up grade from my pantach revu...</td>\n",
       "      <td>0.0</td>\n",
       "    </tr>\n",
       "    <tr>\n",
       "      <th>2</th>\n",
       "      <td>\"CLEAR CLEAN ESN\" Sprint EPIC 4G Galaxy SPH-D7...</td>\n",
       "      <td>Samsung</td>\n",
       "      <td>199.99</td>\n",
       "      <td>5</td>\n",
       "      <td>Very pleased</td>\n",
       "      <td>0.0</td>\n",
       "    </tr>\n",
       "    <tr>\n",
       "      <th>3</th>\n",
       "      <td>\"CLEAR CLEAN ESN\" Sprint EPIC 4G Galaxy SPH-D7...</td>\n",
       "      <td>Samsung</td>\n",
       "      <td>199.99</td>\n",
       "      <td>4</td>\n",
       "      <td>It works good but it goes slow sometimes but i...</td>\n",
       "      <td>0.0</td>\n",
       "    </tr>\n",
       "    <tr>\n",
       "      <th>4</th>\n",
       "      <td>\"CLEAR CLEAN ESN\" Sprint EPIC 4G Galaxy SPH-D7...</td>\n",
       "      <td>Samsung</td>\n",
       "      <td>199.99</td>\n",
       "      <td>4</td>\n",
       "      <td>Great phone to replace my lost phone. The only...</td>\n",
       "      <td>0.0</td>\n",
       "    </tr>\n",
       "  </tbody>\n",
       "</table>\n",
       "</div>"
      ],
      "text/plain": [
       "                                        Product Name Brand Name   Price  \\\n",
       "0  \"CLEAR CLEAN ESN\" Sprint EPIC 4G Galaxy SPH-D7...    Samsung  199.99   \n",
       "1  \"CLEAR CLEAN ESN\" Sprint EPIC 4G Galaxy SPH-D7...    Samsung  199.99   \n",
       "2  \"CLEAR CLEAN ESN\" Sprint EPIC 4G Galaxy SPH-D7...    Samsung  199.99   \n",
       "3  \"CLEAR CLEAN ESN\" Sprint EPIC 4G Galaxy SPH-D7...    Samsung  199.99   \n",
       "4  \"CLEAR CLEAN ESN\" Sprint EPIC 4G Galaxy SPH-D7...    Samsung  199.99   \n",
       "\n",
       "   Rating                                            Reviews  Review Votes  \n",
       "0       5  I feel so LUCKY to have found this used (phone...           1.0  \n",
       "1       4  nice phone, nice up grade from my pantach revu...           0.0  \n",
       "2       5                                       Very pleased           0.0  \n",
       "3       4  It works good but it goes slow sometimes but i...           0.0  \n",
       "4       4  Great phone to replace my lost phone. The only...           0.0  "
      ]
     },
     "execution_count": 17,
     "metadata": {},
     "output_type": "execute_result"
    }
   ],
   "source": [
    "import pandas as pd\n",
    "\n",
    "all_ratings = pd.read_csv(\"Amazon_Unlocked_Mobile.csv\")\n",
    "all_ratings.head()"
   ]
  },
  {
   "cell_type": "code",
   "execution_count": null,
   "id": "1b995881",
   "metadata": {},
   "outputs": [
    {
     "data": {
      "text/plain": [
       "284954"
      ]
     },
     "execution_count": 67,
     "metadata": {},
     "output_type": "execute_result"
    }
   ],
   "source": [
    "goodReviews = all_ratings[all_ratings.Rating >= 4].Reviews\n",
    "goodReviews.head()\n",
    "#goodReviews.count()"
   ]
  },
  {
   "cell_type": "code",
   "execution_count": null,
   "id": "16fe1d9e",
   "metadata": {},
   "outputs": [
    {
     "data": {
      "text/plain": [
       "5     I already had a phone with problems... I know ...\n",
       "13    I'm really disappointed about my phone and ser...\n",
       "22    I purchased this phone in December as a christ...\n",
       "28         was not in good condition but does work good\n",
       "29    Just... not good. The phone has great screen r...\n",
       "Name: Reviews, dtype: object"
      ]
     },
     "execution_count": 98,
     "metadata": {},
     "output_type": "execute_result"
    }
   ],
   "source": [
    "badReviws = all_ratings[all_ratings.Rating < 2].Reviews\n",
    "badReviws.head()\n",
    "#badReviws.count()"
   ]
  },
  {
   "cell_type": "code",
   "execution_count": null,
   "id": "af386f65",
   "metadata": {},
   "outputs": [],
   "source": [
    "import nltk\n",
    "import re\n",
    "from nltk import word_tokenize\n",
    "from nltk import pos_tag\n",
    "\n",
    "# nltk.download('punkt')"
   ]
  },
  {
   "cell_type": "code",
   "execution_count": null,
   "id": "ceea8cd9",
   "metadata": {},
   "outputs": [],
   "source": [
    "def wordCleaner(text):\n",
    "  return re.sub(\"(\\W(?!(\\w)))+\", \" \", str(text)).lower()\n",
    "\n",
    "def getAdjectives(reviews):\n",
    "  adjectives = {}\n",
    "  for review in reviews:\n",
    "    cleanText = wordCleaner(review)\n",
    "    tokens = word_tokenize(cleanText)\n",
    "    taggedTokens = pos_tag(tokens)\n",
    "    for taggedToken in taggedTokens:\n",
    "      (word, tokenType) = taggedToken\n",
    "      if tokenType == \"JJ\":\n",
    "        if word in adjectives:\n",
    "          adjectives[word] = adjectives[word] + 1\n",
    "        else:\n",
    "          adjectives[word] = 1\n",
    "  return adjectives"
   ]
  },
  {
   "cell_type": "code",
   "execution_count": null,
   "id": "a3e172c0",
   "metadata": {},
   "outputs": [
    {
     "ename": "NameError",
     "evalue": "name 'goodReviews' is not defined",
     "output_type": "error",
     "traceback": [
      "\u001b[1;31m---------------------------------------------------------------------------\u001b[0m",
      "\u001b[1;31mNameError\u001b[0m                                 Traceback (most recent call last)",
      "\u001b[1;32m~\\AppData\\Local\\Temp/ipykernel_9372/510109912.py\u001b[0m in \u001b[0;36m<module>\u001b[1;34m\u001b[0m\n\u001b[1;32m----> 1\u001b[1;33m \u001b[0mmaybeGoodAdjectives\u001b[0m \u001b[1;33m=\u001b[0m \u001b[0mgetAdjectives\u001b[0m\u001b[1;33m(\u001b[0m\u001b[0mgoodReviews\u001b[0m\u001b[1;33m)\u001b[0m\u001b[1;33m\u001b[0m\u001b[1;33m\u001b[0m\u001b[0m\n\u001b[0m\u001b[0;32m      2\u001b[0m \u001b[0mmaybeBadAdjectives\u001b[0m \u001b[1;33m=\u001b[0m \u001b[0mgetAdjectives\u001b[0m\u001b[1;33m(\u001b[0m\u001b[0mbadReviws\u001b[0m\u001b[1;33m)\u001b[0m\u001b[1;33m\u001b[0m\u001b[1;33m\u001b[0m\u001b[0m\n",
      "\u001b[1;31mNameError\u001b[0m: name 'goodReviews' is not defined"
     ]
    }
   ],
   "source": [
    "maybeGoodAdjectives = getAdjectives(goodReviews)\n",
    "maybeBadAdjectives = getAdjectives(badReviws)"
   ]
  },
  {
   "cell_type": "code",
   "execution_count": null,
   "id": "e8cb416c",
   "metadata": {},
   "outputs": [
    {
     "data": {
      "text/plain": [
       "[('i', 275),\n",
       " ('great', 273),\n",
       " ('nice', 98),\n",
       " ('easy', 90),\n",
       " ('other', 89),\n",
       " ('excellent', 79),\n",
       " ('clear', 75),\n",
       " ('dual', 70),\n",
       " ('unlocked', 67),\n",
       " ('android', 63),\n",
       " ('sim', 57),\n",
       " ('big', 51),\n",
       " ('same', 45),\n",
       " ('many', 43)]"
      ]
     },
     "execution_count": 105,
     "metadata": {},
     "output_type": "execute_result"
    }
   ],
   "source": [
    "sorted(maybeGoodAdjectives.items(), key=lambda item: item[1], reverse=True)[1:15]"
   ]
  },
  {
   "cell_type": "code",
   "execution_count": null,
   "id": "0833fd0f",
   "metadata": {},
   "outputs": [
    {
     "data": {
      "text/plain": [
       "[('good', 134),\n",
       " ('new', 117),\n",
       " ('bad', 81),\n",
       " ('unlocked', 74),\n",
       " ('other', 59),\n",
       " ('great', 51),\n",
       " ('able', 49),\n",
       " ('slow', 43),\n",
       " ('sim', 41),\n",
       " ('t-mobile', 36),\n",
       " ('first', 35),\n",
       " ('old', 34),\n",
       " ('screen', 32),\n",
       " ('terrible', 32)]"
      ]
     },
     "execution_count": 106,
     "metadata": {},
     "output_type": "execute_result"
    }
   ],
   "source": [
    "sorted(maybeBadAdjectives.items(), key=lambda item: item[1], reverse=True)[1:15]"
   ]
  },
  {
   "cell_type": "markdown",
   "id": "e73047ae",
   "metadata": {},
   "source": [
    "En las reviews negativas la palabra más usada es \"good\" que por si sola es un adjetivo positivo. En estos casos lo más probable es que el adjetivo se encuentre negado, como por ejemplo: \"not in good\"."
   ]
  }
 ],
 "metadata": {
  "interpreter": {
   "hash": "a707b6ce8c685eb936424fcc3009d4b4b7a52543c4db09380a3fc49186ceb509"
  },
  "kernelspec": {
   "display_name": "MyPy397",
   "language": "python",
   "name": "python3"
  },
  "language_info": {
   "codemirror_mode": {
    "name": "ipython",
    "version": 3
   },
   "file_extension": ".py",
   "mimetype": "text/x-python",
   "name": "python",
   "nbconvert_exporter": "python",
   "pygments_lexer": "ipython3",
   "version": "3.9.7"
  }
 },
 "nbformat": 4,
 "nbformat_minor": 5
}
