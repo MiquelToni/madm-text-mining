{
 "cells": [
  {
   "cell_type": "markdown",
   "id": "28a13929",
   "metadata": {},
   "source": [
    "NLTK POS Tags Examples are as below:\n",
    "\n",
    "https://www.nltk.org/api/nltk.tag.html\n",
    "\n",
    "Abbreviation    Meaning\n",
    "\n",
    "CC  coordinating conjunction <br />\n",
    "CD  cardinal digit <br />\n",
    "DT  determiner<br />\n",
    "EX  existential there <br />\n",
    "FW  foreign word <br />\n",
    "IN  preposition/subordinating conjunction <br />\n",
    "JJ  This NLTK POS Tag is an adjective (large)<br />\n",
    "JJR adjective, comparative (larger)<br />\n",
    "JJS adjective, superlative (largest)<br />\n",
    "LS  list market<br />\n",
    "MD  modal (could, will)<br />\n",
    "NN  noun, singular (cat, tree)<br />\n",
    "NNS noun plural (desks)<br />\n",
    "NNP proper noun, singular (sarah) <br />\n",
    "NNPS    proper noun, plural (indians or americans) <br />\n",
    "PDT predeterminer (all, both, half)<br />\n",
    "POS possessive ending (parent\\ ‘s) <br />\n",
    "PRP personal pronoun (hers, herself, him, himself)<br />\n",
    "PRP$    possessive pronoun (her, his, mine, my, our )<br />\n",
    "RB  adverb (occasionally, swiftly)<br />\n",
    "RBR adverb, comparative (greater)<br />\n",
    "RBS adverb, superlative (biggest)<br />\n",
    "RP  particle (about)<br />\n",
    "TO  infinite marker (to)<br />\n",
    "UH  interjection (goodbye)<br />\n",
    "VB  verb (ask)<br />\n",
    "VBG verb gerund (judging)<br />\n",
    "VBD verb past tense (pleaded)<br />\n",
    "VBN verb past participle (reunified)<br />\n",
    "VBP verb, present tense not 3rd person singular(wrap)<br />\n",
    "VBZ verb, present tense with 3rd person singular (bases)<br />\n",
    "WDT wh-determiner (that, what)<br />\n",
    "WP  wh- pronoun (who)<br />\n",
    "WRB wh- adverb (how)<br />"
   ]
  },
  {
   "cell_type": "code",
   "execution_count": null,
   "id": "32adf6c6",
   "metadata": {},
   "outputs": [],
   "source": [
    "import nltk #etiquetador medio\n",
    "nltk.download('averaged_perceptron_tagger')"
   ]
  },
  {
   "cell_type": "code",
   "execution_count": null,
   "id": "9d365a69",
   "metadata": {},
   "outputs": [],
   "source": [
    "import nltk"
   ]
  },
  {
   "cell_type": "code",
   "execution_count": null,
   "id": "3b71ceb9",
   "metadata": {},
   "outputs": [],
   "source": [
    "text = \"This is the lost dog I found at the park\".split()\n",
    "nltk.pos_tag(text)"
   ]
  },
  {
   "cell_type": "code",
   "execution_count": null,
   "id": "51d55c29",
   "metadata": {},
   "outputs": [],
   "source": [
    "print(nltk.pos_tag(text, tagset='universal'))"
   ]
  },
  {
   "cell_type": "code",
   "execution_count": null,
   "id": "e6685689",
   "metadata": {},
   "outputs": [],
   "source": [
    "defaultTagger = nltk.DefaultTagger(\"NN\")\n",
    "print(defaultTagger.tag(text))"
   ]
  },
  {
   "cell_type": "code",
   "execution_count": null,
   "id": "3d42acc1",
   "metadata": {},
   "outputs": [],
   "source": [
    "nltk.download(\"cess_esp\")"
   ]
  },
  {
   "cell_type": "code",
   "execution_count": null,
   "id": "f33931a6",
   "metadata": {},
   "outputs": [],
   "source": [
    "nltk.download('universal_tagset')"
   ]
  },
  {
   "cell_type": "code",
   "execution_count": null,
   "id": "3b041047",
   "metadata": {},
   "outputs": [],
   "source": [
    "nltk.download('tagsets')"
   ]
  },
  {
   "cell_type": "code",
   "execution_count": null,
   "id": "be21a1b6",
   "metadata": {},
   "outputs": [],
   "source": [
    "texto = \"Hola Caracola caminar caminaré camino caminaría en autobus\".split()\n",
    "nltk.pos_tag(texto, lang='spa')"
   ]
  },
  {
   "cell_type": "code",
   "execution_count": null,
   "id": "00c31260",
   "metadata": {},
   "outputs": [],
   "source": [
    "texto = \"Hola Caracola ir a correr en autobus\".split()\n",
    "print(nltk.pos_tag(texto, tagset='universal'))"
   ]
  },
  {
   "cell_type": "code",
   "execution_count": null,
   "id": "618b1dfb",
   "metadata": {},
   "outputs": [],
   "source": [
    "from nltk.corpus import cess_esp as cess\n",
    "from nltk import UnigramTagger as ut\n",
    "\n",
    "# Read the corpus\n",
    "cess_sents = cess.tagged_sents()\n",
    "\n",
    "# Train\n",
    "uni_tag = ut(cess_sents)"
   ]
  },
  {
   "cell_type": "code",
   "execution_count": null,
   "id": "62b7abde",
   "metadata": {},
   "outputs": [],
   "source": [
    "sentence = \"Hola , esta concha está fria .\"\n",
    "print(uni_tag.tag(sentence.split(\" \")))"
   ]
  },
  {
   "cell_type": "code",
   "execution_count": null,
   "id": "59310976",
   "metadata": {},
   "outputs": [],
   "source": [
    "sentence = \"Bones, aquesta petxina està freda .\"\n",
    "print(uni_tag.tag(sentence.split(\" \")))"
   ]
  },
  {
   "cell_type": "code",
   "execution_count": null,
   "id": "cf6d220c",
   "metadata": {},
   "outputs": [],
   "source": [
    "# ¿Existen más \"etiquetadores\" como UnigramTagger?"
   ]
  },
  {
   "cell_type": "markdown",
   "id": "a9228603",
   "metadata": {},
   "source": [
    "### Activity:\n",
    "\n",
    "From all these amazon reviews, we want to obtain ALL the ADJECTIVES with a rating b >4 ratings stars, and <2 stars.\n",
    "\n",
    "https://www.kaggle.com/PromptCloudHQ/amazon-reviews-unlocked-mobile-phones"
   ]
  },
  {
   "cell_type": "code",
   "execution_count": null,
   "id": "eda91e91",
   "metadata": {},
   "outputs": [],
   "source": [
    "import pandas as pd\n",
    "\n",
    "all_ratings = pd.read_csv(\"Amazon_Unlocked_Mobile.csv\")\n",
    "all_ratings.head()"
   ]
  },
  {
   "cell_type": "code",
   "execution_count": null,
   "id": "1b995881",
   "metadata": {},
   "outputs": [],
   "source": [
    "goodReviews = all_ratings[all_ratings.Rating >= 4].Reviews\n",
    "goodReviews.head()\n",
    "#goodReviews.count()"
   ]
  },
  {
   "cell_type": "code",
   "execution_count": null,
   "id": "16fe1d9e",
   "metadata": {},
   "outputs": [],
   "source": [
    "badReviws = all_ratings[all_ratings.Rating < 2].Reviews\n",
    "badReviws.head()\n",
    "#badReviws.count()"
   ]
  },
  {
   "cell_type": "code",
   "execution_count": null,
   "id": "af386f65",
   "metadata": {},
   "outputs": [],
   "source": [
    "import nltk\n",
    "import re\n",
    "from nltk import word_tokenize\n",
    "from nltk import pos_tag\n",
    "\n",
    "# nltk.download('punkt')"
   ]
  },
  {
   "cell_type": "code",
   "execution_count": null,
   "id": "ceea8cd9",
   "metadata": {},
   "outputs": [],
   "source": [
    "def wordCleaner(text):\n",
    "  return re.sub(\"(\\W(?!(\\w)))+\", \" \", str(text)).lower()\n",
    "\n",
    "def getAdjectives(reviews):\n",
    "  adjectives = {}\n",
    "  for review in reviews:\n",
    "    cleanText = wordCleaner(review)\n",
    "    tokens = word_tokenize(cleanText)\n",
    "    taggedTokens = pos_tag(tokens)\n",
    "    for taggedToken in taggedTokens:\n",
    "      (word, tokenType) = taggedToken\n",
    "      if tokenType == \"JJ\":\n",
    "        if word in adjectives:\n",
    "          adjectives[word] = adjectives[word] + 1\n",
    "        else:\n",
    "          adjectives[word] = 1\n",
    "  return adjectives"
   ]
  },
  {
   "cell_type": "code",
   "execution_count": null,
   "id": "a3e172c0",
   "metadata": {},
   "outputs": [],
   "source": [
    "maybeGoodAdjectives = getAdjectives(goodReviews)\n",
    "maybeBadAdjectives = getAdjectives(badReviws)"
   ]
  },
  {
   "cell_type": "code",
   "execution_count": null,
   "id": "e8cb416c",
   "metadata": {},
   "outputs": [],
   "source": [
    "sorted(maybeGoodAdjectives.items(), key=lambda item: item[1], reverse=True)[1:15]"
   ]
  },
  {
   "cell_type": "code",
   "execution_count": null,
   "id": "0833fd0f",
   "metadata": {},
   "outputs": [],
   "source": [
    "sorted(maybeBadAdjectives.items(), key=lambda item: item[1], reverse=True)[1:15]"
   ]
  },
  {
   "cell_type": "markdown",
   "id": "e73047ae",
   "metadata": {},
   "source": [
    "En las reviews negativas la palabra más usada es \"good\" que por si sola es un adjetivo positivo. En estos casos lo más probable es que el adjetivo se encuentre negado, como por ejemplo: \"not in good\"."
   ]
  }
 ],
 "metadata": {
  "interpreter": {
   "hash": "a707b6ce8c685eb936424fcc3009d4b4b7a52543c4db09380a3fc49186ceb509"
  },
  "kernelspec": {
   "display_name": "MyPy397",
   "language": "python",
   "name": "python3"
  },
  "language_info": {
   "codemirror_mode": {
    "name": "ipython",
    "version": 3
   },
   "file_extension": ".py",
   "mimetype": "text/x-python",
   "name": "python",
   "nbconvert_exporter": "python",
   "pygments_lexer": "ipython3",
   "version": "3.9.7"
  }
 },
 "nbformat": 4,
 "nbformat_minor": 5
}
