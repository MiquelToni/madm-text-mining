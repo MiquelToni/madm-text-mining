{
 "cells": [
  {
   "cell_type": "markdown",
   "id": "975ce2ec",
   "metadata": {},
   "source": [
    "https://wordnet.princeton.edu/\n",
    "\n",
    "http://wordnetweb.princeton.edu/perl/webwn\n"
   ]
  },
  {
   "cell_type": "code",
   "execution_count": null,
   "id": "b131fb16",
   "metadata": {},
   "outputs": [],
   "source": [
    "from nltk.corpus import wordnet"
   ]
  },
  {
   "cell_type": "code",
   "execution_count": null,
   "id": "3ef15993",
   "metadata": {},
   "outputs": [],
   "source": [
    "wordnet.synsets('drive')"
   ]
  },
  {
   "cell_type": "code",
   "execution_count": null,
   "id": "a8e2dc71",
   "metadata": {},
   "outputs": [],
   "source": [
    "wordnet.synset('drive.n.01')"
   ]
  },
  {
   "cell_type": "code",
   "execution_count": null,
   "id": "25f6f570",
   "metadata": {},
   "outputs": [],
   "source": [
    "wordnet.synset('drive.n.01').definition()"
   ]
  },
  {
   "cell_type": "code",
   "execution_count": null,
   "id": "f6456d66",
   "metadata": {},
   "outputs": [],
   "source": [
    "dir(wordnet.synset('drive.n.01'))"
   ]
  },
  {
   "cell_type": "code",
   "execution_count": null,
   "id": "080ffa28",
   "metadata": {},
   "outputs": [],
   "source": [
    "wordnet.synset('drive.n.01').lemmas()"
   ]
  },
  {
   "cell_type": "code",
   "execution_count": null,
   "id": "74e32566",
   "metadata": {},
   "outputs": [],
   "source": [
    "wordnet.synsets('drive', pos=wordnet.VERB)"
   ]
  },
  {
   "cell_type": "code",
   "execution_count": null,
   "id": "94cf7848",
   "metadata": {},
   "outputs": [],
   "source": [
    "[str(lemma.name()) for lemma in wordnet.synset('drive.v.01').lemmas()]"
   ]
  },
  {
   "cell_type": "code",
   "execution_count": null,
   "id": "a6b45473",
   "metadata": {},
   "outputs": [],
   "source": [
    "wordnet.langs()"
   ]
  },
  {
   "cell_type": "code",
   "execution_count": null,
   "id": "a15ed939",
   "metadata": {},
   "outputs": [],
   "source": [
    "wordnet.synsets('drive', lang='cat')"
   ]
  },
  {
   "cell_type": "code",
   "execution_count": null,
   "id": "5cdb07a1",
   "metadata": {},
   "outputs": [],
   "source": [
    "wordnet.synset('drive.n.12').lemma_names('cat')"
   ]
  },
  {
   "cell_type": "markdown",
   "id": "786bd2db",
   "metadata": {},
   "source": [
    "# Relationships"
   ]
  },
  {
   "cell_type": "code",
   "execution_count": null,
   "id": "fb0dc16f",
   "metadata": {},
   "outputs": [],
   "source": [
    "for sense in wordnet.synsets('car'):\n",
    "    print(sense)\n",
    "    print(sense.definition())\n",
    "    print(sense.examples())\n",
    "    print(\"-\"*10)"
   ]
  },
  {
   "cell_type": "code",
   "execution_count": null,
   "id": "0b50cc59",
   "metadata": {},
   "outputs": [],
   "source": [
    "car = wordnet.synset('car.n.01')"
   ]
  },
  {
   "cell_type": "code",
   "execution_count": null,
   "id": "fbdf48e2",
   "metadata": {},
   "outputs": [],
   "source": [
    "car.hypernyms()"
   ]
  },
  {
   "cell_type": "code",
   "execution_count": null,
   "id": "d3aa35b6",
   "metadata": {},
   "outputs": [],
   "source": [
    "#https://en.wikipedia.org/wiki/Hyponymy_and_hypernymy\n",
    "car.hyponyms()"
   ]
  },
  {
   "cell_type": "code",
   "execution_count": null,
   "id": "a587550a",
   "metadata": {},
   "outputs": [],
   "source": [
    "car.member_holonyms()"
   ]
  },
  {
   "cell_type": "code",
   "execution_count": null,
   "id": "8e4a97ac",
   "metadata": {},
   "outputs": [],
   "source": [
    "snake = wordnet.synset('snake.n.01')\n",
    "snake.member_holonyms()"
   ]
  },
  {
   "cell_type": "code",
   "execution_count": null,
   "id": "d93a8144",
   "metadata": {},
   "outputs": [],
   "source": [
    "car.root_hypernyms()"
   ]
  },
  {
   "cell_type": "code",
   "execution_count": null,
   "id": "9d36e20b",
   "metadata": {},
   "outputs": [],
   "source": [
    "snake.root_hypernyms()"
   ]
  },
  {
   "cell_type": "code",
   "execution_count": null,
   "id": "06262525",
   "metadata": {},
   "outputs": [],
   "source": [
    "wordnet.synset('white.a.01').lemmas()[0].antonyms()"
   ]
  },
  {
   "cell_type": "markdown",
   "id": "3f8c7764",
   "metadata": {},
   "source": [
    "# Morphological Analysis and Lemmatization"
   ]
  },
  {
   "cell_type": "code",
   "execution_count": null,
   "id": "5ca5a9d8",
   "metadata": {},
   "outputs": [],
   "source": [
    "wordnet.morphy('calls', wordnet.NOUN)"
   ]
  },
  {
   "cell_type": "markdown",
   "id": "a4c0a897",
   "metadata": {},
   "source": [
    "# Activity\n",
    "- Find all hypernyms (hiperonimos) de mouse and car."
   ]
  },
  {
   "cell_type": "code",
   "execution_count": null,
   "metadata": {},
   "outputs": [],
   "source": [
    "def getAllhypernymsOsSynset(synset):\n",
    "  synsetHypernyms = synset.hypernyms()\n",
    "  if len(synsetHypernyms) == 0:\n",
    "    return []\n",
    "\n",
    "  allSynsetHypernyms = []\n",
    "  for hypernym in synsetHypernyms:\n",
    "    allSynsetHypernyms = allSynsetHypernyms + getAllhypernymsOsSynset(hypernym)\n",
    "\n",
    "  return synsetHypernyms + allSynsetHypernyms\n",
    "\n",
    "def getAllhypernyms(itemName):\n",
    "  allItemHypernyms = []\n",
    "  for synset in wordnet.synsets(itemName):\n",
    "    allItemHypernyms = allItemHypernyms + getAllhypernymsOsSynset(synset)\n",
    "  \n",
    "  return allItemHypernyms"
   ]
  },
  {
   "cell_type": "code",
   "execution_count": null,
   "id": "f6cfe29e",
   "metadata": {},
   "outputs": [],
   "source": [
    "allCarHypernym = getAllhypernyms('car')\n",
    "allMouseHypernym = getAllhypernyms('mouse')\n",
    "\n",
    "list(set(allCarHypernym) & set(allMouseHypernym))"
   ]
  }
 ],
 "metadata": {
  "interpreter": {
   "hash": "a707b6ce8c685eb936424fcc3009d4b4b7a52543c4db09380a3fc49186ceb509"
  },
  "kernelspec": {
   "display_name": "MyPy397",
   "language": "python",
   "name": "python3"
  },
  "language_info": {
   "codemirror_mode": {
    "name": "ipython",
    "version": 3
   },
   "file_extension": ".py",
   "mimetype": "text/x-python",
   "name": "python",
   "nbconvert_exporter": "python",
   "pygments_lexer": "ipython3",
   "version": "3.9.7"
  }
 },
 "nbformat": 4,
 "nbformat_minor": 5
}
