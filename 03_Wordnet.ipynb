{
 "cells": [
  {
   "cell_type": "markdown",
   "id": "975ce2ec",
   "metadata": {},
   "source": [
    "https://wordnet.princeton.edu/\n",
    "\n",
    "http://wordnetweb.princeton.edu/perl/webwn\n"
   ]
  },
  {
   "cell_type": "code",
   "execution_count": 19,
   "id": "b131fb16",
   "metadata": {},
   "outputs": [],
   "source": [
    "from nltk.corpus import wordnet"
   ]
  },
  {
   "cell_type": "code",
   "execution_count": 20,
   "id": "3ef15993",
   "metadata": {},
   "outputs": [
    {
     "data": {
      "text/plain": [
       "[Synset('drive.n.01'),\n",
       " Synset('drive.n.02'),\n",
       " Synset('campaign.n.02'),\n",
       " Synset('driveway.n.01'),\n",
       " Synset('drive.n.05'),\n",
       " Synset('drive.n.06'),\n",
       " Synset('drive.n.07'),\n",
       " Synset('drive.n.08'),\n",
       " Synset('drive.n.09'),\n",
       " Synset('drive.n.10'),\n",
       " Synset('drive.n.11'),\n",
       " Synset('drive.n.12'),\n",
       " Synset('drive.v.01'),\n",
       " Synset('drive.v.02'),\n",
       " Synset('drive.v.03'),\n",
       " Synset('force.v.06'),\n",
       " Synset('drive.v.05'),\n",
       " Synset('repel.v.01'),\n",
       " Synset('drive.v.07'),\n",
       " Synset('drive.v.08'),\n",
       " Synset('drive.v.09'),\n",
       " Synset('tug.v.02'),\n",
       " Synset('drive.v.11'),\n",
       " Synset('drive.v.12'),\n",
       " Synset('drive.v.13'),\n",
       " Synset('drive.v.14'),\n",
       " Synset('drive.v.15'),\n",
       " Synset('drive.v.16'),\n",
       " Synset('drive.v.17'),\n",
       " Synset('drive.v.18'),\n",
       " Synset('drive.v.19'),\n",
       " Synset('drive.v.20'),\n",
       " Synset('drive.v.21'),\n",
       " Synset('drive.v.22')]"
      ]
     },
     "execution_count": 20,
     "metadata": {},
     "output_type": "execute_result"
    }
   ],
   "source": [
    "wordnet.synsets('drive')"
   ]
  },
  {
   "cell_type": "code",
   "execution_count": 21,
   "id": "a8e2dc71",
   "metadata": {},
   "outputs": [
    {
     "data": {
      "text/plain": [
       "Synset('drive.n.01')"
      ]
     },
     "execution_count": 21,
     "metadata": {},
     "output_type": "execute_result"
    }
   ],
   "source": [
    "wordnet.synset('drive.n.01')"
   ]
  },
  {
   "cell_type": "code",
   "execution_count": 22,
   "id": "25f6f570",
   "metadata": {},
   "outputs": [
    {
     "data": {
      "text/plain": [
       "'the act of applying force to propel something'"
      ]
     },
     "execution_count": 22,
     "metadata": {},
     "output_type": "execute_result"
    }
   ],
   "source": [
    "wordnet.synset('drive.n.01').definition()"
   ]
  },
  {
   "cell_type": "code",
   "execution_count": 23,
   "id": "f6456d66",
   "metadata": {},
   "outputs": [
    {
     "data": {
      "text/plain": [
       "['__class__',\n",
       " '__delattr__',\n",
       " '__dict__',\n",
       " '__dir__',\n",
       " '__doc__',\n",
       " '__eq__',\n",
       " '__format__',\n",
       " '__ge__',\n",
       " '__getattribute__',\n",
       " '__gt__',\n",
       " '__hash__',\n",
       " '__init__',\n",
       " '__init_subclass__',\n",
       " '__le__',\n",
       " '__lt__',\n",
       " '__module__',\n",
       " '__ne__',\n",
       " '__new__',\n",
       " '__reduce__',\n",
       " '__reduce_ex__',\n",
       " '__repr__',\n",
       " '__setattr__',\n",
       " '__sizeof__',\n",
       " '__slots__',\n",
       " '__str__',\n",
       " '__subclasshook__',\n",
       " '__weakref__',\n",
       " '_all_hypernyms',\n",
       " '_definition',\n",
       " '_examples',\n",
       " '_frame_ids',\n",
       " '_hypernyms',\n",
       " '_instance_hypernyms',\n",
       " '_iter_hypernym_lists',\n",
       " '_lemma_names',\n",
       " '_lemma_pointers',\n",
       " '_lemmas',\n",
       " '_lexname',\n",
       " '_max_depth',\n",
       " '_min_depth',\n",
       " '_name',\n",
       " '_needs_root',\n",
       " '_offset',\n",
       " '_pointers',\n",
       " '_pos',\n",
       " '_related',\n",
       " '_shortest_hypernym_paths',\n",
       " '_wordnet_corpus_reader',\n",
       " 'acyclic_tree',\n",
       " 'also_sees',\n",
       " 'attributes',\n",
       " 'causes',\n",
       " 'closure',\n",
       " 'common_hypernyms',\n",
       " 'definition',\n",
       " 'entailments',\n",
       " 'examples',\n",
       " 'frame_ids',\n",
       " 'hypernym_distances',\n",
       " 'hypernym_paths',\n",
       " 'hypernyms',\n",
       " 'hyponyms',\n",
       " 'in_region_domains',\n",
       " 'in_topic_domains',\n",
       " 'in_usage_domains',\n",
       " 'instance_hypernyms',\n",
       " 'instance_hyponyms',\n",
       " 'jcn_similarity',\n",
       " 'lch_similarity',\n",
       " 'lemma_names',\n",
       " 'lemmas',\n",
       " 'lexname',\n",
       " 'lin_similarity',\n",
       " 'lowest_common_hypernyms',\n",
       " 'max_depth',\n",
       " 'member_holonyms',\n",
       " 'member_meronyms',\n",
       " 'min_depth',\n",
       " 'mst',\n",
       " 'name',\n",
       " 'offset',\n",
       " 'part_holonyms',\n",
       " 'part_meronyms',\n",
       " 'path_similarity',\n",
       " 'pos',\n",
       " 'region_domains',\n",
       " 'res_similarity',\n",
       " 'root_hypernyms',\n",
       " 'shortest_path_distance',\n",
       " 'similar_tos',\n",
       " 'substance_holonyms',\n",
       " 'substance_meronyms',\n",
       " 'topic_domains',\n",
       " 'tree',\n",
       " 'usage_domains',\n",
       " 'verb_groups',\n",
       " 'wup_similarity']"
      ]
     },
     "execution_count": 23,
     "metadata": {},
     "output_type": "execute_result"
    }
   ],
   "source": [
    "dir(wordnet.synset('drive.n.01'))"
   ]
  },
  {
   "cell_type": "code",
   "execution_count": 24,
   "id": "080ffa28",
   "metadata": {},
   "outputs": [
    {
     "data": {
      "text/plain": [
       "[Lemma('drive.n.01.drive'),\n",
       " Lemma('drive.n.01.thrust'),\n",
       " Lemma('drive.n.01.driving_force')]"
      ]
     },
     "execution_count": 24,
     "metadata": {},
     "output_type": "execute_result"
    }
   ],
   "source": [
    "wordnet.synset('drive.n.01').lemmas()"
   ]
  },
  {
   "cell_type": "code",
   "execution_count": 25,
   "id": "74e32566",
   "metadata": {},
   "outputs": [
    {
     "data": {
      "text/plain": [
       "[Synset('drive.v.01'),\n",
       " Synset('drive.v.02'),\n",
       " Synset('drive.v.03'),\n",
       " Synset('force.v.06'),\n",
       " Synset('drive.v.05'),\n",
       " Synset('repel.v.01'),\n",
       " Synset('drive.v.07'),\n",
       " Synset('drive.v.08'),\n",
       " Synset('drive.v.09'),\n",
       " Synset('tug.v.02'),\n",
       " Synset('drive.v.11'),\n",
       " Synset('drive.v.12'),\n",
       " Synset('drive.v.13'),\n",
       " Synset('drive.v.14'),\n",
       " Synset('drive.v.15'),\n",
       " Synset('drive.v.16'),\n",
       " Synset('drive.v.17'),\n",
       " Synset('drive.v.18'),\n",
       " Synset('drive.v.19'),\n",
       " Synset('drive.v.20'),\n",
       " Synset('drive.v.21'),\n",
       " Synset('drive.v.22')]"
      ]
     },
     "execution_count": 25,
     "metadata": {},
     "output_type": "execute_result"
    }
   ],
   "source": [
    "wordnet.synsets('drive', pos=wordnet.VERB)"
   ]
  },
  {
   "cell_type": "code",
   "execution_count": 26,
   "id": "94cf7848",
   "metadata": {},
   "outputs": [
    {
     "data": {
      "text/plain": [
       "['drive']"
      ]
     },
     "execution_count": 26,
     "metadata": {},
     "output_type": "execute_result"
    }
   ],
   "source": [
    "[str(lemma.name()) for lemma in wordnet.synset('drive.v.01').lemmas()]"
   ]
  },
  {
   "cell_type": "code",
   "execution_count": 27,
   "id": "a6b45473",
   "metadata": {},
   "outputs": [
    {
     "data": {
      "text/plain": [
       "['eng',\n",
       " 'als',\n",
       " 'arb',\n",
       " 'bul',\n",
       " 'cat',\n",
       " 'cmn',\n",
       " 'dan',\n",
       " 'ell',\n",
       " 'eus',\n",
       " 'fas',\n",
       " 'fin',\n",
       " 'fra',\n",
       " 'glg',\n",
       " 'heb',\n",
       " 'hrv',\n",
       " 'ind',\n",
       " 'ita',\n",
       " 'jpn',\n",
       " 'nld',\n",
       " 'nno',\n",
       " 'nob',\n",
       " 'pol',\n",
       " 'por',\n",
       " 'qcn',\n",
       " 'slv',\n",
       " 'spa',\n",
       " 'swe',\n",
       " 'tha',\n",
       " 'zsm']"
      ]
     },
     "execution_count": 27,
     "metadata": {},
     "output_type": "execute_result"
    }
   ],
   "source": [
    "wordnet.langs()"
   ]
  },
  {
   "cell_type": "code",
   "execution_count": 28,
   "id": "a15ed939",
   "metadata": {},
   "outputs": [
    {
     "data": {
      "text/plain": [
       "[Synset('drive.n.12'), Synset('drive.n.06')]"
      ]
     },
     "execution_count": 28,
     "metadata": {},
     "output_type": "execute_result"
    }
   ],
   "source": [
    "wordnet.synsets('drive', lang='cat')"
   ]
  },
  {
   "cell_type": "code",
   "execution_count": 29,
   "id": "5cdb07a1",
   "metadata": {},
   "outputs": [
    {
     "data": {
      "text/plain": [
       "['drive']"
      ]
     },
     "execution_count": 29,
     "metadata": {},
     "output_type": "execute_result"
    }
   ],
   "source": [
    "wordnet.synset('drive.n.12').lemma_names('cat')"
   ]
  },
  {
   "cell_type": "markdown",
   "id": "786bd2db",
   "metadata": {},
   "source": [
    "# Relationships"
   ]
  },
  {
   "cell_type": "code",
   "execution_count": 30,
   "id": "fb0dc16f",
   "metadata": {},
   "outputs": [
    {
     "name": "stdout",
     "output_type": "stream",
     "text": [
      "Synset('car.n.01')\n",
      "a motor vehicle with four wheels; usually propelled by an internal combustion engine\n",
      "['he needs a car to get to work']\n",
      "----------\n",
      "Synset('car.n.02')\n",
      "a wheeled vehicle adapted to the rails of railroad\n",
      "['three cars had jumped the rails']\n",
      "----------\n",
      "Synset('car.n.03')\n",
      "the compartment that is suspended from an airship and that carries personnel and the cargo and the power plant\n",
      "[]\n",
      "----------\n",
      "Synset('car.n.04')\n",
      "where passengers ride up and down\n",
      "['the car was on the top floor']\n",
      "----------\n",
      "Synset('cable_car.n.01')\n",
      "a conveyance for passengers or freight on a cable railway\n",
      "['they took a cable car to the top of the mountain']\n",
      "----------\n"
     ]
    }
   ],
   "source": [
    "for sense in wordnet.synsets('car'):\n",
    "    print(sense)\n",
    "    print(sense.definition())\n",
    "    print(sense.examples())\n",
    "    print(\"-\"*10)"
   ]
  },
  {
   "cell_type": "code",
   "execution_count": 31,
   "id": "0b50cc59",
   "metadata": {},
   "outputs": [],
   "source": [
    "car = wordnet.synset('car.n.01')"
   ]
  },
  {
   "cell_type": "code",
   "execution_count": 32,
   "id": "fbdf48e2",
   "metadata": {},
   "outputs": [
    {
     "data": {
      "text/plain": [
       "[Synset('motor_vehicle.n.01')]"
      ]
     },
     "execution_count": 32,
     "metadata": {},
     "output_type": "execute_result"
    }
   ],
   "source": [
    "car.hypernyms()"
   ]
  },
  {
   "cell_type": "code",
   "execution_count": 33,
   "id": "d3aa35b6",
   "metadata": {},
   "outputs": [
    {
     "data": {
      "text/plain": [
       "[Synset('ambulance.n.01'),\n",
       " Synset('beach_wagon.n.01'),\n",
       " Synset('bus.n.04'),\n",
       " Synset('cab.n.03'),\n",
       " Synset('compact.n.03'),\n",
       " Synset('convertible.n.01'),\n",
       " Synset('coupe.n.01'),\n",
       " Synset('cruiser.n.01'),\n",
       " Synset('electric.n.01'),\n",
       " Synset('gas_guzzler.n.01'),\n",
       " Synset('hardtop.n.01'),\n",
       " Synset('hatchback.n.01'),\n",
       " Synset('horseless_carriage.n.01'),\n",
       " Synset('hot_rod.n.01'),\n",
       " Synset('jeep.n.01'),\n",
       " Synset('limousine.n.01'),\n",
       " Synset('loaner.n.02'),\n",
       " Synset('minicar.n.01'),\n",
       " Synset('minivan.n.01'),\n",
       " Synset('model_t.n.01'),\n",
       " Synset('pace_car.n.01'),\n",
       " Synset('racer.n.02'),\n",
       " Synset('roadster.n.01'),\n",
       " Synset('sedan.n.01'),\n",
       " Synset('sport_utility.n.01'),\n",
       " Synset('sports_car.n.01'),\n",
       " Synset('stanley_steamer.n.01'),\n",
       " Synset('stock_car.n.01'),\n",
       " Synset('subcompact.n.01'),\n",
       " Synset('touring_car.n.01'),\n",
       " Synset('used-car.n.01')]"
      ]
     },
     "execution_count": 33,
     "metadata": {},
     "output_type": "execute_result"
    }
   ],
   "source": [
    "#https://en.wikipedia.org/wiki/Hyponymy_and_hypernymy\n",
    "car.hyponyms()"
   ]
  },
  {
   "cell_type": "code",
   "execution_count": 34,
   "id": "a587550a",
   "metadata": {},
   "outputs": [
    {
     "data": {
      "text/plain": [
       "[]"
      ]
     },
     "execution_count": 34,
     "metadata": {},
     "output_type": "execute_result"
    }
   ],
   "source": [
    "car.member_holonyms()"
   ]
  },
  {
   "cell_type": "code",
   "execution_count": 35,
   "id": "8e4a97ac",
   "metadata": {},
   "outputs": [
    {
     "data": {
      "text/plain": [
       "[Synset('serpentes.n.01')]"
      ]
     },
     "execution_count": 35,
     "metadata": {},
     "output_type": "execute_result"
    }
   ],
   "source": [
    "snake = wordnet.synset('snake.n.01')\n",
    "snake.member_holonyms()"
   ]
  },
  {
   "cell_type": "code",
   "execution_count": 36,
   "id": "d93a8144",
   "metadata": {},
   "outputs": [
    {
     "data": {
      "text/plain": [
       "[Synset('entity.n.01')]"
      ]
     },
     "execution_count": 36,
     "metadata": {},
     "output_type": "execute_result"
    }
   ],
   "source": [
    "car.root_hypernyms()"
   ]
  },
  {
   "cell_type": "code",
   "execution_count": 37,
   "id": "9d36e20b",
   "metadata": {},
   "outputs": [
    {
     "data": {
      "text/plain": [
       "[Synset('entity.n.01')]"
      ]
     },
     "execution_count": 37,
     "metadata": {},
     "output_type": "execute_result"
    }
   ],
   "source": [
    "snake.root_hypernyms()"
   ]
  },
  {
   "cell_type": "code",
   "execution_count": 38,
   "id": "06262525",
   "metadata": {},
   "outputs": [
    {
     "data": {
      "text/plain": [
       "[Lemma('black.a.01.black')]"
      ]
     },
     "execution_count": 38,
     "metadata": {},
     "output_type": "execute_result"
    }
   ],
   "source": [
    "wordnet.synset('white.a.01').lemmas()[0].antonyms()"
   ]
  },
  {
   "cell_type": "markdown",
   "id": "3f8c7764",
   "metadata": {},
   "source": [
    "# Morphological Analysis and Lemmatization"
   ]
  },
  {
   "cell_type": "code",
   "execution_count": 39,
   "id": "5ca5a9d8",
   "metadata": {},
   "outputs": [
    {
     "data": {
      "text/plain": [
       "'call'"
      ]
     },
     "execution_count": 39,
     "metadata": {},
     "output_type": "execute_result"
    }
   ],
   "source": [
    "wordnet.morphy('calls', wordnet.NOUN)"
   ]
  },
  {
   "cell_type": "markdown",
   "id": "a4c0a897",
   "metadata": {},
   "source": [
    "# Activity\n",
    "- Find all hypernyms (hiperonimos) de mouse and car."
   ]
  },
  {
   "cell_type": "code",
   "execution_count": 75,
   "metadata": {},
   "outputs": [],
   "source": [
    "def getAllhypernymsOsSynset(synset):\n",
    "  synsetHypernyms = synset.hypernyms()\n",
    "  if len(synsetHypernyms) == 0:\n",
    "    return []\n",
    "\n",
    "  allSynsetHypernyms = []\n",
    "  for hypernym in synsetHypernyms:\n",
    "    allSynsetHypernyms = allSynsetHypernyms + getAllhypernymsOsSynset(hypernym)\n",
    "\n",
    "  return synsetHypernyms + allSynsetHypernyms\n",
    "\n",
    "def getAllhypernyms(itemName):\n",
    "  allItemHypernyms = []\n",
    "  for synset in wordnet.synsets(itemName):\n",
    "    allItemHypernyms = allItemHypernyms + getAllhypernymsOsSynset(synset)\n",
    "  \n",
    "  return allItemHypernyms"
   ]
  },
  {
   "cell_type": "code",
   "execution_count": 76,
   "id": "f6cfe29e",
   "metadata": {},
   "outputs": [
    {
     "data": {
      "text/plain": [
       "[Synset('entity.n.01'),\n",
       " Synset('instrumentality.n.03'),\n",
       " Synset('physical_entity.n.01'),\n",
       " Synset('object.n.01'),\n",
       " Synset('artifact.n.01'),\n",
       " Synset('whole.n.02')]"
      ]
     },
     "execution_count": 76,
     "metadata": {},
     "output_type": "execute_result"
    }
   ],
   "source": [
    "allCarHypernym = getAllhypernyms('car')\n",
    "allMouseHypernym = getAllhypernyms('mouse')\n",
    "\n",
    "list(set(allCarHypernym) & set(allMouseHypernym))"
   ]
  }
 ],
 "metadata": {
  "kernelspec": {
   "display_name": "MyPy397",
   "language": "python",
   "name": "mypy397"
  },
  "language_info": {
   "codemirror_mode": {
    "name": "ipython",
    "version": 3
   },
   "file_extension": ".py",
   "mimetype": "text/x-python",
   "name": "python",
   "nbconvert_exporter": "python",
   "pygments_lexer": "ipython3",
   "version": "3.9.7"
  }
 },
 "nbformat": 4,
 "nbformat_minor": 5
}
