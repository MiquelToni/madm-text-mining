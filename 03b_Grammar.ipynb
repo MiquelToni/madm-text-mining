{
 "cells": [
  {
   "cell_type": "markdown",
   "id": "49ba246d",
   "metadata": {},
   "source": [
    "# Grammar dependency notebook\n",
    "Authors\n",
    "https://towardsdatascience.com/natural-language-processing-dependency-parsing-cf094bbbe3f7"
   ]
  },
  {
   "cell_type": "code",
   "execution_count": null,
   "id": "59d6c38a",
   "metadata": {},
   "outputs": [],
   "source": [
    "!curl https://downloads.cs.stanford.edu/nlp/software/stanford-corenlp-4.2.2.zip -o stanford-corenlp-4.2.2.zip \n",
    "!curl https://downloads.cs.stanford.edu/nlp/software/stanford-corenlp-4.2.2-models-english.jar -o stanford-corenlp-4.2.2-models-english.jar\n",
    "!unzip stanford-corenlp-4.2.2.zip "
   ]
  },
  {
   "cell_type": "code",
   "execution_count": 16,
   "id": "36f3c398",
   "metadata": {},
   "outputs": [],
   "source": [
    "# https://web.stanford.edu/~jurafsky/slp3/14.pdf\n",
    "# https://stanfordnlp.github.io/CoreNLP/index.html    \n",
    "from nltk.parse import DependencyGraph,ProjectiveDependencyParser,NonprojectiveDependencyParser\n",
    "from nltk import word_tokenize\n",
    "from nltk.parse.stanford import StanfordDependencyParser\n",
    "from nltk.parse.corenlp import CoreNLPServer"
   ]
  },
  {
   "cell_type": "code",
   "execution_count": 17,
   "id": "8edbd048",
   "metadata": {},
   "outputs": [
    {
     "name": "stderr",
     "output_type": "stream",
     "text": [
      "/var/folders/hd/b3xdbhj91fj7d7_gq2f0v1h40000gn/T/ipykernel_39463/1623245449.py:6: DeprecationWarning: The StanfordDependencyParser will be deprecated\n",
      "Please use \u001b[91mnltk.parse.corenlp.CoreNLPDependencyParser\u001b[0m instead.\n",
      "  parser = StanfordDependencyParser(path_to_jar = jar_path, path_to_models_jar = models_jar_path)\n"
     ]
    },
    {
     "name": "stdout",
     "output_type": "stream",
     "text": [
      "Head            | Head POS   | Relation   | Dependent       | Dependent POS\n",
      "---------------------------------------------------------------------------\n",
      "tree            | NN         | nsubj      | monkey          | NN        \n",
      "monkey          | NN         | det        | The             | DT        \n",
      "tree            | NN         | cop        | is              | VBZ       \n",
      "tree            | NN         | case       | in              | IN        \n",
      "tree            | NN         | det        | the             | DT        \n"
     ]
    }
   ],
   "source": [
    "# Paths to CoreNLP jar unzipped and model jar\n",
    "jar_path = 'stanford-corenlp-4.2.2/stanford-corenlp-4.2.2.jar'\n",
    "models_jar_path = 'stanford-corenlp-4.2.2-models-english.jar'\n",
    "\n",
    "# Initialize StanfordDependency Parser from the path\n",
    "parser = StanfordDependencyParser(path_to_jar = jar_path, path_to_models_jar = models_jar_path)\n",
    "\n",
    "\n",
    "\n",
    "# Parse the sentence\n",
    "text = 'The monkey is in the tree'\n",
    "\n",
    "result = parser.raw_parse(text)\n",
    "dependency = result.__next__()\n",
    "\n",
    "\n",
    "print (\"{:<15} | {:<10} | {:<10} | {:<15} | {:<10}\".format('Head', 'Head POS','Relation','Dependent', 'Dependent POS'))\n",
    "print (\"-\" * 75)\n",
    "  \n",
    "# Use dependency.triples() to extract the dependency triples in the form\n",
    "# ((head word, head POS), relation, (dependent word, dependent POS))  \n",
    "for dep in list(dependency.triples()):\n",
    "  print (\"{:<15} | {:<10} | {:<10} | {:<15} | {:<10}\"\n",
    "         .format(str(dep[0][0]),str(dep[0][1]), str(dep[1]), str(dep[2][0]),str(dep[2][1])))"
   ]
  },
  {
   "cell_type": "code",
   "execution_count": 18,
   "id": "c1bec677",
   "metadata": {},
   "outputs": [
    {
     "data": {
      "image/png": "[encoded data removed]",
      "text/plain": [
       "<Figure size 432x288 with 1 Axes>"
      ]
     },
     "metadata": {},
     "output_type": "display_data"
    }
   ],
   "source": [
    "import networkx as nx\n",
    "import matplotlib.pyplot as plt\n",
    "\n",
    "G = dependency.nx_graph().reverse()\n",
    "\n",
    "words = text.split(\" \")\n",
    "labels = {index + 1: words[index] for index in range(len(words))}\n",
    "nx.draw(G, with_labels=True, labels=labels, node_size=2500, node_color='#B5EAD7', font_size=10)"
   ]
  },
  {
   "cell_type": "code",
   "execution_count": null,
   "id": "acf83941",
   "metadata": {},
   "outputs": [],
   "source": []
  }
 ],
 "metadata": {
  "kernelspec": {
   "display_name": "MyPy397",
   "language": "python",
   "name": "mypy397"
  },
  "language_info": {
   "codemirror_mode": {
    "name": "ipython",
    "version": 3
   },
   "file_extension": ".py",
   "mimetype": "text/x-python",
   "name": "python",
   "nbconvert_exporter": "python",
   "pygments_lexer": "ipython3",
   "version": "3.9.7"
  }
 },
 "nbformat": 4,
 "nbformat_minor": 5
}
