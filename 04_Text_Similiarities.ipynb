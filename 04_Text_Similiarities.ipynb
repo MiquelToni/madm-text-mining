{
 "cells": [
  {
   "cell_type": "code",
   "execution_count": 8,
   "id": "a5155ff1",
   "metadata": {},
   "outputs": [
    {
     "name": "stderr",
     "output_type": "stream",
     "text": [
      "[nltk_data] Downloading package punkt to /Users/isaaclera/nltk_data...\n",
      "[nltk_data]   Package punkt is already up-to-date!\n"
     ]
    },
    {
     "data": {
      "text/plain": [
       "True"
      ]
     },
     "execution_count": 8,
     "metadata": {},
     "output_type": "execute_result"
    }
   ],
   "source": [
    "import nltk\n",
    "nltk.download('punkt')"
   ]
  },
  {
   "cell_type": "code",
   "execution_count": 9,
   "id": "de16afa7",
   "metadata": {},
   "outputs": [],
   "source": [
    "from nltk import word_tokenize"
   ]
  },
  {
   "cell_type": "code",
   "execution_count": 11,
   "id": "38b1f4d0",
   "metadata": {},
   "outputs": [
    {
     "name": "stdout",
     "output_type": "stream",
     "text": [
      "{'desistir', 'para', 'trastorno', 'hacer', 'puedo', 'bipolar', 'Me', 'deprimí', 'tiempo', 'imaginar', 'por', 'siento', 'un', 'Y', 'soy', 'Razones', '¿Qué', 'venido', 'he', 'dicen', 'Psicoanalistas', 'interrumpir', 'Solo', 'a', 'preguntar', 'Lo', 'Con', 'mejorar', 'que', 'infeliz', '?'}\n"
     ]
    }
   ],
   "source": [
    "text1 = \"Lo siento por interrumpir Solo he venido a preguntar Me dicen que soy infeliz ¿Qué puedo hacer por mejorar? Psicoanalistas deprimí Con un trastorno bipolar Razones para desistir Y tiempo para imaginar\"\n",
    "tokens1 = set(word_tokenize(text1))\n",
    "print(tokens1)"
   ]
  },
  {
   "cell_type": "code",
   "execution_count": 12,
   "id": "7a506360",
   "metadata": {},
   "outputs": [
    {
     "name": "stdout",
     "output_type": "stream",
     "text": [
      "{'para', 'Alicia', 'llegar', 'otros', 'miedo', 'enseñaron', ',', 'tras', 'horas', 'El', 'ciudad', 'Se', 'pálidas', 'marcharse', 'el', 'corría', 'unos', 'fue', 'de', 'le', 'y', 'Él', 'luces', 'Igual', 'sin', 'nunca', 'huía', 'vienen', 'espejismos', 'andar', 'a', 'se', 'Aeropuertos', 'van', 'Ella', 'valor', 'que', 'más'}\n"
     ]
    }
   ],
   "source": [
    "text2 = \"Él corría, nunca le enseñaron a andar Se fue tras luces pálidas Ella huía de espejismos y horas de más Aeropuertos, unos vienen, otros se van Igual que Alicia sin ciudad El valor para marcharse, el miedo a llegar\"\n",
    "tokens2 = set(word_tokenize(text2))\n",
    "print(tokens2)"
   ]
  },
  {
   "cell_type": "code",
   "execution_count": 13,
   "id": "2841aee5",
   "metadata": {},
   "outputs": [
    {
     "name": "stdout",
     "output_type": "stream",
     "text": [
      "{'para', 'que', 'a'}\n"
     ]
    }
   ],
   "source": [
    "print(set.intersection(tokens1, tokens2))"
   ]
  },
  {
   "cell_type": "code",
   "execution_count": 14,
   "id": "d0f8f913",
   "metadata": {},
   "outputs": [
    {
     "name": "stdout",
     "output_type": "stream",
     "text": [
      "0.045454545454545456\n"
     ]
    }
   ],
   "source": [
    "lenIntersect = len(set.intersection(tokens1, tokens2))\n",
    "lenUnion = len(set.union(tokens1, tokens2))\n",
    "\n",
    "print(lenIntersect / lenUnion)"
   ]
  },
  {
   "cell_type": "code",
   "execution_count": null,
   "id": "feeadbcb",
   "metadata": {},
   "outputs": [],
   "source": []
  }
 ],
 "metadata": {
  "kernelspec": {
   "display_name": "MyPy397",
   "language": "python",
   "name": "mypy397"
  },
  "language_info": {
   "codemirror_mode": {
    "name": "ipython",
    "version": 3
   },
   "file_extension": ".py",
   "mimetype": "text/x-python",
   "name": "python",
   "nbconvert_exporter": "python",
   "pygments_lexer": "ipython3",
   "version": "3.9.7"
  }
 },
 "nbformat": 4,
 "nbformat_minor": 5
}
