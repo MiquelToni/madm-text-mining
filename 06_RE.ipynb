{
 "cells": [
  {
   "cell_type": "code",
   "execution_count": null,
   "id": "b5696ffa",
   "metadata": {},
   "outputs": [],
   "source": [
    "# String type provides some basic functions to manipulate it or to find patterns in text\n",
    "# https://docs.python.org/3/library/stdtypes.html#string-methods\n",
    "    \n",
    "text = \"Qui dubta d'en Clint Eastwood Mirant el Gran Canyon del Colorado\"\n",
    "print(type(text))"
   ]
  },
  {
   "cell_type": "code",
   "execution_count": null,
   "id": "c2e465de",
   "metadata": {},
   "outputs": [],
   "source": [
    "\"en\" in text"
   ]
  },
  {
   "cell_type": "code",
   "execution_count": null,
   "id": "8a48ad8a",
   "metadata": {},
   "outputs": [],
   "source": [
    "text.capitalize()"
   ]
  },
  {
   "cell_type": "code",
   "execution_count": null,
   "id": "5d8686ad",
   "metadata": {},
   "outputs": [],
   "source": [
    "text.count(\"el\")"
   ]
  },
  {
   "cell_type": "code",
   "execution_count": null,
   "id": "1fc05ff9",
   "metadata": {},
   "outputs": [],
   "source": [
    "text.endswith(\"rado\")"
   ]
  },
  {
   "cell_type": "code",
   "execution_count": null,
   "id": "ff4d98d8",
   "metadata": {},
   "outputs": [],
   "source": [
    "text.find(\"el\")"
   ]
  },
  {
   "cell_type": "code",
   "execution_count": null,
   "id": "98b7ce75",
   "metadata": {},
   "outputs": [],
   "source": [
    "text[37:] #Slicing"
   ]
  },
  {
   "cell_type": "code",
   "execution_count": null,
   "id": "62822e47",
   "metadata": {},
   "outputs": [],
   "source": [
    "text[37:39]"
   ]
  },
  {
   "cell_type": "code",
   "execution_count": null,
   "id": "c2b2b0bb",
   "metadata": {},
   "outputs": [],
   "source": [
    "text.index(\"el\")"
   ]
  },
  {
   "cell_type": "code",
   "execution_count": null,
   "id": "6c07a21d",
   "metadata": {},
   "outputs": [],
   "source": [
    "text.replace(\"Clint Eastwood\",\"Pep\")"
   ]
  },
  {
   "cell_type": "code",
   "execution_count": null,
   "id": "3ca8d198",
   "metadata": {},
   "outputs": [],
   "source": [
    "text.replace(\"e\",\"a\").replace(\"i\",\"a\").replace(\"o\",\"a\").replace(\"u\",\"a\")"
   ]
  },
  {
   "cell_type": "code",
   "execution_count": null,
   "id": "1883591c",
   "metadata": {},
   "outputs": [],
   "source": [
    "text.split(\" \")"
   ]
  },
  {
   "cell_type": "code",
   "execution_count": null,
   "id": "7597fd1a",
   "metadata": {},
   "outputs": [],
   "source": [
    "text.split(\"d\")"
   ]
  },
  {
   "cell_type": "code",
   "execution_count": null,
   "id": "f4c30f34",
   "metadata": {},
   "outputs": [],
   "source": [
    "text.removesuffix('Colorado')"
   ]
  },
  {
   "cell_type": "code",
   "execution_count": null,
   "id": "1a7f50f3",
   "metadata": {},
   "outputs": [],
   "source": [
    "text.replace('Colorado',\"\") #Best"
   ]
  },
  {
   "cell_type": "markdown",
   "id": "73a93db6",
   "metadata": {},
   "source": [
    "### UNICODE\n",
    "https://docs.python.org/3/howto/unicode.html\n",
    "\n",
    "And Character encoding: \n",
    "https://en.wikipedia.org/wiki/Character_encoding\n",
    "\n",
    "https://en.wikipedia.org/wiki/Character_encoding#Common_character_encodings"
   ]
  },
  {
   "cell_type": "code",
   "execution_count": null,
   "id": "d5707612",
   "metadata": {},
   "outputs": [],
   "source": [
    "#Note: by google translate \n",
    "text1 = \"Qui doute de Clint Eastwood regardant le Grand Canyon du Colorado\"\n",
    "text2 = \"Кто сомневается в том, что Клинт Иствуд смотрит на Гранд-Каньон Колорадо\"\n",
    "text3 = \"谁怀疑克林特伊斯特伍德在科罗拉多大峡谷\"\n",
    "print(text2)\n",
    "print(text3)"
   ]
  },
  {
   "cell_type": "code",
   "execution_count": null,
   "id": "05be30c5",
   "metadata": {},
   "outputs": [],
   "source": [
    "text2.split(\" \")"
   ]
  },
  {
   "cell_type": "code",
   "execution_count": null,
   "id": "f5e5df91",
   "metadata": {},
   "outputs": [],
   "source": [
    "text3.split(\" \")"
   ]
  },
  {
   "cell_type": "code",
   "execution_count": null,
   "id": "7763901e",
   "metadata": {},
   "outputs": [],
   "source": [
    "unicode_string = \"\\u2665\"\n",
    "print(unicode_string)"
   ]
  },
  {
   "cell_type": "code",
   "execution_count": null,
   "id": "247ae668",
   "metadata": {},
   "outputs": [],
   "source": [
    "textb = \"the track is blue\"\n",
    "texto = \"el camión es azul\"\n",
    "text  = \"el camiò és blau\"\n",
    "print(textb)\n",
    "print(texto)\n",
    "print(text)\n",
    "print(type(text))"
   ]
  },
  {
   "cell_type": "code",
   "execution_count": null,
   "id": "ce13e6c7",
   "metadata": {},
   "outputs": [],
   "source": [
    "print(texto.encode(\"unicode_escape\"))"
   ]
  },
  {
   "cell_type": "code",
   "execution_count": null,
   "id": "18888226",
   "metadata": {},
   "outputs": [],
   "source": [
    "print(texto.encode(\"unicode_escape\").decode())"
   ]
  },
  {
   "cell_type": "code",
   "execution_count": null,
   "id": "ede55ae7",
   "metadata": {},
   "outputs": [],
   "source": [
    "print(texto.encode(\"cp1250\"))"
   ]
  },
  {
   "cell_type": "code",
   "execution_count": null,
   "id": "e5f20961",
   "metadata": {},
   "outputs": [],
   "source": [
    "print(texto.encode(\"cp1250\").decode())"
   ]
  },
  {
   "cell_type": "code",
   "execution_count": null,
   "id": "737ead3b",
   "metadata": {},
   "outputs": [],
   "source": [
    "print(texto.encode(\"ISO-8859-1\"))"
   ]
  },
  {
   "cell_type": "code",
   "execution_count": null,
   "id": "971f48b7",
   "metadata": {},
   "outputs": [],
   "source": [
    "text = \"el cami\\xf3n es azul\"\n",
    "print(text)\n",
    "text.find(\"camión\")"
   ]
  },
  {
   "cell_type": "code",
   "execution_count": null,
   "id": "73f9cfe1",
   "metadata": {},
   "outputs": [],
   "source": [
    "u = 'wãąską'\n",
    "uu = u.encode('utf8')\n",
    "print(u)\n",
    "print(uu)"
   ]
  },
  {
   "cell_type": "code",
   "execution_count": null,
   "id": "f88c1ab9",
   "metadata": {},
   "outputs": [],
   "source": [
    "!echo \"wãąską el cami\\xf3n es azul Кто сомневается в том \" >> text_test.txt"
   ]
  },
  {
   "cell_type": "code",
   "execution_count": null,
   "id": "2b5351fb",
   "metadata": {},
   "outputs": [],
   "source": [
    "file = open(\"text_test.txt\")\n",
    "print(file.readlines())"
   ]
  },
  {
   "cell_type": "code",
   "execution_count": null,
   "id": "e4474e75",
   "metadata": {},
   "outputs": [],
   "source": [
    "utf8_file = open(\"text_test.txt\", encoding=\"UTF-8\")\n",
    "print(utf8_file.readlines())"
   ]
  },
  {
   "cell_type": "code",
   "execution_count": null,
   "id": "595c3ed8",
   "metadata": {},
   "outputs": [],
   "source": [
    "['ascii',\n",
    " 'big5',\n",
    " 'big5hkscs',\n",
    " 'cp037',\n",
    " 'cp273',\n",
    " 'cp424',\n",
    " 'cp437',\n",
    " 'cp500',\n",
    " 'cp720',\n",
    " 'cp737',\n",
    " 'cp775',\n",
    " 'cp850',\n",
    " 'cp852',\n",
    " 'cp855',\n",
    " 'cp856',\n",
    " 'cp857',\n",
    " 'cp858',\n",
    " 'cp860',\n",
    " 'cp861',\n",
    " 'cp862',\n",
    " 'cp863',\n",
    " 'cp864',\n",
    " 'cp865',\n",
    " 'cp866',\n",
    " 'cp869',\n",
    " 'cp874',\n",
    " 'cp875',\n",
    " 'cp932',\n",
    " 'cp949',\n",
    " 'cp950',\n",
    " 'cp1006',\n",
    " 'cp1026',\n",
    " 'cp1125',\n",
    " 'cp1140',\n",
    " 'cp1250',\n",
    " 'cp1251',\n",
    " 'cp1252',\n",
    " 'cp1253',\n",
    " 'cp1254',\n",
    " 'cp1255',\n",
    " 'cp1256',\n",
    " 'cp1257',\n",
    " 'cp1258',\n",
    " 'cp65001',\n",
    " 'euc_jp',\n",
    " 'euc_jis_2004',\n",
    " 'euc_jisx0213',\n",
    " 'euc_kr',\n",
    " 'gb2312',\n",
    " 'gbk',\n",
    " 'gb18030',\n",
    " 'hz',\n",
    " 'iso2022_jp',\n",
    " 'iso2022_jp_1',\n",
    " 'iso2022_jp_2',\n",
    " 'iso2022_jp_2004',\n",
    " 'iso2022_jp_3',\n",
    " 'iso2022_jp_ext',\n",
    " 'iso2022_kr',\n",
    " 'latin_1',\n",
    " 'iso8859_2',\n",
    " 'iso8859_3',\n",
    " 'iso8859_4',\n",
    " 'iso8859_5',\n",
    " 'iso8859_6',\n",
    " 'iso8859_7',\n",
    " 'iso8859_8',\n",
    " 'iso8859_9',\n",
    " 'iso8859_10',\n",
    " 'iso8859_11',\n",
    " 'iso8859_13',\n",
    " 'iso8859_14',\n",
    " 'iso8859_15',\n",
    " 'iso8859_16',\n",
    " 'johab',\n",
    " 'koi8_r',\n",
    " 'koi8_t',\n",
    " 'koi8_u',\n",
    " 'kz1048',\n",
    " 'mac_cyrillic',\n",
    " 'mac_greek',\n",
    " 'mac_iceland',\n",
    " 'mac_latin2',\n",
    " 'mac_roman',\n",
    " 'mac_turkish',\n",
    " 'ptcp154',\n",
    " 'shift_jis',\n",
    " 'shift_jis_2004',\n",
    " 'shift_jisx0213',\n",
    " 'utf_32',\n",
    " 'utf_32_be',\n",
    " 'utf_32_le',\n",
    " 'utf_16',\n",
    " 'utf_16_be',\n",
    " 'utf_16_le',\n",
    " 'utf_7',\n",
    " 'utf_8',\n",
    " 'utf_8_sig']"
   ]
  },
  {
   "cell_type": "code",
   "execution_count": null,
   "id": "3e142ac7",
   "metadata": {},
   "outputs": [],
   "source": [
    "file = open(\"text_test.txt\", encoding=\"mac_roman\")\n",
    "print(file.readlines())\n",
    "file = open(\"text_test.txt\", encoding=\"latin_1\")\n",
    "print(file.readlines())\n",
    "file = open(\"text_test.txt\", encoding=\"iso8859_11\")\n",
    "print(file.readlines())\n",
    "file = open(\"text_test.txt\", encoding=\"iso8859_11\")\n",
    "print(file.readlines())"
   ]
  },
  {
   "cell_type": "code",
   "execution_count": null,
   "id": "492d0f8a",
   "metadata": {},
   "outputs": [],
   "source": [
    "!cat text_test.txt"
   ]
  },
  {
   "cell_type": "code",
   "execution_count": null,
   "id": "7ddae977",
   "metadata": {},
   "outputs": [],
   "source": [
    "import locale\n",
    "locale.getdefaultlocale()"
   ]
  },
  {
   "cell_type": "markdown",
   "id": "251c68e2",
   "metadata": {},
   "source": [
    "# RE"
   ]
  },
  {
   "cell_type": "code",
   "execution_count": null,
   "id": "cfa1131a",
   "metadata": {},
   "outputs": [],
   "source": [
    "import re"
   ]
  },
  {
   "cell_type": "code",
   "execution_count": null,
   "id": "691d9e1f",
   "metadata": {},
   "outputs": [],
   "source": [
    "text = \"Qui dubta d'en Clint Eastwood mirant en el Gran Canyon el Gran Colorado\"\n",
    "items = re.search(r'el',text)\n",
    "print(items)\n",
    "print(bool(items))"
   ]
  },
  {
   "cell_type": "code",
   "execution_count": null,
   "id": "17371572",
   "metadata": {},
   "outputs": [],
   "source": [
    "tokens = text.split(\" \")\n",
    "print(tokens)\n",
    "[w for w in tokens if re.search(r'i',w)]"
   ]
  },
  {
   "cell_type": "markdown",
   "id": "031db68c",
   "metadata": {},
   "source": [
    "### Compiling RE"
   ]
  },
  {
   "cell_type": "code",
   "execution_count": null,
   "id": "d2d621ec",
   "metadata": {},
   "outputs": [],
   "source": [
    "clint = re.compile(r\"Clint\")\n",
    "print(type(clint))"
   ]
  },
  {
   "cell_type": "code",
   "execution_count": null,
   "id": "63ccb36f",
   "metadata": {},
   "outputs": [],
   "source": [
    "clint.search(text)"
   ]
  },
  {
   "cell_type": "markdown",
   "id": "b78ae84a",
   "metadata": {},
   "source": [
    "### <span style=\"color:red\"> Activity 1</span>\n",
    "Print all lines that NOT contains the city name of \"Paris\""
   ]
  },
  {
   "cell_type": "code",
   "execution_count": null,
   "id": "720296d2",
   "metadata": {},
   "outputs": [],
   "source": [
    "opinions = [\"Paris es grande\",\"Roma es azul\",\"Madrid es cuadrada\",\"paris es glamour\"]"
   ]
  },
  {
   "cell_type": "markdown",
   "id": "c58f0b5b",
   "metadata": {},
   "source": [
    "## Anchors"
   ]
  },
  {
   "cell_type": "markdown",
   "id": "3b6b338a",
   "metadata": {},
   "source": [
    "### Line anchors"
   ]
  },
  {
   "cell_type": "markdown",
   "id": "294f92d5",
   "metadata": {},
   "source": [
    "^ and $ "
   ]
  },
  {
   "cell_type": "code",
   "execution_count": null,
   "id": "2714f765",
   "metadata": {},
   "outputs": [],
   "source": [
    "pets = 'cat and dog'"
   ]
  },
  {
   "cell_type": "code",
   "execution_count": null,
   "id": "7789cc77",
   "metadata": {},
   "outputs": [],
   "source": [
    "bool(re.search(r\"^cat\",pets))"
   ]
  },
  {
   "cell_type": "code",
   "execution_count": null,
   "id": "3d34496a",
   "metadata": {},
   "outputs": [],
   "source": [
    "bool(re.search(r\"^dog\",pets))"
   ]
  },
  {
   "cell_type": "code",
   "execution_count": null,
   "id": "312e735e",
   "metadata": {},
   "outputs": [],
   "source": [
    "bool(re.search(r\"cat$\",pets))"
   ]
  },
  {
   "cell_type": "code",
   "execution_count": null,
   "id": "2aa74b60",
   "metadata": {},
   "outputs": [],
   "source": [
    "bool(re.search(r\"dog$\",pets))"
   ]
  },
  {
   "cell_type": "code",
   "execution_count": null,
   "id": "72087ed3",
   "metadata": {},
   "outputs": [],
   "source": [
    "bool(re.search(r'^top', 'hi hola\\ntop spot', flags=re.M))"
   ]
  },
  {
   "cell_type": "markdown",
   "id": "eeac06e0",
   "metadata": {},
   "source": [
    "### Word anchors\n",
    "\\b"
   ]
  },
  {
   "cell_type": "code",
   "execution_count": null,
   "id": "dcb897e8",
   "metadata": {},
   "outputs": [],
   "source": [
    "words = \"Hola hi olas caracola\""
   ]
  },
  {
   "cell_type": "code",
   "execution_count": null,
   "id": "9c19a039",
   "metadata": {},
   "outputs": [],
   "source": [
    "re.sub(r\"\\bola\",r\"X\",words)"
   ]
  },
  {
   "cell_type": "code",
   "execution_count": null,
   "id": "d27e722e",
   "metadata": {},
   "outputs": [],
   "source": [
    "re.sub(r\"ola\\b\",r\"X\",words)"
   ]
  },
  {
   "cell_type": "markdown",
   "id": "40b5e8b4",
   "metadata": {},
   "source": [
    "### <span style=\"color:red\"> Activity 2</span>\n",
    "Changes only word \"red\" to \"orange\""
   ]
  },
  {
   "cell_type": "code",
   "execution_count": null,
   "id": "f76b9924",
   "metadata": {},
   "outputs": [],
   "source": [
    "words = \"blue lightred red spread redeption remake redis\""
   ]
  },
  {
   "cell_type": "code",
   "execution_count": null,
   "id": "d3805ab3",
   "metadata": {},
   "outputs": [],
   "source": []
  },
  {
   "cell_type": "markdown",
   "id": "8c7d46c5",
   "metadata": {},
   "source": [
    "### <span style=\"color:red\"> Activity 3</span>\n",
    "Filter all elements that start with \"en\" or en with \"ing\""
   ]
  },
  {
   "cell_type": "code",
   "execution_count": null,
   "id": "8c30b348",
   "metadata": {},
   "outputs": [],
   "source": [
    "words = [\"reading\",\"english\",\"book\",\"enging\",\"beng\",\"boingo\"]"
   ]
  },
  {
   "cell_type": "code",
   "execution_count": null,
   "id": "f5ce6634",
   "metadata": {},
   "outputs": [],
   "source": []
  },
  {
   "cell_type": "markdown",
   "id": "8e068131",
   "metadata": {},
   "source": [
    "### Alterning and Grouping\n",
    "\n",
    "| and () "
   ]
  },
  {
   "cell_type": "code",
   "execution_count": null,
   "id": "eae2a4e6",
   "metadata": {},
   "outputs": [],
   "source": [
    "bool(re.search(r'cat|dog', 'I like cats'))"
   ]
  },
  {
   "cell_type": "code",
   "execution_count": null,
   "id": "2487e25a",
   "metadata": {},
   "outputs": [],
   "source": [
    "bool(re.search(r'cat|dog', 'I like tourtles'))"
   ]
  },
  {
   "cell_type": "code",
   "execution_count": null,
   "id": "5558d510",
   "metadata": {},
   "outputs": [],
   "source": [
    "re.sub(r'cat|dog', r'X', 'I like cats')"
   ]
  },
  {
   "cell_type": "code",
   "execution_count": null,
   "id": "395fa77b",
   "metadata": {},
   "outputs": [],
   "source": [
    "re.sub(r'(cat|dog)s', r'X', 'I like cats')"
   ]
  },
  {
   "cell_type": "markdown",
   "id": "24bcc67e",
   "metadata": {},
   "source": [
    "### Metacharacters"
   ]
  },
  {
   "cell_type": "code",
   "execution_count": null,
   "id": "4ce6303e",
   "metadata": {},
   "outputs": [],
   "source": [
    "text = \"la \\ estaba a un $ elevado ^2 (vaya locura)\""
   ]
  },
  {
   "cell_type": "code",
   "execution_count": null,
   "id": "afe657cb",
   "metadata": {},
   "outputs": [],
   "source": [
    "re.search(r\"\\\",text)"
   ]
  },
  {
   "cell_type": "code",
   "execution_count": null,
   "id": "bbada808",
   "metadata": {},
   "outputs": [],
   "source": [
    "re.search(r\"\\\\\",text)"
   ]
  },
  {
   "cell_type": "code",
   "execution_count": null,
   "id": "b41bfba1",
   "metadata": {},
   "outputs": [],
   "source": [
    "re.search(r\"(\",text)"
   ]
  },
  {
   "cell_type": "code",
   "execution_count": null,
   "id": "b6d4a325",
   "metadata": {},
   "outputs": [],
   "source": [
    "re.search(r\"\\(\",text)"
   ]
  },
  {
   "cell_type": "markdown",
   "id": "ebfd5469",
   "metadata": {},
   "source": [
    "? metacharacter which quantifies a character or group to match 0 or 1 times."
   ]
  },
  {
   "cell_type": "code",
   "execution_count": null,
   "id": "6106ebf8",
   "metadata": {},
   "outputs": [],
   "source": [
    "re.sub(r'l?ar', r'X', 'fast flatten fa far')"
   ]
  },
  {
   "cell_type": "code",
   "execution_count": null,
   "id": "645ac941",
   "metadata": {},
   "outputs": [],
   "source": [
    "re.sub(r'a?i', r'X', 'comio lamio mio aai ai i')"
   ]
  },
  {
   "cell_type": "code",
   "execution_count": null,
   "id": "15171ad4",
   "metadata": {},
   "outputs": [],
   "source": [
    "re.sub(r'par(en|ro)?t', r'X', 'par part parrot parent')"
   ]
  },
  {
   "cell_type": "markdown",
   "id": "14086562",
   "metadata": {},
   "source": [
    "\\* metacharacter quantifies a character or group to match 0 or more times."
   ]
  },
  {
   "cell_type": "code",
   "execution_count": null,
   "id": "ab9d6eb1",
   "metadata": {},
   "outputs": [],
   "source": [
    "re.sub(r'1*2', r'X', '31111111125111142')"
   ]
  },
  {
   "cell_type": "code",
   "execution_count": null,
   "id": "a6f6e8e2",
   "metadata": {},
   "outputs": [],
   "source": [
    "re.sub(r'1*2', r'X', '2 12 132 0123 1223 1322')\n",
    "#https://regex101.com/r/Rn7MtG/1"
   ]
  },
  {
   "cell_type": "code",
   "execution_count": null,
   "id": "cb176c7a",
   "metadata": {},
   "outputs": [],
   "source": [
    "re.sub(r'(ab){2}c', r'X', 'abc ababc abababc') #match exactly 2 times"
   ]
  },
  {
   "cell_type": "markdown",
   "id": "3d978bb1",
   "metadata": {},
   "source": [
    "### <span style=\"color:red\"> Activity 4</span>\n",
    "Correct the given RE to get the expected output."
   ]
  },
  {
   "cell_type": "code",
   "execution_count": null,
   "id": "4ece4c03",
   "metadata": {},
   "outputs": [],
   "source": [
    "words = 'plink incoming tint winter in caution sentient'\n",
    "\n",
    "change = re.compile(r'int|in|ion|ing|inco|inter|ink') # CHANGE!\n",
    "\n",
    "print(change.sub(r'X', words))\n",
    "\n",
    "#output: 'plX XmX tX wX X cautX sentient'"
   ]
  },
  {
   "cell_type": "markdown",
   "id": "d1b63505",
   "metadata": {},
   "source": [
    "### Working with match type"
   ]
  },
  {
   "cell_type": "code",
   "execution_count": null,
   "id": "347ee6d2",
   "metadata": {},
   "outputs": [],
   "source": [
    "text = \"07004 93093 07003 07122 09323\"\n",
    "m = re.search(r'07[0-9]{3}',text) #https://regex101.com/r/UM0TkF/1\n",
    "print(m)"
   ]
  },
  {
   "cell_type": "code",
   "execution_count": null,
   "id": "ac7283df",
   "metadata": {},
   "outputs": [],
   "source": [
    "m[0]"
   ]
  },
  {
   "cell_type": "code",
   "execution_count": null,
   "id": "d354b07f",
   "metadata": {},
   "outputs": [],
   "source": [
    "m.groups()"
   ]
  },
  {
   "cell_type": "code",
   "execution_count": null,
   "id": "9b1c81d4",
   "metadata": {},
   "outputs": [],
   "source": [
    "text = \"07004 93093 07003 07122 09323\"\n",
    "m = re.findall(r'07[0-9]{3}',text) #https://regex101.com/r/UM0TkF/1\n",
    "print(m)"
   ]
  },
  {
   "cell_type": "code",
   "execution_count": null,
   "id": "3c91eb71",
   "metadata": {},
   "outputs": [],
   "source": [
    "text = \"07004 93093 07003 07122 09323\"\n",
    "m = re.finditer(r'07[0-9]{3}',text) #https://regex101.com/r/UM0TkF/1\n",
    "print(m)"
   ]
  },
  {
   "cell_type": "code",
   "execution_count": null,
   "id": "6edb776b",
   "metadata": {},
   "outputs": [],
   "source": [
    "for i in m:\n",
    "    print(i)\n",
    "    print(i[0])"
   ]
  },
  {
   "cell_type": "markdown",
   "id": "906aebe6",
   "metadata": {},
   "source": [
    "### <span style=\"color:red\"> Activity 5</span>\n",
    "Find all ocurrences of 3 digits"
   ]
  },
  {
   "cell_type": "code",
   "execution_count": null,
   "id": "1bdb3915",
   "metadata": {},
   "outputs": [],
   "source": [
    "text = \"090 0932 0231 2 091 112 30 34 9\"\n",
    "\n",
    "#output: 090 091 112\n"
   ]
  },
  {
   "cell_type": "markdown",
   "id": "b8dc384e",
   "metadata": {},
   "source": [
    "### Chars "
   ]
  },
  {
   "cell_type": "markdown",
   "id": "9fe59347",
   "metadata": {},
   "source": [
    "\\w similar to   for matching word characters\n",
    "\\d similar to   for matching digit characters\n",
    "\\s similar to   for matching whitespace characters\n",
    "\\W , \\D , and \\S for their opposites respectively"
   ]
  },
  {
   "cell_type": "code",
   "execution_count": null,
   "id": "8497dc72",
   "metadata": {},
   "outputs": [],
   "source": [
    "words = 'link 4311D 0940$ 093.0 23 2021'\n",
    "re.findall(\"\\w\",words)"
   ]
  },
  {
   "cell_type": "code",
   "execution_count": null,
   "id": "704f8553",
   "metadata": {},
   "outputs": [],
   "source": [
    "words = 'plink incoming 4311D 0940$ 093.0 23 2021'\n",
    "re.findall(\"\\W\",words)"
   ]
  },
  {
   "cell_type": "code",
   "execution_count": null,
   "id": "db8090cf",
   "metadata": {},
   "outputs": [],
   "source": [
    "words = 'plink incoming 4311D 0940$ 093.0 23 2021'\n",
    "re.findall(\"\\d\",words)"
   ]
  },
  {
   "cell_type": "code",
   "execution_count": null,
   "id": "447d17f7",
   "metadata": {},
   "outputs": [],
   "source": [
    "words = 'plink incoming 4311D 0940$ 093.0 23 2021'\n",
    "re.findall(\"\\D\",words)"
   ]
  },
  {
   "cell_type": "code",
   "execution_count": null,
   "id": "7fc67f98",
   "metadata": {},
   "outputs": [],
   "source": [
    "words = 'plink incoming 4311D 0940$ 093.0 23 2021'\n",
    "re.findall(\"\\s\",words)"
   ]
  },
  {
   "cell_type": "code",
   "execution_count": null,
   "id": "a5e07681",
   "metadata": {},
   "outputs": [],
   "source": [
    "words = 'plink incoming 4311D 0940$ 093.0 23 2021'\n",
    "re.findall(\"\\S\",words)"
   ]
  },
  {
   "cell_type": "code",
   "execution_count": null,
   "id": "f58ebdda",
   "metadata": {},
   "outputs": [],
   "source": [
    "words = 'plink incoming 4311D 0940$ 093.0 23 2021'\n",
    "re.findall(\"[a-z]\",words)"
   ]
  },
  {
   "cell_type": "code",
   "execution_count": null,
   "id": "4eed937e",
   "metadata": {},
   "outputs": [],
   "source": [
    "re.findall(\"[0-9]\",words)"
   ]
  },
  {
   "cell_type": "code",
   "execution_count": null,
   "id": "0f5c1ea3",
   "metadata": {},
   "outputs": [],
   "source": [
    "words = 'plink incoming 4311D 0940$ 093.0 23 2021'\n",
    "re.findall(\"[oi]\",words)"
   ]
  },
  {
   "cell_type": "markdown",
   "id": "60bc43cf",
   "metadata": {},
   "source": [
    "### <span style=\"color:red\"> Activity 6</span>\n",
    "Split "
   ]
  },
  {
   "cell_type": "code",
   "execution_count": null,
   "id": "9099336c",
   "metadata": {},
   "outputs": [],
   "source": [
    "text = 'lion \\t Ink32Clint Colorado'\n",
    "#DO something\n",
    "#output [\"lion\",\"Ink\",\"Clint\",\"Colorado\"]"
   ]
  },
  {
   "cell_type": "markdown",
   "id": "20152317",
   "metadata": {},
   "source": [
    "### Flags"
   ]
  },
  {
   "cell_type": "code",
   "execution_count": null,
   "id": "a0b6cadd",
   "metadata": {},
   "outputs": [],
   "source": [
    "bool(re.search(r'cat', 'Cat is blue', flags=re.IGNORECASE))"
   ]
  },
  {
   "cell_type": "code",
   "execution_count": null,
   "id": "b34564c3",
   "metadata": {},
   "outputs": [],
   "source": [
    "bool(re.search(r'cat', 'Cat is blue', flags=re.I)) #abrev. IGNORECASE"
   ]
  },
  {
   "cell_type": "code",
   "execution_count": null,
   "id": "9104eb77",
   "metadata": {},
   "outputs": [],
   "source": [
    "bool(re.search(r'^top', \"hi hello\\ntop spot\", flags=re.M)) #re.MULTILINE"
   ]
  },
  {
   "cell_type": "markdown",
   "id": "877bc7d9",
   "metadata": {},
   "source": [
    "### UNICODE"
   ]
  },
  {
   "cell_type": "code",
   "execution_count": null,
   "id": "2048160e",
   "metadata": {},
   "outputs": [],
   "source": [
    "import regex\n",
    "#extract greek letters\n",
    "regex.findall(r'\\p{Greek}+', 'fox:αλεπού,eagle:αετός')"
   ]
  },
  {
   "cell_type": "code",
   "execution_count": null,
   "id": "824e8625",
   "metadata": {},
   "outputs": [],
   "source": [
    "#extract letters\n",
    "regex.findall(r'\\p{L}+', 'fox:αλεπού,eagle:αετός')"
   ]
  },
  {
   "cell_type": "code",
   "execution_count": null,
   "id": "ac396f00",
   "metadata": {},
   "outputs": [],
   "source": [
    "#extract letters\n",
    "regex.findall(r'\\p{Word}+', 'fox:αλεπού,eagle:αετός')"
   ]
  },
  {
   "cell_type": "code",
   "execution_count": null,
   "id": "0a3b8c74",
   "metadata": {},
   "outputs": [],
   "source": [
    "[c.encode('unicode_escape') for c in 'eagle']\n",
    "#https://en.wikipedia.org/wiki/List_of_Unicode_characters"
   ]
  },
  {
   "cell_type": "code",
   "execution_count": null,
   "id": "082693d6",
   "metadata": {},
   "outputs": [],
   "source": [
    " [c.encode('unicode_escape') for c in 'αλεπού']"
   ]
  },
  {
   "cell_type": "code",
   "execution_count": null,
   "id": "e61f0340",
   "metadata": {},
   "outputs": [],
   "source": [
    "re.findall(r'[\\u0061-\\u007a]+', 'fox:αλεπού,eagle:αετός')"
   ]
  },
  {
   "cell_type": "markdown",
   "id": "36c257b2",
   "metadata": {},
   "source": [
    "### <span style=\"color:red\"> Activity 7</span>\n",
    "Find russian words in the next text"
   ]
  },
  {
   "cell_type": "code",
   "execution_count": null,
   "id": "36bc4f45",
   "metadata": {},
   "outputs": [],
   "source": [
    "text = \"Qui dubta d'en грузовик Eastwood Mirant el Gran Canyon del синий\" "
   ]
  },
  {
   "cell_type": "code",
   "execution_count": null,
   "id": "aac258bf",
   "metadata": {},
   "outputs": [],
   "source": []
  },
  {
   "cell_type": "markdown",
   "id": "629de7c5",
   "metadata": {},
   "source": [
    "### <span style=\"color:red\"> Final activity</span>\n",
    "Get all the years from the following text file"
   ]
  },
  {
   "cell_type": "code",
   "execution_count": null,
   "id": "a29718d1",
   "metadata": {},
   "outputs": [],
   "source": [
    "!curl https://www.uib.es/es/personal/ABTIxNTgx/ -o personX.txt"
   ]
  },
  {
   "cell_type": "code",
   "execution_count": null,
   "id": "fa8d6d65",
   "metadata": {},
   "outputs": [],
   "source": [
    "!cat personX.txt"
   ]
  },
  {
   "cell_type": "code",
   "execution_count": null,
   "id": "da3fa366",
   "metadata": {},
   "outputs": [],
   "source": [
    "# DO something"
   ]
  },
  {
   "cell_type": "code",
   "execution_count": null,
   "id": "1cd74616",
   "metadata": {},
   "outputs": [],
   "source": []
  }
 ],
 "metadata": {
  "kernelspec": {
   "display_name": "MyPy397",
   "language": "python",
   "name": "mypy397"
  },
  "language_info": {
   "codemirror_mode": {
    "name": "ipython",
    "version": 3
   },
   "file_extension": ".py",
   "mimetype": "text/x-python",
   "name": "python",
   "nbconvert_exporter": "python",
   "pygments_lexer": "ipython3",
   "version": "3.9.7"
  }
 },
 "nbformat": 4,
 "nbformat_minor": 5
}
