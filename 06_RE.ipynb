{
 "cells": [
  {
   "cell_type": "code",
   "execution_count": 1,
   "id": "b5696ffa",
   "metadata": {},
   "outputs": [
    {
     "name": "stdout",
     "output_type": "stream",
     "text": [
      "<class 'str'>\n"
     ]
    }
   ],
   "source": [
    "# String type provides some basic functions to manipulate it or to find patterns in text\n",
    "# https://docs.python.org/3/library/stdtypes.html#string-methods\n",
    "    \n",
    "text = \"Qui dubta d'en Clint Eastwood Mirant el Gran Canyon del Colorado\"\n",
    "print(type(text))"
   ]
  },
  {
   "cell_type": "code",
   "execution_count": 2,
   "id": "c2e465de",
   "metadata": {},
   "outputs": [
    {
     "data": {
      "text/plain": [
       "True"
      ]
     },
     "execution_count": 2,
     "metadata": {},
     "output_type": "execute_result"
    }
   ],
   "source": [
    "\"en\" in text"
   ]
  },
  {
   "cell_type": "code",
   "execution_count": 3,
   "id": "8a48ad8a",
   "metadata": {},
   "outputs": [
    {
     "data": {
      "text/plain": [
       "\"Qui dubta d'en clint eastwood mirant el gran canyon del colorado\""
      ]
     },
     "execution_count": 3,
     "metadata": {},
     "output_type": "execute_result"
    }
   ],
   "source": [
    "text.capitalize()"
   ]
  },
  {
   "cell_type": "code",
   "execution_count": 6,
   "id": "5d8686ad",
   "metadata": {},
   "outputs": [
    {
     "data": {
      "text/plain": [
       "2"
      ]
     },
     "execution_count": 6,
     "metadata": {},
     "output_type": "execute_result"
    }
   ],
   "source": [
    "text.count(\"el\")"
   ]
  },
  {
   "cell_type": "code",
   "execution_count": 9,
   "id": "1fc05ff9",
   "metadata": {},
   "outputs": [
    {
     "data": {
      "text/plain": [
       "True"
      ]
     },
     "execution_count": 9,
     "metadata": {},
     "output_type": "execute_result"
    }
   ],
   "source": [
    "text.endswith(\"rado\")"
   ]
  },
  {
   "cell_type": "code",
   "execution_count": 10,
   "id": "ff4d98d8",
   "metadata": {},
   "outputs": [
    {
     "data": {
      "text/plain": [
       "37"
      ]
     },
     "execution_count": 10,
     "metadata": {},
     "output_type": "execute_result"
    }
   ],
   "source": [
    "text.find(\"el\")"
   ]
  },
  {
   "cell_type": "code",
   "execution_count": 11,
   "id": "98b7ce75",
   "metadata": {},
   "outputs": [
    {
     "data": {
      "text/plain": [
       "'el Gran Canyon del Colorado'"
      ]
     },
     "execution_count": 11,
     "metadata": {},
     "output_type": "execute_result"
    }
   ],
   "source": [
    "text[37:] #Slicing"
   ]
  },
  {
   "cell_type": "code",
   "execution_count": 12,
   "id": "62822e47",
   "metadata": {},
   "outputs": [
    {
     "data": {
      "text/plain": [
       "'el'"
      ]
     },
     "execution_count": 12,
     "metadata": {},
     "output_type": "execute_result"
    }
   ],
   "source": [
    "text[37:39]"
   ]
  },
  {
   "cell_type": "code",
   "execution_count": 13,
   "id": "c2b2b0bb",
   "metadata": {},
   "outputs": [
    {
     "data": {
      "text/plain": [
       "37"
      ]
     },
     "execution_count": 13,
     "metadata": {},
     "output_type": "execute_result"
    }
   ],
   "source": [
    "text.index(\"el\")"
   ]
  },
  {
   "cell_type": "code",
   "execution_count": 16,
   "id": "6c07a21d",
   "metadata": {},
   "outputs": [
    {
     "data": {
      "text/plain": [
       "\"Qui dubta d'en Pep Mirant el Gran Canyon del Colorado\""
      ]
     },
     "execution_count": 16,
     "metadata": {},
     "output_type": "execute_result"
    }
   ],
   "source": [
    "text.replace(\"Clint Eastwood\",\"Pep\")"
   ]
  },
  {
   "cell_type": "code",
   "execution_count": 17,
   "id": "3ca8d198",
   "metadata": {},
   "outputs": [
    {
     "data": {
      "text/plain": [
       "\"Qaa dabta d'an Clant Eastwaad Marant al Gran Canyan dal Calarada\""
      ]
     },
     "execution_count": 17,
     "metadata": {},
     "output_type": "execute_result"
    }
   ],
   "source": [
    "text.replace(\"e\",\"a\").replace(\"i\",\"a\").replace(\"o\",\"a\").replace(\"u\",\"a\")"
   ]
  },
  {
   "cell_type": "code",
   "execution_count": 21,
   "id": "1883591c",
   "metadata": {},
   "outputs": [
    {
     "data": {
      "text/plain": [
       "['Qui',\n",
       " 'dubta',\n",
       " \"d'en\",\n",
       " 'Clint',\n",
       " 'Eastwood',\n",
       " 'Mirant',\n",
       " 'el',\n",
       " 'Gran',\n",
       " 'Canyon',\n",
       " 'del',\n",
       " 'Colorado']"
      ]
     },
     "execution_count": 21,
     "metadata": {},
     "output_type": "execute_result"
    }
   ],
   "source": [
    "text.split(\" \")"
   ]
  },
  {
   "cell_type": "code",
   "execution_count": 22,
   "id": "7597fd1a",
   "metadata": {},
   "outputs": [
    {
     "data": {
      "text/plain": [
       "['Qui ',\n",
       " 'ubta ',\n",
       " \"'en Clint Eastwoo\",\n",
       " ' Mirant el Gran Canyon ',\n",
       " 'el Colora',\n",
       " 'o']"
      ]
     },
     "execution_count": 22,
     "metadata": {},
     "output_type": "execute_result"
    }
   ],
   "source": [
    "text.split(\"d\")"
   ]
  },
  {
   "cell_type": "code",
   "execution_count": 24,
   "id": "f4c30f34",
   "metadata": {},
   "outputs": [
    {
     "data": {
      "text/plain": [
       "\"Qui dubta d'en Clint Eastwood Mirant el Gran Canyon del \""
      ]
     },
     "execution_count": 24,
     "metadata": {},
     "output_type": "execute_result"
    }
   ],
   "source": [
    "text.removesuffix('Colorado')"
   ]
  },
  {
   "cell_type": "code",
   "execution_count": 25,
   "id": "1a7f50f3",
   "metadata": {},
   "outputs": [
    {
     "data": {
      "text/plain": [
       "\"Qui dubta d'en Clint Eastwood Mirant el Gran Canyon del \""
      ]
     },
     "execution_count": 25,
     "metadata": {},
     "output_type": "execute_result"
    }
   ],
   "source": [
    "text.replace('Colorado',\"\") #Best"
   ]
  },
  {
   "cell_type": "markdown",
   "id": "73a93db6",
   "metadata": {},
   "source": [
    "### UNICODE\n",
    "https://docs.python.org/3/howto/unicode.html\n",
    "\n",
    "And Character encoding: \n",
    "https://en.wikipedia.org/wiki/Character_encoding\n",
    "\n",
    "https://en.wikipedia.org/wiki/Character_encoding#Common_character_encodings"
   ]
  },
  {
   "cell_type": "code",
   "execution_count": 32,
   "id": "d5707612",
   "metadata": {},
   "outputs": [
    {
     "name": "stdout",
     "output_type": "stream",
     "text": [
      "Кто сомневается в том, что Клинт Иствуд смотрит на Гранд-Каньон Колорадо\n",
      "谁怀疑克林特伊斯特伍德在科罗拉多大峡谷\n"
     ]
    }
   ],
   "source": [
    "#Note: by google translate \n",
    "text1 = \"Qui doute de Clint Eastwood regardant le Grand Canyon du Colorado\"\n",
    "text2 = \"Кто сомневается в том, что Клинт Иствуд смотрит на Гранд-Каньон Колорадо\"\n",
    "text3 = \"谁怀疑克林特伊斯特伍德在科罗拉多大峡谷\"\n",
    "print(text2)\n",
    "print(text3)"
   ]
  },
  {
   "cell_type": "code",
   "execution_count": 33,
   "id": "05be30c5",
   "metadata": {},
   "outputs": [
    {
     "data": {
      "text/plain": [
       "['Кто',\n",
       " 'сомневается',\n",
       " 'в',\n",
       " 'том,',\n",
       " 'что',\n",
       " 'Клинт',\n",
       " 'Иствуд',\n",
       " 'смотрит',\n",
       " 'на',\n",
       " 'Гранд-Каньон',\n",
       " 'Колорадо']"
      ]
     },
     "execution_count": 33,
     "metadata": {},
     "output_type": "execute_result"
    }
   ],
   "source": [
    "text2.split(\" \")"
   ]
  },
  {
   "cell_type": "code",
   "execution_count": 34,
   "id": "f5e5df91",
   "metadata": {},
   "outputs": [
    {
     "data": {
      "text/plain": [
       "['谁怀疑克林特伊斯特伍德在科罗拉多大峡谷']"
      ]
     },
     "execution_count": 34,
     "metadata": {},
     "output_type": "execute_result"
    }
   ],
   "source": [
    "text3.split(\" \")"
   ]
  },
  {
   "cell_type": "code",
   "execution_count": 44,
   "id": "7763901e",
   "metadata": {},
   "outputs": [
    {
     "name": "stdout",
     "output_type": "stream",
     "text": [
      "♥\n"
     ]
    }
   ],
   "source": [
    "unicode_string = \"\\u2665\"\n",
    "print(unicode_string)"
   ]
  },
  {
   "cell_type": "code",
   "execution_count": 51,
   "id": "247ae668",
   "metadata": {},
   "outputs": [
    {
     "name": "stdout",
     "output_type": "stream",
     "text": [
      "the track is blue\n",
      "el camión es azul\n",
      "el camiò és blau\n",
      "<class 'str'>\n"
     ]
    }
   ],
   "source": [
    "textb = \"the track is blue\"\n",
    "texto = \"el camión es azul\"\n",
    "text  = \"el camiò és blau\"\n",
    "print(textb)\n",
    "print(texto)\n",
    "print(text)\n",
    "print(type(text))"
   ]
  },
  {
   "cell_type": "code",
   "execution_count": 60,
   "id": "ce13e6c7",
   "metadata": {},
   "outputs": [
    {
     "name": "stdout",
     "output_type": "stream",
     "text": [
      "b'el cami\\\\xf3n es azul'\n"
     ]
    }
   ],
   "source": [
    "print(texto.encode(\"unicode_escape\"))"
   ]
  },
  {
   "cell_type": "code",
   "execution_count": 61,
   "id": "18888226",
   "metadata": {},
   "outputs": [
    {
     "name": "stdout",
     "output_type": "stream",
     "text": [
      "el cami\\xf3n es azul\n"
     ]
    }
   ],
   "source": [
    "print(texto.encode(\"unicode_escape\").decode())"
   ]
  },
  {
   "cell_type": "code",
   "execution_count": 58,
   "id": "ede55ae7",
   "metadata": {},
   "outputs": [
    {
     "name": "stdout",
     "output_type": "stream",
     "text": [
      "b'el cami\\xf3n es azul'\n"
     ]
    }
   ],
   "source": [
    "print(texto.encode(\"cp1250\"))"
   ]
  },
  {
   "cell_type": "code",
   "execution_count": 62,
   "id": "e5f20961",
   "metadata": {},
   "outputs": [
    {
     "ename": "UnicodeDecodeError",
     "evalue": "'utf-8' codec can't decode byte 0xf3 in position 7: invalid continuation byte",
     "output_type": "error",
     "traceback": [
      "\u001b[0;31m---------------------------------------------------------------------------\u001b[0m",
      "\u001b[0;31mUnicodeDecodeError\u001b[0m                        Traceback (most recent call last)",
      "\u001b[0;32m/var/folders/hd/b3xdbhj91fj7d7_gq2f0v1h40000gn/T/ipykernel_16805/995407230.py\u001b[0m in \u001b[0;36m<module>\u001b[0;34m\u001b[0m\n\u001b[0;32m----> 1\u001b[0;31m \u001b[0mprint\u001b[0m\u001b[0;34m(\u001b[0m\u001b[0mtexto\u001b[0m\u001b[0;34m.\u001b[0m\u001b[0mencode\u001b[0m\u001b[0;34m(\u001b[0m\u001b[0;34m\"cp1250\"\u001b[0m\u001b[0;34m)\u001b[0m\u001b[0;34m.\u001b[0m\u001b[0mdecode\u001b[0m\u001b[0;34m(\u001b[0m\u001b[0;34m)\u001b[0m\u001b[0;34m)\u001b[0m\u001b[0;34m\u001b[0m\u001b[0;34m\u001b[0m\u001b[0m\n\u001b[0m",
      "\u001b[0;31mUnicodeDecodeError\u001b[0m: 'utf-8' codec can't decode byte 0xf3 in position 7: invalid continuation byte"
     ]
    }
   ],
   "source": [
    "print(texto.encode(\"cp1250\").decode())"
   ]
  },
  {
   "cell_type": "code",
   "execution_count": 66,
   "id": "737ead3b",
   "metadata": {},
   "outputs": [
    {
     "name": "stdout",
     "output_type": "stream",
     "text": [
      "b'el cami\\xf3n es azul'\n"
     ]
    }
   ],
   "source": [
    "print(texto.encode(\"ISO-8859-1\"))"
   ]
  },
  {
   "cell_type": "code",
   "execution_count": 68,
   "id": "971f48b7",
   "metadata": {},
   "outputs": [
    {
     "name": "stdout",
     "output_type": "stream",
     "text": [
      "el camión es azul\n"
     ]
    },
    {
     "data": {
      "text/plain": [
       "3"
      ]
     },
     "execution_count": 68,
     "metadata": {},
     "output_type": "execute_result"
    }
   ],
   "source": [
    "text = \"el cami\\xf3n es azul\"\n",
    "print(text)\n",
    "text.find(\"camión\")"
   ]
  },
  {
   "cell_type": "code",
   "execution_count": 76,
   "id": "73f9cfe1",
   "metadata": {},
   "outputs": [
    {
     "name": "stdout",
     "output_type": "stream",
     "text": [
      "wãąską\n",
      "b'w\\xc3\\xa3\\xc4\\x85sk\\xc4\\x85'\n"
     ]
    }
   ],
   "source": [
    "u = 'wãąską'\n",
    "uu = u.encode('utf8')\n",
    "print(u)\n",
    "print(uu)"
   ]
  },
  {
   "cell_type": "code",
   "execution_count": 77,
   "id": "f88c1ab9",
   "metadata": {},
   "outputs": [],
   "source": [
    "!echo \"wãąską el cami\\xf3n es azul Кто сомневается в том \" >> text_test.txt"
   ]
  },
  {
   "cell_type": "code",
   "execution_count": 82,
   "id": "2b5351fb",
   "metadata": {},
   "outputs": [
    {
     "ename": "UnicodeDecodeError",
     "evalue": "'utf-8' codec can't decode byte 0xf3 in position 17: invalid continuation byte",
     "output_type": "error",
     "traceback": [
      "\u001b[0;31m---------------------------------------------------------------------------\u001b[0m",
      "\u001b[0;31mUnicodeDecodeError\u001b[0m                        Traceback (most recent call last)",
      "\u001b[0;32m/var/folders/hd/b3xdbhj91fj7d7_gq2f0v1h40000gn/T/ipykernel_16805/2049052030.py\u001b[0m in \u001b[0;36m<module>\u001b[0;34m\u001b[0m\n\u001b[1;32m      1\u001b[0m \u001b[0mfile\u001b[0m \u001b[0;34m=\u001b[0m \u001b[0mopen\u001b[0m\u001b[0;34m(\u001b[0m\u001b[0;34m\"text_test.txt\"\u001b[0m\u001b[0;34m)\u001b[0m\u001b[0;34m\u001b[0m\u001b[0;34m\u001b[0m\u001b[0m\n\u001b[0;32m----> 2\u001b[0;31m \u001b[0mprint\u001b[0m\u001b[0;34m(\u001b[0m\u001b[0mfile\u001b[0m\u001b[0;34m.\u001b[0m\u001b[0mreadlines\u001b[0m\u001b[0;34m(\u001b[0m\u001b[0;34m)\u001b[0m\u001b[0;34m)\u001b[0m\u001b[0;34m\u001b[0m\u001b[0;34m\u001b[0m\u001b[0m\n\u001b[0m",
      "\u001b[0;32m~/.pyenv/versions/3.9.7/lib/python3.9/codecs.py\u001b[0m in \u001b[0;36mdecode\u001b[0;34m(self, input, final)\u001b[0m\n\u001b[1;32m    320\u001b[0m         \u001b[0;31m# decode input (taking the buffer into account)\u001b[0m\u001b[0;34m\u001b[0m\u001b[0;34m\u001b[0m\u001b[0m\n\u001b[1;32m    321\u001b[0m         \u001b[0mdata\u001b[0m \u001b[0;34m=\u001b[0m \u001b[0mself\u001b[0m\u001b[0;34m.\u001b[0m\u001b[0mbuffer\u001b[0m \u001b[0;34m+\u001b[0m \u001b[0minput\u001b[0m\u001b[0;34m\u001b[0m\u001b[0;34m\u001b[0m\u001b[0m\n\u001b[0;32m--> 322\u001b[0;31m         \u001b[0;34m(\u001b[0m\u001b[0mresult\u001b[0m\u001b[0;34m,\u001b[0m \u001b[0mconsumed\u001b[0m\u001b[0;34m)\u001b[0m \u001b[0;34m=\u001b[0m \u001b[0mself\u001b[0m\u001b[0;34m.\u001b[0m\u001b[0m_buffer_decode\u001b[0m\u001b[0;34m(\u001b[0m\u001b[0mdata\u001b[0m\u001b[0;34m,\u001b[0m \u001b[0mself\u001b[0m\u001b[0;34m.\u001b[0m\u001b[0merrors\u001b[0m\u001b[0;34m,\u001b[0m \u001b[0mfinal\u001b[0m\u001b[0;34m)\u001b[0m\u001b[0;34m\u001b[0m\u001b[0;34m\u001b[0m\u001b[0m\n\u001b[0m\u001b[1;32m    323\u001b[0m         \u001b[0;31m# keep undecoded input until the next call\u001b[0m\u001b[0;34m\u001b[0m\u001b[0;34m\u001b[0m\u001b[0m\n\u001b[1;32m    324\u001b[0m         \u001b[0mself\u001b[0m\u001b[0;34m.\u001b[0m\u001b[0mbuffer\u001b[0m \u001b[0;34m=\u001b[0m \u001b[0mdata\u001b[0m\u001b[0;34m[\u001b[0m\u001b[0mconsumed\u001b[0m\u001b[0;34m:\u001b[0m\u001b[0;34m]\u001b[0m\u001b[0;34m\u001b[0m\u001b[0;34m\u001b[0m\u001b[0m\n",
      "\u001b[0;31mUnicodeDecodeError\u001b[0m: 'utf-8' codec can't decode byte 0xf3 in position 17: invalid continuation byte"
     ]
    }
   ],
   "source": [
    "file = open(\"text_test.txt\")\n",
    "print(file.readlines())"
   ]
  },
  {
   "cell_type": "code",
   "execution_count": 80,
   "id": "e4474e75",
   "metadata": {},
   "outputs": [
    {
     "ename": "UnicodeDecodeError",
     "evalue": "'utf-8' codec can't decode byte 0xf3 in position 17: invalid continuation byte",
     "output_type": "error",
     "traceback": [
      "\u001b[0;31m---------------------------------------------------------------------------\u001b[0m",
      "\u001b[0;31mUnicodeDecodeError\u001b[0m                        Traceback (most recent call last)",
      "\u001b[0;32m/var/folders/hd/b3xdbhj91fj7d7_gq2f0v1h40000gn/T/ipykernel_16805/2513609409.py\u001b[0m in \u001b[0;36m<module>\u001b[0;34m\u001b[0m\n\u001b[1;32m      1\u001b[0m \u001b[0mutf8_file\u001b[0m \u001b[0;34m=\u001b[0m \u001b[0mopen\u001b[0m\u001b[0;34m(\u001b[0m\u001b[0;34m\"text_test.txt\"\u001b[0m\u001b[0;34m,\u001b[0m \u001b[0mencoding\u001b[0m\u001b[0;34m=\u001b[0m\u001b[0;34m\"UTF-8\"\u001b[0m\u001b[0;34m)\u001b[0m\u001b[0;34m\u001b[0m\u001b[0;34m\u001b[0m\u001b[0m\n\u001b[0;32m----> 2\u001b[0;31m \u001b[0mprint\u001b[0m\u001b[0;34m(\u001b[0m\u001b[0mutf8_file\u001b[0m\u001b[0;34m.\u001b[0m\u001b[0mreadlines\u001b[0m\u001b[0;34m(\u001b[0m\u001b[0;34m)\u001b[0m\u001b[0;34m)\u001b[0m\u001b[0;34m\u001b[0m\u001b[0;34m\u001b[0m\u001b[0m\n\u001b[0m",
      "\u001b[0;32m~/.pyenv/versions/3.9.7/lib/python3.9/codecs.py\u001b[0m in \u001b[0;36mdecode\u001b[0;34m(self, input, final)\u001b[0m\n\u001b[1;32m    320\u001b[0m         \u001b[0;31m# decode input (taking the buffer into account)\u001b[0m\u001b[0;34m\u001b[0m\u001b[0;34m\u001b[0m\u001b[0m\n\u001b[1;32m    321\u001b[0m         \u001b[0mdata\u001b[0m \u001b[0;34m=\u001b[0m \u001b[0mself\u001b[0m\u001b[0;34m.\u001b[0m\u001b[0mbuffer\u001b[0m \u001b[0;34m+\u001b[0m \u001b[0minput\u001b[0m\u001b[0;34m\u001b[0m\u001b[0;34m\u001b[0m\u001b[0m\n\u001b[0;32m--> 322\u001b[0;31m         \u001b[0;34m(\u001b[0m\u001b[0mresult\u001b[0m\u001b[0;34m,\u001b[0m \u001b[0mconsumed\u001b[0m\u001b[0;34m)\u001b[0m \u001b[0;34m=\u001b[0m \u001b[0mself\u001b[0m\u001b[0;34m.\u001b[0m\u001b[0m_buffer_decode\u001b[0m\u001b[0;34m(\u001b[0m\u001b[0mdata\u001b[0m\u001b[0;34m,\u001b[0m \u001b[0mself\u001b[0m\u001b[0;34m.\u001b[0m\u001b[0merrors\u001b[0m\u001b[0;34m,\u001b[0m \u001b[0mfinal\u001b[0m\u001b[0;34m)\u001b[0m\u001b[0;34m\u001b[0m\u001b[0;34m\u001b[0m\u001b[0m\n\u001b[0m\u001b[1;32m    323\u001b[0m         \u001b[0;31m# keep undecoded input until the next call\u001b[0m\u001b[0;34m\u001b[0m\u001b[0;34m\u001b[0m\u001b[0m\n\u001b[1;32m    324\u001b[0m         \u001b[0mself\u001b[0m\u001b[0;34m.\u001b[0m\u001b[0mbuffer\u001b[0m \u001b[0;34m=\u001b[0m \u001b[0mdata\u001b[0m\u001b[0;34m[\u001b[0m\u001b[0mconsumed\u001b[0m\u001b[0;34m:\u001b[0m\u001b[0;34m]\u001b[0m\u001b[0;34m\u001b[0m\u001b[0;34m\u001b[0m\u001b[0m\n",
      "\u001b[0;31mUnicodeDecodeError\u001b[0m: 'utf-8' codec can't decode byte 0xf3 in position 17: invalid continuation byte"
     ]
    }
   ],
   "source": [
    "utf8_file = open(\"text_test.txt\", encoding=\"UTF-8\")\n",
    "print(utf8_file.readlines())"
   ]
  },
  {
   "cell_type": "code",
   "execution_count": null,
   "id": "595c3ed8",
   "metadata": {},
   "outputs": [],
   "source": [
    "['ascii',\n",
    " 'big5',\n",
    " 'big5hkscs',\n",
    " 'cp037',\n",
    " 'cp273',\n",
    " 'cp424',\n",
    " 'cp437',\n",
    " 'cp500',\n",
    " 'cp720',\n",
    " 'cp737',\n",
    " 'cp775',\n",
    " 'cp850',\n",
    " 'cp852',\n",
    " 'cp855',\n",
    " 'cp856',\n",
    " 'cp857',\n",
    " 'cp858',\n",
    " 'cp860',\n",
    " 'cp861',\n",
    " 'cp862',\n",
    " 'cp863',\n",
    " 'cp864',\n",
    " 'cp865',\n",
    " 'cp866',\n",
    " 'cp869',\n",
    " 'cp874',\n",
    " 'cp875',\n",
    " 'cp932',\n",
    " 'cp949',\n",
    " 'cp950',\n",
    " 'cp1006',\n",
    " 'cp1026',\n",
    " 'cp1125',\n",
    " 'cp1140',\n",
    " 'cp1250',\n",
    " 'cp1251',\n",
    " 'cp1252',\n",
    " 'cp1253',\n",
    " 'cp1254',\n",
    " 'cp1255',\n",
    " 'cp1256',\n",
    " 'cp1257',\n",
    " 'cp1258',\n",
    " 'cp65001',\n",
    " 'euc_jp',\n",
    " 'euc_jis_2004',\n",
    " 'euc_jisx0213',\n",
    " 'euc_kr',\n",
    " 'gb2312',\n",
    " 'gbk',\n",
    " 'gb18030',\n",
    " 'hz',\n",
    " 'iso2022_jp',\n",
    " 'iso2022_jp_1',\n",
    " 'iso2022_jp_2',\n",
    " 'iso2022_jp_2004',\n",
    " 'iso2022_jp_3',\n",
    " 'iso2022_jp_ext',\n",
    " 'iso2022_kr',\n",
    " 'latin_1',\n",
    " 'iso8859_2',\n",
    " 'iso8859_3',\n",
    " 'iso8859_4',\n",
    " 'iso8859_5',\n",
    " 'iso8859_6',\n",
    " 'iso8859_7',\n",
    " 'iso8859_8',\n",
    " 'iso8859_9',\n",
    " 'iso8859_10',\n",
    " 'iso8859_11',\n",
    " 'iso8859_13',\n",
    " 'iso8859_14',\n",
    " 'iso8859_15',\n",
    " 'iso8859_16',\n",
    " 'johab',\n",
    " 'koi8_r',\n",
    " 'koi8_t',\n",
    " 'koi8_u',\n",
    " 'kz1048',\n",
    " 'mac_cyrillic',\n",
    " 'mac_greek',\n",
    " 'mac_iceland',\n",
    " 'mac_latin2',\n",
    " 'mac_roman',\n",
    " 'mac_turkish',\n",
    " 'ptcp154',\n",
    " 'shift_jis',\n",
    " 'shift_jis_2004',\n",
    " 'shift_jisx0213',\n",
    " 'utf_32',\n",
    " 'utf_32_be',\n",
    " 'utf_32_le',\n",
    " 'utf_16',\n",
    " 'utf_16_be',\n",
    " 'utf_16_le',\n",
    " 'utf_7',\n",
    " 'utf_8',\n",
    " 'utf_8_sig']"
   ]
  },
  {
   "cell_type": "code",
   "execution_count": 87,
   "id": "3e142ac7",
   "metadata": {},
   "outputs": [
    {
     "name": "stdout",
     "output_type": "stream",
     "text": [
      "['w√£ƒÖskƒÖ el camiÛn es azul –ö—Ç–æ —Å–æ–º–Ω–µ–≤–∞–µ—Ç—Å—è –≤ —Ç–æ–º \\n']\n",
      "['wÃ£Ä\\x85skÄ\\x85 el camión es azul Ð\\x9aÑ\\x82Ð¾ Ñ\\x81Ð¾Ð¼Ð½ÐµÐ²Ð°ÐµÑ\\x82Ñ\\x81Ñ\\x8f Ð² Ñ\\x82Ð¾Ð¼ \\n']\n",
      "['wรฃฤ\\x85skฤ\\x85 el cami๓n es azul ะ\\x9aั\\x82ะพ ั\\x81ะพะผะฝะตะฒะฐะตั\\x82ั\\x81ั\\x8f ะฒ ั\\x82ะพะผ \\n']\n"
     ]
    }
   ],
   "source": [
    "file = open(\"text_test.txt\", encoding=\"mac_roman\")\n",
    "print(file.readlines())\n",
    "file = open(\"text_test.txt\", encoding=\"latin_1\")\n",
    "print(file.readlines())\n",
    "file = open(\"text_test.txt\", encoding=\"iso8859_11\")\n",
    "print(file.readlines())\n",
    "file = open(\"text_test.txt\", encoding=\"iso8859_11\")\n",
    "print(file.readlines())"
   ]
  },
  {
   "cell_type": "code",
   "execution_count": 88,
   "id": "492d0f8a",
   "metadata": {},
   "outputs": [
    {
     "name": "stdout",
     "output_type": "stream",
     "text": [
      "wãąską el cami�n es azul Кто сомневается в том \r\n"
     ]
    }
   ],
   "source": [
    "!cat text_test.txt"
   ]
  },
  {
   "cell_type": "code",
   "execution_count": 89,
   "id": "7ddae977",
   "metadata": {},
   "outputs": [
    {
     "data": {
      "text/plain": [
       "('es_ES', 'UTF-8')"
      ]
     },
     "execution_count": 89,
     "metadata": {},
     "output_type": "execute_result"
    }
   ],
   "source": [
    "import locale\n",
    "locale.getdefaultlocale()"
   ]
  },
  {
   "cell_type": "markdown",
   "id": "251c68e2",
   "metadata": {},
   "source": [
    "# RE"
   ]
  },
  {
   "cell_type": "code",
   "execution_count": 90,
   "id": "cfa1131a",
   "metadata": {},
   "outputs": [],
   "source": [
    "import re"
   ]
  },
  {
   "cell_type": "code",
   "execution_count": 96,
   "id": "691d9e1f",
   "metadata": {},
   "outputs": [
    {
     "name": "stdout",
     "output_type": "stream",
     "text": [
      "<re.Match object; span=(40, 42), match='el'>\n",
      "True\n"
     ]
    }
   ],
   "source": [
    "text = \"Qui dubta d'en Clint Eastwood mirant en el Gran Canyon el Gran Colorado\"\n",
    "items = re.search(r'el',text)\n",
    "print(items)\n",
    "print(bool(items))"
   ]
  },
  {
   "cell_type": "code",
   "execution_count": 105,
   "id": "17371572",
   "metadata": {},
   "outputs": [
    {
     "name": "stdout",
     "output_type": "stream",
     "text": [
      "['Qui', 'dubta', \"d'en\", 'Clint', 'Eastwood', 'mirant', 'en', 'el', 'Gran', 'Canyon', 'el', 'Gran', 'Colorado']\n"
     ]
    },
    {
     "data": {
      "text/plain": [
       "['Qui', 'Clint', 'mirant']"
      ]
     },
     "execution_count": 105,
     "metadata": {},
     "output_type": "execute_result"
    }
   ],
   "source": [
    "tokens = text.split(\" \")\n",
    "print(tokens)\n",
    "[w for w in tokens if re.search(r'i',w)]"
   ]
  },
  {
   "cell_type": "markdown",
   "id": "031db68c",
   "metadata": {},
   "source": [
    "### Compiling RE"
   ]
  },
  {
   "cell_type": "code",
   "execution_count": 109,
   "id": "d2d621ec",
   "metadata": {},
   "outputs": [
    {
     "name": "stdout",
     "output_type": "stream",
     "text": [
      "<class 're.Pattern'>\n"
     ]
    }
   ],
   "source": [
    "clint = re.compile(r\"Clint\")\n",
    "print(type(clint))"
   ]
  },
  {
   "cell_type": "code",
   "execution_count": 110,
   "id": "63ccb36f",
   "metadata": {},
   "outputs": [
    {
     "data": {
      "text/plain": [
       "<re.Match object; span=(15, 20), match='Clint'>"
      ]
     },
     "execution_count": 110,
     "metadata": {},
     "output_type": "execute_result"
    }
   ],
   "source": [
    "clint.search(text)"
   ]
  },
  {
   "cell_type": "markdown",
   "id": "b78ae84a",
   "metadata": {},
   "source": [
    "### <span style=\"color:red\"> Activity 1</span>\n",
    "Print all lines that NOT contains the city name of \"Paris\""
   ]
  },
  {
   "cell_type": "code",
   "execution_count": 112,
   "id": "720296d2",
   "metadata": {},
   "outputs": [],
   "source": [
    "opinions = [\"Paris es grande\",\"Roma es azul\",\"Madrid es cuadrada\",\"paris es glamour\"]"
   ]
  },
  {
   "cell_type": "markdown",
   "id": "c58f0b5b",
   "metadata": {},
   "source": [
    "## Anchors"
   ]
  },
  {
   "cell_type": "markdown",
   "id": "3b6b338a",
   "metadata": {},
   "source": [
    "### Line anchors"
   ]
  },
  {
   "cell_type": "markdown",
   "id": "294f92d5",
   "metadata": {},
   "source": [
    "^ and $ "
   ]
  },
  {
   "cell_type": "code",
   "execution_count": 115,
   "id": "2714f765",
   "metadata": {},
   "outputs": [],
   "source": [
    "pets = 'cat and dog'"
   ]
  },
  {
   "cell_type": "code",
   "execution_count": 117,
   "id": "7789cc77",
   "metadata": {},
   "outputs": [
    {
     "data": {
      "text/plain": [
       "True"
      ]
     },
     "execution_count": 117,
     "metadata": {},
     "output_type": "execute_result"
    }
   ],
   "source": [
    "bool(re.search(r\"^cat\",pets))"
   ]
  },
  {
   "cell_type": "code",
   "execution_count": 118,
   "id": "3d34496a",
   "metadata": {},
   "outputs": [
    {
     "data": {
      "text/plain": [
       "False"
      ]
     },
     "execution_count": 118,
     "metadata": {},
     "output_type": "execute_result"
    }
   ],
   "source": [
    "bool(re.search(r\"^dog\",pets))"
   ]
  },
  {
   "cell_type": "code",
   "execution_count": 119,
   "id": "312e735e",
   "metadata": {},
   "outputs": [
    {
     "data": {
      "text/plain": [
       "False"
      ]
     },
     "execution_count": 119,
     "metadata": {},
     "output_type": "execute_result"
    }
   ],
   "source": [
    "bool(re.search(r\"cat$\",pets))"
   ]
  },
  {
   "cell_type": "code",
   "execution_count": 120,
   "id": "2aa74b60",
   "metadata": {},
   "outputs": [
    {
     "data": {
      "text/plain": [
       "True"
      ]
     },
     "execution_count": 120,
     "metadata": {},
     "output_type": "execute_result"
    }
   ],
   "source": [
    "bool(re.search(r\"dog$\",pets))"
   ]
  },
  {
   "cell_type": "code",
   "execution_count": 121,
   "id": "72087ed3",
   "metadata": {},
   "outputs": [
    {
     "data": {
      "text/plain": [
       "True"
      ]
     },
     "execution_count": 121,
     "metadata": {},
     "output_type": "execute_result"
    }
   ],
   "source": [
    "bool(re.search(r'^top', 'hi hola\\ntop spot', flags=re.M))"
   ]
  },
  {
   "cell_type": "markdown",
   "id": "eeac06e0",
   "metadata": {},
   "source": [
    "### Word anchors\n",
    "\\b"
   ]
  },
  {
   "cell_type": "code",
   "execution_count": 123,
   "id": "dcb897e8",
   "metadata": {},
   "outputs": [],
   "source": [
    "words = \"Hola hi olas caracola\""
   ]
  },
  {
   "cell_type": "code",
   "execution_count": 125,
   "id": "9c19a039",
   "metadata": {},
   "outputs": [
    {
     "data": {
      "text/plain": [
       "'Hola hi Xs caracola'"
      ]
     },
     "execution_count": 125,
     "metadata": {},
     "output_type": "execute_result"
    }
   ],
   "source": [
    "re.sub(r\"\\bola\",r\"X\",words)"
   ]
  },
  {
   "cell_type": "code",
   "execution_count": 126,
   "id": "d27e722e",
   "metadata": {},
   "outputs": [
    {
     "data": {
      "text/plain": [
       "'HX hi olas caracX'"
      ]
     },
     "execution_count": 126,
     "metadata": {},
     "output_type": "execute_result"
    }
   ],
   "source": [
    "re.sub(r\"ola\\b\",r\"X\",words)"
   ]
  },
  {
   "cell_type": "markdown",
   "id": "40b5e8b4",
   "metadata": {},
   "source": [
    "### <span style=\"color:red\"> Activity 2</span>\n",
    "Changes only word \"red\" to \"orange\""
   ]
  },
  {
   "cell_type": "code",
   "execution_count": 128,
   "id": "f76b9924",
   "metadata": {},
   "outputs": [],
   "source": [
    "words = \"blue lightred red spread redeption remake redis\""
   ]
  },
  {
   "cell_type": "code",
   "execution_count": null,
   "id": "d3805ab3",
   "metadata": {},
   "outputs": [],
   "source": []
  },
  {
   "cell_type": "markdown",
   "id": "8c7d46c5",
   "metadata": {},
   "source": [
    "### <span style=\"color:red\"> Activity 3</span>\n",
    "Filter all elements that start with \"en\" or en with \"ing\""
   ]
  },
  {
   "cell_type": "code",
   "execution_count": 129,
   "id": "8c30b348",
   "metadata": {},
   "outputs": [],
   "source": [
    "words = [\"reading\",\"english\",\"book\",\"enging\",\"beng\",\"boingo\"]"
   ]
  },
  {
   "cell_type": "code",
   "execution_count": null,
   "id": "f5ce6634",
   "metadata": {},
   "outputs": [],
   "source": []
  },
  {
   "cell_type": "markdown",
   "id": "8e068131",
   "metadata": {},
   "source": [
    "### Alterning and Grouping\n",
    "\n",
    "| and () "
   ]
  },
  {
   "cell_type": "code",
   "execution_count": 130,
   "id": "eae2a4e6",
   "metadata": {},
   "outputs": [
    {
     "data": {
      "text/plain": [
       "True"
      ]
     },
     "execution_count": 130,
     "metadata": {},
     "output_type": "execute_result"
    }
   ],
   "source": [
    "bool(re.search(r'cat|dog', 'I like cats'))"
   ]
  },
  {
   "cell_type": "code",
   "execution_count": 131,
   "id": "2487e25a",
   "metadata": {},
   "outputs": [
    {
     "data": {
      "text/plain": [
       "False"
      ]
     },
     "execution_count": 131,
     "metadata": {},
     "output_type": "execute_result"
    }
   ],
   "source": [
    "bool(re.search(r'cat|dog', 'I like tourtles'))"
   ]
  },
  {
   "cell_type": "code",
   "execution_count": 132,
   "id": "5558d510",
   "metadata": {},
   "outputs": [
    {
     "data": {
      "text/plain": [
       "'I like Xs'"
      ]
     },
     "execution_count": 132,
     "metadata": {},
     "output_type": "execute_result"
    }
   ],
   "source": [
    "re.sub(r'cat|dog', r'X', 'I like cats')"
   ]
  },
  {
   "cell_type": "code",
   "execution_count": 134,
   "id": "395fa77b",
   "metadata": {},
   "outputs": [
    {
     "data": {
      "text/plain": [
       "'I like X'"
      ]
     },
     "execution_count": 134,
     "metadata": {},
     "output_type": "execute_result"
    }
   ],
   "source": [
    "re.sub(r'(cat|dog)s', r'X', 'I like cats')"
   ]
  },
  {
   "cell_type": "markdown",
   "id": "24bcc67e",
   "metadata": {},
   "source": [
    "### Metacharacters"
   ]
  },
  {
   "cell_type": "code",
   "execution_count": 141,
   "id": "4ce6303e",
   "metadata": {},
   "outputs": [],
   "source": [
    "text = \"la \\ estaba a un $ elevado ^2 (vaya locura)\""
   ]
  },
  {
   "cell_type": "code",
   "execution_count": 139,
   "id": "afe657cb",
   "metadata": {},
   "outputs": [
    {
     "ename": "SyntaxError",
     "evalue": "EOL while scanning string literal (2299800557.py, line 1)",
     "output_type": "error",
     "traceback": [
      "\u001b[0;36m  File \u001b[0;32m\"/var/folders/hd/b3xdbhj91fj7d7_gq2f0v1h40000gn/T/ipykernel_16805/2299800557.py\"\u001b[0;36m, line \u001b[0;32m1\u001b[0m\n\u001b[0;31m    re.search(r\"\\\",text)\u001b[0m\n\u001b[0m                        ^\u001b[0m\n\u001b[0;31mSyntaxError\u001b[0m\u001b[0;31m:\u001b[0m EOL while scanning string literal\n"
     ]
    }
   ],
   "source": [
    "re.search(r\"\\\",text)"
   ]
  },
  {
   "cell_type": "code",
   "execution_count": 140,
   "id": "bbada808",
   "metadata": {},
   "outputs": [
    {
     "data": {
      "text/plain": [
       "<re.Match object; span=(3, 4), match='\\\\'>"
      ]
     },
     "execution_count": 140,
     "metadata": {},
     "output_type": "execute_result"
    }
   ],
   "source": [
    "re.search(r\"\\\\\",text)"
   ]
  },
  {
   "cell_type": "code",
   "execution_count": 146,
   "id": "b41bfba1",
   "metadata": {},
   "outputs": [
    {
     "ename": "error",
     "evalue": "missing ), unterminated subpattern at position 0",
     "output_type": "error",
     "traceback": [
      "\u001b[0;31m---------------------------------------------------------------------------\u001b[0m",
      "\u001b[0;31merror\u001b[0m                                     Traceback (most recent call last)",
      "\u001b[0;32m/var/folders/hd/b3xdbhj91fj7d7_gq2f0v1h40000gn/T/ipykernel_16805/3894958862.py\u001b[0m in \u001b[0;36m<module>\u001b[0;34m\u001b[0m\n\u001b[0;32m----> 1\u001b[0;31m \u001b[0mre\u001b[0m\u001b[0;34m.\u001b[0m\u001b[0msearch\u001b[0m\u001b[0;34m(\u001b[0m\u001b[0;34mr\"(\"\u001b[0m\u001b[0;34m,\u001b[0m\u001b[0mtext\u001b[0m\u001b[0;34m)\u001b[0m\u001b[0;34m\u001b[0m\u001b[0;34m\u001b[0m\u001b[0m\n\u001b[0m",
      "\u001b[0;32m~/.pyenv/versions/3.9.7/lib/python3.9/re.py\u001b[0m in \u001b[0;36msearch\u001b[0;34m(pattern, string, flags)\u001b[0m\n\u001b[1;32m    199\u001b[0m     \"\"\"Scan through string looking for a match to the pattern, returning\n\u001b[1;32m    200\u001b[0m     a Match object, or None if no match was found.\"\"\"\n\u001b[0;32m--> 201\u001b[0;31m     \u001b[0;32mreturn\u001b[0m \u001b[0m_compile\u001b[0m\u001b[0;34m(\u001b[0m\u001b[0mpattern\u001b[0m\u001b[0;34m,\u001b[0m \u001b[0mflags\u001b[0m\u001b[0;34m)\u001b[0m\u001b[0;34m.\u001b[0m\u001b[0msearch\u001b[0m\u001b[0;34m(\u001b[0m\u001b[0mstring\u001b[0m\u001b[0;34m)\u001b[0m\u001b[0;34m\u001b[0m\u001b[0;34m\u001b[0m\u001b[0m\n\u001b[0m\u001b[1;32m    202\u001b[0m \u001b[0;34m\u001b[0m\u001b[0m\n\u001b[1;32m    203\u001b[0m \u001b[0;32mdef\u001b[0m \u001b[0msub\u001b[0m\u001b[0;34m(\u001b[0m\u001b[0mpattern\u001b[0m\u001b[0;34m,\u001b[0m \u001b[0mrepl\u001b[0m\u001b[0;34m,\u001b[0m \u001b[0mstring\u001b[0m\u001b[0;34m,\u001b[0m \u001b[0mcount\u001b[0m\u001b[0;34m=\u001b[0m\u001b[0;36m0\u001b[0m\u001b[0;34m,\u001b[0m \u001b[0mflags\u001b[0m\u001b[0;34m=\u001b[0m\u001b[0;36m0\u001b[0m\u001b[0;34m)\u001b[0m\u001b[0;34m:\u001b[0m\u001b[0;34m\u001b[0m\u001b[0;34m\u001b[0m\u001b[0m\n",
      "\u001b[0;32m~/.pyenv/versions/3.9.7/lib/python3.9/re.py\u001b[0m in \u001b[0;36m_compile\u001b[0;34m(pattern, flags)\u001b[0m\n\u001b[1;32m    302\u001b[0m     \u001b[0;32mif\u001b[0m \u001b[0;32mnot\u001b[0m \u001b[0msre_compile\u001b[0m\u001b[0;34m.\u001b[0m\u001b[0misstring\u001b[0m\u001b[0;34m(\u001b[0m\u001b[0mpattern\u001b[0m\u001b[0;34m)\u001b[0m\u001b[0;34m:\u001b[0m\u001b[0;34m\u001b[0m\u001b[0;34m\u001b[0m\u001b[0m\n\u001b[1;32m    303\u001b[0m         \u001b[0;32mraise\u001b[0m \u001b[0mTypeError\u001b[0m\u001b[0;34m(\u001b[0m\u001b[0;34m\"first argument must be string or compiled pattern\"\u001b[0m\u001b[0;34m)\u001b[0m\u001b[0;34m\u001b[0m\u001b[0;34m\u001b[0m\u001b[0m\n\u001b[0;32m--> 304\u001b[0;31m     \u001b[0mp\u001b[0m \u001b[0;34m=\u001b[0m \u001b[0msre_compile\u001b[0m\u001b[0;34m.\u001b[0m\u001b[0mcompile\u001b[0m\u001b[0;34m(\u001b[0m\u001b[0mpattern\u001b[0m\u001b[0;34m,\u001b[0m \u001b[0mflags\u001b[0m\u001b[0;34m)\u001b[0m\u001b[0;34m\u001b[0m\u001b[0;34m\u001b[0m\u001b[0m\n\u001b[0m\u001b[1;32m    305\u001b[0m     \u001b[0;32mif\u001b[0m \u001b[0;32mnot\u001b[0m \u001b[0;34m(\u001b[0m\u001b[0mflags\u001b[0m \u001b[0;34m&\u001b[0m \u001b[0mDEBUG\u001b[0m\u001b[0;34m)\u001b[0m\u001b[0;34m:\u001b[0m\u001b[0;34m\u001b[0m\u001b[0;34m\u001b[0m\u001b[0m\n\u001b[1;32m    306\u001b[0m         \u001b[0;32mif\u001b[0m \u001b[0mlen\u001b[0m\u001b[0;34m(\u001b[0m\u001b[0m_cache\u001b[0m\u001b[0;34m)\u001b[0m \u001b[0;34m>=\u001b[0m \u001b[0m_MAXCACHE\u001b[0m\u001b[0;34m:\u001b[0m\u001b[0;34m\u001b[0m\u001b[0;34m\u001b[0m\u001b[0m\n",
      "\u001b[0;32m~/.pyenv/versions/3.9.7/lib/python3.9/sre_compile.py\u001b[0m in \u001b[0;36mcompile\u001b[0;34m(p, flags)\u001b[0m\n\u001b[1;32m    762\u001b[0m     \u001b[0;32mif\u001b[0m \u001b[0misstring\u001b[0m\u001b[0;34m(\u001b[0m\u001b[0mp\u001b[0m\u001b[0;34m)\u001b[0m\u001b[0;34m:\u001b[0m\u001b[0;34m\u001b[0m\u001b[0;34m\u001b[0m\u001b[0m\n\u001b[1;32m    763\u001b[0m         \u001b[0mpattern\u001b[0m \u001b[0;34m=\u001b[0m \u001b[0mp\u001b[0m\u001b[0;34m\u001b[0m\u001b[0;34m\u001b[0m\u001b[0m\n\u001b[0;32m--> 764\u001b[0;31m         \u001b[0mp\u001b[0m \u001b[0;34m=\u001b[0m \u001b[0msre_parse\u001b[0m\u001b[0;34m.\u001b[0m\u001b[0mparse\u001b[0m\u001b[0;34m(\u001b[0m\u001b[0mp\u001b[0m\u001b[0;34m,\u001b[0m \u001b[0mflags\u001b[0m\u001b[0;34m)\u001b[0m\u001b[0;34m\u001b[0m\u001b[0;34m\u001b[0m\u001b[0m\n\u001b[0m\u001b[1;32m    765\u001b[0m     \u001b[0;32melse\u001b[0m\u001b[0;34m:\u001b[0m\u001b[0;34m\u001b[0m\u001b[0;34m\u001b[0m\u001b[0m\n\u001b[1;32m    766\u001b[0m         \u001b[0mpattern\u001b[0m \u001b[0;34m=\u001b[0m \u001b[0;32mNone\u001b[0m\u001b[0;34m\u001b[0m\u001b[0;34m\u001b[0m\u001b[0m\n",
      "\u001b[0;32m~/.pyenv/versions/3.9.7/lib/python3.9/sre_parse.py\u001b[0m in \u001b[0;36mparse\u001b[0;34m(str, flags, state)\u001b[0m\n\u001b[1;32m    946\u001b[0m \u001b[0;34m\u001b[0m\u001b[0m\n\u001b[1;32m    947\u001b[0m     \u001b[0;32mtry\u001b[0m\u001b[0;34m:\u001b[0m\u001b[0;34m\u001b[0m\u001b[0;34m\u001b[0m\u001b[0m\n\u001b[0;32m--> 948\u001b[0;31m         \u001b[0mp\u001b[0m \u001b[0;34m=\u001b[0m \u001b[0m_parse_sub\u001b[0m\u001b[0;34m(\u001b[0m\u001b[0msource\u001b[0m\u001b[0;34m,\u001b[0m \u001b[0mstate\u001b[0m\u001b[0;34m,\u001b[0m \u001b[0mflags\u001b[0m \u001b[0;34m&\u001b[0m \u001b[0mSRE_FLAG_VERBOSE\u001b[0m\u001b[0;34m,\u001b[0m \u001b[0;36m0\u001b[0m\u001b[0;34m)\u001b[0m\u001b[0;34m\u001b[0m\u001b[0;34m\u001b[0m\u001b[0m\n\u001b[0m\u001b[1;32m    949\u001b[0m     \u001b[0;32mexcept\u001b[0m \u001b[0mVerbose\u001b[0m\u001b[0;34m:\u001b[0m\u001b[0;34m\u001b[0m\u001b[0;34m\u001b[0m\u001b[0m\n\u001b[1;32m    950\u001b[0m         \u001b[0;31m# the VERBOSE flag was switched on inside the pattern.  to be\u001b[0m\u001b[0;34m\u001b[0m\u001b[0;34m\u001b[0m\u001b[0m\n",
      "\u001b[0;32m~/.pyenv/versions/3.9.7/lib/python3.9/sre_parse.py\u001b[0m in \u001b[0;36m_parse_sub\u001b[0;34m(source, state, verbose, nested)\u001b[0m\n\u001b[1;32m    441\u001b[0m     \u001b[0mstart\u001b[0m \u001b[0;34m=\u001b[0m \u001b[0msource\u001b[0m\u001b[0;34m.\u001b[0m\u001b[0mtell\u001b[0m\u001b[0;34m(\u001b[0m\u001b[0;34m)\u001b[0m\u001b[0;34m\u001b[0m\u001b[0;34m\u001b[0m\u001b[0m\n\u001b[1;32m    442\u001b[0m     \u001b[0;32mwhile\u001b[0m \u001b[0;32mTrue\u001b[0m\u001b[0;34m:\u001b[0m\u001b[0;34m\u001b[0m\u001b[0;34m\u001b[0m\u001b[0m\n\u001b[0;32m--> 443\u001b[0;31m         itemsappend(_parse(source, state, verbose, nested + 1,\n\u001b[0m\u001b[1;32m    444\u001b[0m                            not nested and not items))\n\u001b[1;32m    445\u001b[0m         \u001b[0;32mif\u001b[0m \u001b[0;32mnot\u001b[0m \u001b[0msourcematch\u001b[0m\u001b[0;34m(\u001b[0m\u001b[0;34m\"|\"\u001b[0m\u001b[0;34m)\u001b[0m\u001b[0;34m:\u001b[0m\u001b[0;34m\u001b[0m\u001b[0;34m\u001b[0m\u001b[0m\n",
      "\u001b[0;32m~/.pyenv/versions/3.9.7/lib/python3.9/sre_parse.py\u001b[0m in \u001b[0;36m_parse\u001b[0;34m(source, state, verbose, nested, first)\u001b[0m\n\u001b[1;32m    834\u001b[0m             \u001b[0mp\u001b[0m \u001b[0;34m=\u001b[0m \u001b[0m_parse_sub\u001b[0m\u001b[0;34m(\u001b[0m\u001b[0msource\u001b[0m\u001b[0;34m,\u001b[0m \u001b[0mstate\u001b[0m\u001b[0;34m,\u001b[0m \u001b[0msub_verbose\u001b[0m\u001b[0;34m,\u001b[0m \u001b[0mnested\u001b[0m \u001b[0;34m+\u001b[0m \u001b[0;36m1\u001b[0m\u001b[0;34m)\u001b[0m\u001b[0;34m\u001b[0m\u001b[0;34m\u001b[0m\u001b[0m\n\u001b[1;32m    835\u001b[0m             \u001b[0;32mif\u001b[0m \u001b[0;32mnot\u001b[0m \u001b[0msource\u001b[0m\u001b[0;34m.\u001b[0m\u001b[0mmatch\u001b[0m\u001b[0;34m(\u001b[0m\u001b[0;34m\")\"\u001b[0m\u001b[0;34m)\u001b[0m\u001b[0;34m:\u001b[0m\u001b[0;34m\u001b[0m\u001b[0;34m\u001b[0m\u001b[0m\n\u001b[0;32m--> 836\u001b[0;31m                 raise source.error(\"missing ), unterminated subpattern\",\n\u001b[0m\u001b[1;32m    837\u001b[0m                                    source.tell() - start)\n\u001b[1;32m    838\u001b[0m             \u001b[0;32mif\u001b[0m \u001b[0mgroup\u001b[0m \u001b[0;32mis\u001b[0m \u001b[0;32mnot\u001b[0m \u001b[0;32mNone\u001b[0m\u001b[0;34m:\u001b[0m\u001b[0;34m\u001b[0m\u001b[0;34m\u001b[0m\u001b[0m\n",
      "\u001b[0;31merror\u001b[0m: missing ), unterminated subpattern at position 0"
     ]
    }
   ],
   "source": [
    "re.search(r\"(\",text)"
   ]
  },
  {
   "cell_type": "code",
   "execution_count": 144,
   "id": "b6d4a325",
   "metadata": {},
   "outputs": [
    {
     "data": {
      "text/plain": [
       "<re.Match object; span=(30, 31), match='('>"
      ]
     },
     "execution_count": 144,
     "metadata": {},
     "output_type": "execute_result"
    }
   ],
   "source": [
    "re.search(r\"\\(\",text)"
   ]
  },
  {
   "cell_type": "markdown",
   "id": "ebfd5469",
   "metadata": {},
   "source": [
    "? metacharacter which quantifies a character or group to match 0 or 1 times."
   ]
  },
  {
   "cell_type": "code",
   "execution_count": 147,
   "id": "6106ebf8",
   "metadata": {},
   "outputs": [
    {
     "data": {
      "text/plain": [
       "'fast flatten fa fX'"
      ]
     },
     "execution_count": 147,
     "metadata": {},
     "output_type": "execute_result"
    }
   ],
   "source": [
    "re.sub(r'l?ar', r'X', 'fast flatten fa far')"
   ]
  },
  {
   "cell_type": "code",
   "execution_count": 153,
   "id": "645ac941",
   "metadata": {},
   "outputs": [
    {
     "data": {
      "text/plain": [
       "'comXo lamXo mXo aX X X'"
      ]
     },
     "execution_count": 153,
     "metadata": {},
     "output_type": "execute_result"
    }
   ],
   "source": [
    "re.sub(r'a?i', r'X', 'comio lamio mio aai ai i')"
   ]
  },
  {
   "cell_type": "code",
   "execution_count": 154,
   "id": "15171ad4",
   "metadata": {},
   "outputs": [
    {
     "data": {
      "text/plain": [
       "'par X X X'"
      ]
     },
     "execution_count": 154,
     "metadata": {},
     "output_type": "execute_result"
    }
   ],
   "source": [
    "re.sub(r'par(en|ro)?t', r'X', 'par part parrot parent')"
   ]
  },
  {
   "cell_type": "markdown",
   "id": "14086562",
   "metadata": {},
   "source": [
    "\\* metacharacter quantifies a character or group to match 0 or more times."
   ]
  },
  {
   "cell_type": "code",
   "execution_count": 155,
   "id": "ab9d6eb1",
   "metadata": {},
   "outputs": [
    {
     "data": {
      "text/plain": [
       "'3X511114X'"
      ]
     },
     "execution_count": 155,
     "metadata": {},
     "output_type": "execute_result"
    }
   ],
   "source": [
    "re.sub(r'1*2', r'X', '31111111125111142')"
   ]
  },
  {
   "cell_type": "code",
   "execution_count": 159,
   "id": "a6f6e8e2",
   "metadata": {},
   "outputs": [
    {
     "data": {
      "text/plain": [
       "'X X 13X 0X3 XX3 13XX'"
      ]
     },
     "execution_count": 159,
     "metadata": {},
     "output_type": "execute_result"
    }
   ],
   "source": [
    "re.sub(r'1*2', r'X', '2 12 132 0123 1223 1322')\n",
    "#https://regex101.com/r/Rn7MtG/1"
   ]
  },
  {
   "cell_type": "code",
   "execution_count": 162,
   "id": "cb176c7a",
   "metadata": {},
   "outputs": [
    {
     "data": {
      "text/plain": [
       "'abc X abX'"
      ]
     },
     "execution_count": 162,
     "metadata": {},
     "output_type": "execute_result"
    }
   ],
   "source": [
    "re.sub(r'(ab){2}c', r'X', 'abc ababc abababc') #match exactly 2 times"
   ]
  },
  {
   "cell_type": "markdown",
   "id": "3d978bb1",
   "metadata": {},
   "source": [
    "### <span style=\"color:red\"> Activity 4</span>\n",
    "Correct the given RE to get the expected output."
   ]
  },
  {
   "cell_type": "code",
   "execution_count": 165,
   "id": "4ece4c03",
   "metadata": {},
   "outputs": [
    {
     "name": "stdout",
     "output_type": "stream",
     "text": [
      "plXk XcomXg tX wXer X cautX sentient\n"
     ]
    }
   ],
   "source": [
    "words = 'plink incoming tint winter in caution sentient'\n",
    "\n",
    "change = re.compile(r'int|in|ion|ing|inco|inter|ink') # CHANGE!\n",
    "\n",
    "print(change.sub(r'X', words))\n",
    "\n",
    "#output: 'plX XmX tX wX X cautX sentient'"
   ]
  },
  {
   "cell_type": "markdown",
   "id": "d1b63505",
   "metadata": {},
   "source": [
    "### Working with match type"
   ]
  },
  {
   "cell_type": "code",
   "execution_count": 177,
   "id": "347ee6d2",
   "metadata": {},
   "outputs": [
    {
     "name": "stdout",
     "output_type": "stream",
     "text": [
      "<re.Match object; span=(0, 5), match='07004'>\n"
     ]
    }
   ],
   "source": [
    "text = \"07004 93093 07003 07122 09323\"\n",
    "m = re.search(r'07[0-9]{3}',text) #https://regex101.com/r/UM0TkF/1\n",
    "print(m)"
   ]
  },
  {
   "cell_type": "code",
   "execution_count": 175,
   "id": "ac7283df",
   "metadata": {},
   "outputs": [
    {
     "data": {
      "text/plain": [
       "'07004'"
      ]
     },
     "execution_count": 175,
     "metadata": {},
     "output_type": "execute_result"
    }
   ],
   "source": [
    "m[0]"
   ]
  },
  {
   "cell_type": "code",
   "execution_count": 176,
   "id": "d354b07f",
   "metadata": {},
   "outputs": [
    {
     "data": {
      "text/plain": [
       "()"
      ]
     },
     "execution_count": 176,
     "metadata": {},
     "output_type": "execute_result"
    }
   ],
   "source": [
    "m.groups()"
   ]
  },
  {
   "cell_type": "code",
   "execution_count": 180,
   "id": "9b1c81d4",
   "metadata": {},
   "outputs": [
    {
     "name": "stdout",
     "output_type": "stream",
     "text": [
      "['07004', '07003', '07122']\n"
     ]
    }
   ],
   "source": [
    "text = \"07004 93093 07003 07122 09323\"\n",
    "m = re.findall(r'07[0-9]{3}',text) #https://regex101.com/r/UM0TkF/1\n",
    "print(m)"
   ]
  },
  {
   "cell_type": "code",
   "execution_count": 184,
   "id": "3c91eb71",
   "metadata": {},
   "outputs": [
    {
     "name": "stdout",
     "output_type": "stream",
     "text": [
      "<callable_iterator object at 0x1117e9310>\n"
     ]
    }
   ],
   "source": [
    "text = \"07004 93093 07003 07122 09323\"\n",
    "m = re.finditer(r'07[0-9]{3}',text) #https://regex101.com/r/UM0TkF/1\n",
    "print(m)"
   ]
  },
  {
   "cell_type": "code",
   "execution_count": 185,
   "id": "6edb776b",
   "metadata": {},
   "outputs": [
    {
     "name": "stdout",
     "output_type": "stream",
     "text": [
      "<re.Match object; span=(0, 5), match='07004'>\n",
      "07004\n",
      "<re.Match object; span=(12, 17), match='07003'>\n",
      "07003\n",
      "<re.Match object; span=(18, 23), match='07122'>\n",
      "07122\n"
     ]
    }
   ],
   "source": [
    "for i in m:\n",
    "    print(i)\n",
    "    print(i[0])"
   ]
  },
  {
   "cell_type": "markdown",
   "id": "906aebe6",
   "metadata": {},
   "source": [
    "### <span style=\"color:red\"> Activity 5</span>\n",
    "Find all ocurrences of 3 digits"
   ]
  },
  {
   "cell_type": "code",
   "execution_count": null,
   "id": "1bdb3915",
   "metadata": {},
   "outputs": [],
   "source": [
    "text = \"090 0932 0231 2 091 112 30 34 9\"\n",
    "\n",
    "#output: 090 091 112\n"
   ]
  },
  {
   "cell_type": "markdown",
   "id": "b8dc384e",
   "metadata": {},
   "source": [
    "### Chars "
   ]
  },
  {
   "cell_type": "markdown",
   "id": "9fe59347",
   "metadata": {},
   "source": [
    "\\w similar to   for matching word characters\n",
    "\\d similar to   for matching digit characters\n",
    "\\s similar to   for matching whitespace characters\n",
    "\\W , \\D , and \\S for their opposites respectively"
   ]
  },
  {
   "cell_type": "code",
   "execution_count": 191,
   "id": "8497dc72",
   "metadata": {},
   "outputs": [
    {
     "data": {
      "text/plain": [
       "['l',\n",
       " 'i',\n",
       " 'n',\n",
       " 'k',\n",
       " '4',\n",
       " '3',\n",
       " '1',\n",
       " '1',\n",
       " 'D',\n",
       " '0',\n",
       " '9',\n",
       " '4',\n",
       " '0',\n",
       " '0',\n",
       " '9',\n",
       " '3',\n",
       " '0',\n",
       " '2',\n",
       " '3',\n",
       " '2',\n",
       " '0',\n",
       " '2',\n",
       " '1']"
      ]
     },
     "execution_count": 191,
     "metadata": {},
     "output_type": "execute_result"
    }
   ],
   "source": [
    "words = 'link 4311D 0940$ 093.0 23 2021'\n",
    "re.findall(\"\\w\",words)"
   ]
  },
  {
   "cell_type": "code",
   "execution_count": 192,
   "id": "704f8553",
   "metadata": {},
   "outputs": [
    {
     "data": {
      "text/plain": [
       "[' ', ' ', ' ', '$', ' ', '.', ' ', ' ']"
      ]
     },
     "execution_count": 192,
     "metadata": {},
     "output_type": "execute_result"
    }
   ],
   "source": [
    "words = 'plink incoming 4311D 0940$ 093.0 23 2021'\n",
    "re.findall(\"\\W\",words)"
   ]
  },
  {
   "cell_type": "code",
   "execution_count": 193,
   "id": "db8090cf",
   "metadata": {},
   "outputs": [
    {
     "data": {
      "text/plain": [
       "['4',\n",
       " '3',\n",
       " '1',\n",
       " '1',\n",
       " '0',\n",
       " '9',\n",
       " '4',\n",
       " '0',\n",
       " '0',\n",
       " '9',\n",
       " '3',\n",
       " '0',\n",
       " '2',\n",
       " '3',\n",
       " '2',\n",
       " '0',\n",
       " '2',\n",
       " '1']"
      ]
     },
     "execution_count": 193,
     "metadata": {},
     "output_type": "execute_result"
    }
   ],
   "source": [
    "words = 'plink incoming 4311D 0940$ 093.0 23 2021'\n",
    "re.findall(\"\\d\",words)"
   ]
  },
  {
   "cell_type": "code",
   "execution_count": 194,
   "id": "447d17f7",
   "metadata": {},
   "outputs": [
    {
     "data": {
      "text/plain": [
       "['p',\n",
       " 'l',\n",
       " 'i',\n",
       " 'n',\n",
       " 'k',\n",
       " ' ',\n",
       " 'i',\n",
       " 'n',\n",
       " 'c',\n",
       " 'o',\n",
       " 'm',\n",
       " 'i',\n",
       " 'n',\n",
       " 'g',\n",
       " ' ',\n",
       " 'D',\n",
       " ' ',\n",
       " '$',\n",
       " ' ',\n",
       " '.',\n",
       " ' ',\n",
       " ' ']"
      ]
     },
     "execution_count": 194,
     "metadata": {},
     "output_type": "execute_result"
    }
   ],
   "source": [
    "words = 'plink incoming 4311D 0940$ 093.0 23 2021'\n",
    "re.findall(\"\\D\",words)"
   ]
  },
  {
   "cell_type": "code",
   "execution_count": 195,
   "id": "7fc67f98",
   "metadata": {},
   "outputs": [
    {
     "data": {
      "text/plain": [
       "[' ', ' ', ' ', ' ', ' ', ' ']"
      ]
     },
     "execution_count": 195,
     "metadata": {},
     "output_type": "execute_result"
    }
   ],
   "source": [
    "words = 'plink incoming 4311D 0940$ 093.0 23 2021'\n",
    "re.findall(\"\\s\",words)"
   ]
  },
  {
   "cell_type": "code",
   "execution_count": 196,
   "id": "a5e07681",
   "metadata": {},
   "outputs": [
    {
     "data": {
      "text/plain": [
       "['p',\n",
       " 'l',\n",
       " 'i',\n",
       " 'n',\n",
       " 'k',\n",
       " 'i',\n",
       " 'n',\n",
       " 'c',\n",
       " 'o',\n",
       " 'm',\n",
       " 'i',\n",
       " 'n',\n",
       " 'g',\n",
       " '4',\n",
       " '3',\n",
       " '1',\n",
       " '1',\n",
       " 'D',\n",
       " '0',\n",
       " '9',\n",
       " '4',\n",
       " '0',\n",
       " '$',\n",
       " '0',\n",
       " '9',\n",
       " '3',\n",
       " '.',\n",
       " '0',\n",
       " '2',\n",
       " '3',\n",
       " '2',\n",
       " '0',\n",
       " '2',\n",
       " '1']"
      ]
     },
     "execution_count": 196,
     "metadata": {},
     "output_type": "execute_result"
    }
   ],
   "source": [
    "words = 'plink incoming 4311D 0940$ 093.0 23 2021'\n",
    "re.findall(\"\\S\",words)"
   ]
  },
  {
   "cell_type": "code",
   "execution_count": 198,
   "id": "f58ebdda",
   "metadata": {},
   "outputs": [
    {
     "data": {
      "text/plain": [
       "['p', 'l', 'i', 'n', 'k', 'i', 'n', 'c', 'o', 'm', 'i', 'n', 'g']"
      ]
     },
     "execution_count": 198,
     "metadata": {},
     "output_type": "execute_result"
    }
   ],
   "source": [
    "words = 'plink incoming 4311D 0940$ 093.0 23 2021'\n",
    "re.findall(\"[a-z]\",words)"
   ]
  },
  {
   "cell_type": "code",
   "execution_count": 199,
   "id": "4eed937e",
   "metadata": {},
   "outputs": [
    {
     "data": {
      "text/plain": [
       "['4',\n",
       " '3',\n",
       " '1',\n",
       " '1',\n",
       " '0',\n",
       " '9',\n",
       " '4',\n",
       " '0',\n",
       " '0',\n",
       " '9',\n",
       " '3',\n",
       " '0',\n",
       " '2',\n",
       " '3',\n",
       " '2',\n",
       " '0',\n",
       " '2',\n",
       " '1']"
      ]
     },
     "execution_count": 199,
     "metadata": {},
     "output_type": "execute_result"
    }
   ],
   "source": [
    "re.findall(\"[0-9]\",words)"
   ]
  },
  {
   "cell_type": "code",
   "execution_count": 201,
   "id": "0f5c1ea3",
   "metadata": {},
   "outputs": [
    {
     "data": {
      "text/plain": [
       "['i', 'i', 'o', 'i']"
      ]
     },
     "execution_count": 201,
     "metadata": {},
     "output_type": "execute_result"
    }
   ],
   "source": [
    "words = 'plink incoming 4311D 0940$ 093.0 23 2021'\n",
    "re.findall(\"[oi]\",words)"
   ]
  },
  {
   "cell_type": "markdown",
   "id": "60bc43cf",
   "metadata": {},
   "source": [
    "### <span style=\"color:red\"> Activity 6</span>\n",
    "Split "
   ]
  },
  {
   "cell_type": "code",
   "execution_count": 203,
   "id": "9099336c",
   "metadata": {},
   "outputs": [],
   "source": [
    "text = 'lion \\t Ink32Clint Colorado'\n",
    "#DO something\n",
    "#output [\"lion\",\"Ink\",\"Clint\",\"Colorado\"]"
   ]
  },
  {
   "cell_type": "markdown",
   "id": "20152317",
   "metadata": {},
   "source": [
    "### Flags"
   ]
  },
  {
   "cell_type": "code",
   "execution_count": 206,
   "id": "a0b6cadd",
   "metadata": {},
   "outputs": [
    {
     "data": {
      "text/plain": [
       "True"
      ]
     },
     "execution_count": 206,
     "metadata": {},
     "output_type": "execute_result"
    }
   ],
   "source": [
    "bool(re.search(r'cat', 'Cat is blue', flags=re.IGNORECASE))"
   ]
  },
  {
   "cell_type": "code",
   "execution_count": 208,
   "id": "b34564c3",
   "metadata": {},
   "outputs": [
    {
     "data": {
      "text/plain": [
       "True"
      ]
     },
     "execution_count": 208,
     "metadata": {},
     "output_type": "execute_result"
    }
   ],
   "source": [
    "bool(re.search(r'cat', 'Cat is blue', flags=re.I)) #abrev. IGNORECASE"
   ]
  },
  {
   "cell_type": "code",
   "execution_count": 209,
   "id": "9104eb77",
   "metadata": {},
   "outputs": [
    {
     "data": {
      "text/plain": [
       "True"
      ]
     },
     "execution_count": 209,
     "metadata": {},
     "output_type": "execute_result"
    }
   ],
   "source": [
    "bool(re.search(r'^top', \"hi hello\\ntop spot\", flags=re.M)) #re.MULTILINE"
   ]
  },
  {
   "cell_type": "markdown",
   "id": "877bc7d9",
   "metadata": {},
   "source": [
    "### UNICODE"
   ]
  },
  {
   "cell_type": "code",
   "execution_count": 215,
   "id": "2048160e",
   "metadata": {},
   "outputs": [
    {
     "data": {
      "text/plain": [
       "['αλεπού', 'αετός']"
      ]
     },
     "execution_count": 215,
     "metadata": {},
     "output_type": "execute_result"
    }
   ],
   "source": [
    "import regex\n",
    "#extract greek letters\n",
    "regex.findall(r'\\p{Greek}+', 'fox:αλεπού,eagle:αετός')"
   ]
  },
  {
   "cell_type": "code",
   "execution_count": 216,
   "id": "824e8625",
   "metadata": {},
   "outputs": [
    {
     "data": {
      "text/plain": [
       "['fox', 'αλεπού', 'eagle', 'αετός']"
      ]
     },
     "execution_count": 216,
     "metadata": {},
     "output_type": "execute_result"
    }
   ],
   "source": [
    "#extract letters\n",
    "regex.findall(r'\\p{L}+', 'fox:αλεπού,eagle:αετός')"
   ]
  },
  {
   "cell_type": "code",
   "execution_count": 219,
   "id": "ac396f00",
   "metadata": {},
   "outputs": [
    {
     "data": {
      "text/plain": [
       "['fox', 'αλεπού', 'eagle', 'αετός']"
      ]
     },
     "execution_count": 219,
     "metadata": {},
     "output_type": "execute_result"
    }
   ],
   "source": [
    "#extract letters\n",
    "regex.findall(r'\\p{Word}+', 'fox:αλεπού,eagle:αετός')"
   ]
  },
  {
   "cell_type": "code",
   "execution_count": 235,
   "id": "0a3b8c74",
   "metadata": {},
   "outputs": [
    {
     "data": {
      "text/plain": [
       "[b'e', b'a', b'g', b'l', b'e']"
      ]
     },
     "execution_count": 235,
     "metadata": {},
     "output_type": "execute_result"
    }
   ],
   "source": [
    "[c.encode('unicode_escape') for c in 'eagle']\n",
    "#https://en.wikipedia.org/wiki/List_of_Unicode_characters"
   ]
  },
  {
   "cell_type": "code",
   "execution_count": 236,
   "id": "082693d6",
   "metadata": {},
   "outputs": [
    {
     "data": {
      "text/plain": [
       "[b'\\\\u03b1', b'\\\\u03bb', b'\\\\u03b5', b'\\\\u03c0', b'\\\\u03bf', b'\\\\u03cd']"
      ]
     },
     "execution_count": 236,
     "metadata": {},
     "output_type": "execute_result"
    }
   ],
   "source": [
    " [c.encode('unicode_escape') for c in 'αλεπού']"
   ]
  },
  {
   "cell_type": "code",
   "execution_count": 237,
   "id": "e61f0340",
   "metadata": {},
   "outputs": [
    {
     "data": {
      "text/plain": [
       "['fox', 'eagle']"
      ]
     },
     "execution_count": 237,
     "metadata": {},
     "output_type": "execute_result"
    }
   ],
   "source": [
    "re.findall(r'[\\u0061-\\u007a]+', 'fox:αλεπού,eagle:αετός')"
   ]
  },
  {
   "cell_type": "markdown",
   "id": "36c257b2",
   "metadata": {},
   "source": [
    "### <span style=\"color:red\"> Activity 7</span>\n",
    "Find russian words in the next text"
   ]
  },
  {
   "cell_type": "code",
   "execution_count": 238,
   "id": "36bc4f45",
   "metadata": {},
   "outputs": [],
   "source": [
    "text = \"Qui dubta d'en грузовик Eastwood Mirant el Gran Canyon del синий\" "
   ]
  },
  {
   "cell_type": "code",
   "execution_count": 241,
   "id": "aac258bf",
   "metadata": {},
   "outputs": [
    {
     "data": {
      "text/plain": [
       "['грузовик', 'синий']"
      ]
     },
     "execution_count": 241,
     "metadata": {},
     "output_type": "execute_result"
    }
   ],
   "source": []
  },
  {
   "cell_type": "markdown",
   "id": "629de7c5",
   "metadata": {},
   "source": [
    "### <span style=\"color:red\"> Final activity</span>\n",
    "Get all the years from the following text file"
   ]
  },
  {
   "cell_type": "code",
   "execution_count": 248,
   "id": "a29718d1",
   "metadata": {},
   "outputs": [
    {
     "name": "stdout",
     "output_type": "stream",
     "text": [
      "  % Total    % Received % Xferd  Average Speed   Time    Time     Time  Current\n",
      "                                 Dload  Upload   Total   Spent    Left  Speed\n",
      "100 47898    0 47898    0     0   216k      0 --:--:-- --:--:-- --:--:--  215k\n"
     ]
    }
   ],
   "source": [
    "!curl https://www.uib.es/es/personal/ABTIxNTgx/ -o personX.txt"
   ]
  },
  {
   "cell_type": "code",
   "execution_count": 249,
   "id": "fa8d6d65",
   "metadata": {},
   "outputs": [
    {
     "name": "stdout",
     "output_type": "stream",
     "text": [
      "<!DOCTYPE html>\r",
      "\r\n",
      "<html lang=\"es\" dir=\"ltr\" itemscope itemtype=\"http://schema.org/WebPage\">\r",
      "\r\n",
      "<head>\r",
      "\r\n",
      "  <title itemprop=\"name\">Dr. Isaac Lera Castro - Contacta con el personal de la UIB -  Universitat de les Illes Balears</title>\r",
      "\r\n",
      "  <meta charset=\"ISO-8859-15\" >\r",
      "\r\n",
      "  <meta name=\"author\" content=\"Universitat de les Illes Balears\" >\r",
      "\r\n",
      "  <meta name=\"DCTERMS.title\" content=\"Dr. Isaac Lera Castro - Contacta con el personal de la UIB -  Universitat de les Illes Balears\" >\r",
      "\r\n",
      "  <meta name=\"DCTERMS.creator\" content=\"Universitat de les Illes Balears\" >\r",
      "\r\n",
      "  <meta name=\"DC.language\" content=\"es\" >\r",
      "\r\n",
      "  <meta name=\"robots\" content=\"all, index, follow\" ><meta name=\"referrer\" content=\"always\">\r",
      "\r\n",
      "  <meta name=\"ICBM\" content=\"39.636344;2.646333\">\r",
      "\r\n",
      "  <meta name=\"geo.position\" content=\"39.636344;2.646333\">\r",
      "\r\n",
      "  <meta name=\"geo.region\" content=\"ES-PM\">\r",
      "\r\n",
      "  <meta name=\"geo.placename\" content=\"Universitat de les Illes Balears\">\r",
      "\r\n",
      "\r",
      "\r\n",
      "  <meta name=\"description\" content=\"Contacta con el personal de la UIB. Dr. Isaac Lera Castro\">\r",
      "\r\n",
      "\r",
      "\r\n",
      "  <meta name=\"keywords\" content=\"Contacta con el personal de la UIB\" ><meta name=\"google-site-verification\" content=\"p1-6FtiA2lPY7dbQY20Rr9aXzWfC6VoxMT4_TZUvmpI\" >\r",
      "\r\n",
      "  <meta name=\"viewport\" content=\"width=device-width, initial-scale=1.0\">\r",
      "\r\n",
      "  <!--<meta name=\"bitly-verification\" content=\"a970b6c501b1\">-->\r",
      "\r\n",
      "  <script type=\"text/javascript\" src=\"/digitalAssets/extensions/615738-jquery/jquery.js\"></script><!--[if lt IE 9]>\r\n",
      "<![endif]-->\r\n",
      "<link href=\"/digitalAssets/extensions/615738-cssdircom/estils-min.css?version=20210917.css\" rel=\"stylesheet\" type=\"text/css\" ><!--[if IE 7]>\r\n",
      "<link href=\"/digitalAssets/extensions/615738-cssdircom/dircom_ie7.css\" rel=\"stylesheet\" type=\"text/css\" ><![endif]-->\r\n",
      "\r\n",
      "<script type=\"text/javascript\">\r",
      "\r\n",
      "\t    $(function(){\r",
      "\r\n",
      "\t      (function(i,s,o,g,r,a,m){i['GoogleAnalyticsObject']=r;i[r]=i[r]||function(){\r",
      "\r\n",
      "\t      (i[r].q=i[r].q||[]).push(arguments)},i[r].l=1*new Date();a=s.createElement(o),\r",
      "\r\n",
      "\t       m=s.getElementsByTagName(o)[0];a.async=1;a.src=g;m.parentNode.insertBefore(a,m)\r",
      "\r\n",
      "\t       })(window,document,'script','//www.google-analytics.com/analytics.js','ga');\r",
      "\r\n",
      "\t      ga('create', 'UA-13062120-7', 'auto');\r",
      "\r\n",
      "\t      ga('require', 'linkid');\r",
      "\r\n",
      "\t      ga('send', 'pageview');\r",
      "\r\n",
      "\t      ga(function(tracker) {\r",
      "\r\n",
      "\t        var page = tracker.get('name');\r",
      "\r\n",
      "\t        if (typeof eventUA !== 'undefined') {\r",
      "\r\n",
      "\t            ga('set', 'nonInteraction', true);\r",
      "\r\n",
      "\t            ga('send', 'event', eventUA);\r",
      "\r\n",
      "\t        };\r",
      "\r\n",
      "\t      });\r",
      "\r\n",
      "\t    });\r",
      "\r\n",
      "\t    </script>\r",
      "\r\n",
      "  <script type=\"application/ld+json\">\r",
      "\r\n",
      "{\r",
      "\r\n",
      "  \"@context\": \"http://schema.org\",\r",
      "\r\n",
      "  \"@type\": \"Organization\",\r",
      "\r\n",
      "  \"url\": \"https://www.uib.es/es/\",\r",
      "\r\n",
      "  \"logo\": \"/digitalAssets/290/290331_logo_dircom.png\"\r",
      "\r\n",
      "}\r",
      "\r\n",
      "</script>\r",
      "\r\n",
      "\t\r",
      "\r\n",
      "\t<!-- non-retina iPhone pre iOS 7 --><link rel=\"apple-touch-icon\" href=\"/digitalAssets/291/291306_apple-touch-icon-57-precomposed.png\" sizes=\"57x57\">\r",
      "\r\n",
      "\t<!-- non-retina iPad pre iOS 7 --><link rel=\"apple-touch-icon\" href=\"/digitalAssets/291/291307_apple-touch-icon-72-precomposed.png\" sizes=\"72x72\">\r",
      "\r\n",
      "\t<!-- retina iPhone pre iOS 7 --><link rel=\"apple-touch-icon\" href=\"/digitalAssets/291/291308_apple-touch-icon-114-precomposed.png\" sizes=\"114x114\">\r",
      "\r\n",
      "\t<!-- retina iPad pre iOS 7 --><link rel=\"apple-touch-icon\" href=\"/digitalAssets/291/291309_apple-touch-icon-144-precomposed.png\" sizes=\"144x144\">\r",
      "\r\n",
      "<!-- retina iPad pre iOS 7 --><link rel=\"apple-touch-icon\" href=\"/digitalAssets/605/605311_apple-touch-icon-152x152-precomposed.png\" sizes=\"152x152\">\r\n",
      "<link rel=\"alternate\" hreflang=\"ca\" \r",
      "\r\n",
      "\t\t                  \thref=\"https://www.uib.cat/../../personal/ABTIxNTgx/\" >\r\n",
      "<link rel=\"alternate\" hreflang=\"en\" href=\"https://www.uib.eu/../../../personal/ABTIxNTgx/\" >\r\n",
      "<script type=\"text/javascript\" src=\"/digitalAssets/extensions/615738-jquery/jquery.truncator.js\"></script><link href=\"/digitalAssets/extensions/615738-cssdircom/css_estudis_mmx.css\" rel=\"stylesheet\" type=\"text/css\" ><link href=\"/digitalAssets/extensions/615738-csscompo/css_uib_pestanyes.css\" rel=\"stylesheet\" type=\"text/css\" ><link href=\"/digitalAssets/extensions/615738-cssjquery/jquery_uib_custom.css\" rel=\"stylesheet\" type=\"text/css\" ><link href=\"/digitalAssets/extensions/615738-cssjquery/jquery_acordio_uib.css\" rel=\"stylesheet\" type=\"text/css\" >\r\n",
      "</head>\r",
      "\r\n",
      "\r",
      "\r\n",
      "<body>\r",
      "\r\n",
      "  <div class=\"uib_title_hidden\" id=\"top\"><a href=\"#content-zone\" accesskey=\"S\"  tabindex=\"1\">Saltar al contenido</a></div>\r",
      "\r\n",
      "\r",
      "\r\n",
      "  <div id=\"uib_grid_body\" class=\"container-fluid   layoutCode3 repositoryId104068  siteNodeId136409\">\r",
      "\r\n",
      "  \r",
      "\r\n",
      "   <div  id=\"uib_header_options\" class=\"row-fluid\">\r",
      "\r\n",
      "          <div id=\"progress-bar\"></div>\r",
      "\r\n",
      "          <div  class=\"row-fluid\" id=\"logotoolsnav\">\r",
      "\r\n",
      "\t          <div class=\"span6\" id=\"titlelogo\">\r",
      "\r\n",
      "<a id=\"logoUIB\"  href=\"/es/\" accesskey=\"1\" tabindex=\"2\">\r",
      "\r\n",
      "\t <h1 class=\"sr-only\" id=\"titleSite\">Universitat de les Illes Balears</h1>\r",
      "\r\n",
      "</a>\r",
      "\r\n",
      "\r\n",
      "<nav class=\"menu-mobile\">\r",
      "\r\n",
      "\t\t       \t \t<button id=\"menu-mobile\" tabindex=\"3\">\r",
      "\r\n",
      "\t\t\t\t\t\t<span></span><span></span><span></span><span></span>\r",
      "\r\n",
      "\t\t\t\t\t</button>\r",
      "\r\n",
      "\t          \t </nav>\r",
      "\r\n",
      "\t             \r",
      "\r\n",
      "\t          </div>\r",
      "\r\n",
      "\t          <div class=\"span14 tools_bar\" id=\"uib_header_tools\">\r",
      "\r\n",
      "\t            <div class=\"row-fluid \" id=\"uib_header\" role=\"banner\">\r",
      "\r\n",
      "    <nav class=\"menubar hidden-phone\" >\r",
      "\r\n",
      "        <ol id=\"menu-bar\">\r",
      "\r\n",
      "       \r",
      "\r\n",
      "        <li><span >Informaci�n dirigida a</span><input type=\"checkbox\" id=\"c615960\" class=\"openclose\" /><label for=\"c615960\" tabindex=\"4\">Abre/Cierra submen�</label><div class=\"sub-menu\"><section ><ol class=\"offset6 span14\"><li><a  href=\"https://seras.uib.es/\">Futuros estudiantes de grado</a></li><li><a  href=\"https://estudis.uib.es/es/estudis-de-master/\">Futuros estudiantes de m�ster</a></li><li><a  href=\"https://estudis.uib.es/es/estudis-de-doctorat/\">Doctorandos</a></li><li><a  href=\"/es/lauib/Visitants/Mes-per-a-tu/Estic-dintercanvi-a-la-UIB-preguntes-mes-frequents/\">Estudiantes de movilidad</a></li><li><a  href=\"/es/lauib/Visitants/\">Visitantes</a></li><li><a  href=\"https://alu.uib.cat/\">Estudiantes</a></li><li><a  href=\"https://portal.uib.cat/\">Personal de administraci�n y servicios</a></li><li><a  href=\"https://portal.uib.cat/\">Personal docente e investigador</a></li><li><a  href=\"https://diari.uib.es/Sala-de-premsa/\">Sala de prensa</a></li><li><a  href=\"https://sempre.uib.es/\">Alumni</a></li></ol></section></div></li>\r\n",
      "<li><a  href=\"https://seu.uib.cat/es/\" tabindex=\"5\">Sede electr�nica</a></li>\r\n",
      "</ol>\r",
      "\r\n",
      "    </nav>\r",
      "\r\n",
      "    <nav id=\"buttons-header\"  class=\"hidden-print \"><a id=\"btn-header-apps\" href=\"https://swww.uib.es/portal-info/portal/entry/\" title=\"Aula digital, Portal PAS-PDI, UIBdigital\" tabindex=\"6\" >\r",
      "\r\n",
      "           <span class=\"far fa-user\"></span><span class=\"sr-only\">Aula digital, Portal PAS-PDI, UIBdigital</span> \r",
      "\r\n",
      "         </a>\r",
      "\r\n",
      "        \r",
      "\r\n",
      "        <a id=\"btn-header-mail\" href=\"/es/webmail/\" title=\"Webmail\" tabindex=\"7\" >           \r",
      "\r\n",
      "           <span class=\"far fa-envelope\"></span><span class=\"sr-only\">Webmail</span>\r",
      "\r\n",
      "         </a>\r",
      "\r\n",
      "        \r",
      "\r\n",
      "        \r",
      "\r\n",
      "    <button id=\"btn-header-search\" title=\"Buscador, Directorio telef�nico, Personal docente, Guia de expertos, Biblioteca, Mapa del web\" tabindex=\"8\"  >\r",
      "\r\n",
      "           <span class=\"fa fa-search\"></span><span class=\"sr-only\">Buscador, Directorio telef�nico, Personal docente, Guia de expertos, Biblioteca, Mapa del web</span>\r",
      "\r\n",
      "         </button>\r",
      "\r\n",
      "       <div class=\"searchTools\">\r",
      "\r\n",
      "         <button id=\"btn-close-search\"  title=\"\" >\r",
      "\r\n",
      "           <span class=\"fas fa-times\"></span>\r",
      "\r\n",
      "         </button>\r",
      "\r\n",
      "          <form id=\"cse-form\" action=\"/es/cerca/\"  accept-charset=\"UTF-8\" method=\"get\">\r",
      "\r\n",
      "            <input type=\"hidden\" name=\"cx\" value=\"018085696492821929087:nzzwo4ylkzc\"/>\r",
      "\r\n",
      "            <input type=\"hidden\" name=\"siteUrl\" value=\"uib.es\"/>\r",
      "\r\n",
      "            <label for=\"q\" class=\"uib_hidden\">Buscar:</label>\r",
      "\r\n",
      "            <button type=\"submit\" name=\"sa\" class=\"gsc-search-button\"> <span class=\"fa fa-search\" ></span><span>Buscar</span></button>\r",
      "\r\n",
      "            <input type=\"text\" id=\"q\" name=\"q\" size=\"12\" class=\"gsc-input \" placeholder=\"Texto a buscar\" />\r",
      "\r\n",
      "\t\t\t\r",
      "\r\n",
      "\t\t\t<input type=\"hidden\" name=\"siteNodeId\" value=\"135700\"/>\r",
      "\r\n",
      "\t\t\t\r",
      "\r\n",
      "          </form>\r",
      "\r\n",
      "\r",
      "\r\n",
      "          <ul class=\"links-search\">\r",
      "\r\n",
      "            <li><a accesskey=\"t\"  href=\"/es/cerca/directori/\"  class=\"uib_link_directori\">Directorio telef�nico</a></li>            \r",
      "\r\n",
      "\t\t\t<li><a href=\"/es/cerca/personal-docent/\"  class=\"uib_link_personaldocent\">Personal docente</a></li>\r",
      "\r\n",
      "            <li><a href=\"/es/cerca/experts/\"  class=\"uib_link_directori_experts\">Gu�a de expertos</a></li>            \r",
      "\r\n",
      "            <li><a href=\"/es/cerca/Biblioteca/\"  class=\"uib_link_biblioteca\">Biblioteca</a></li>\r",
      "\r\n",
      "            <li><a accesskey=\"m\" href=\"/es/?x_ig_aplicacio=webmap\" title=\"Mapa del web\" class=\"uib_link_sitemap\">Mapa del web</a></li>\r",
      "\r\n",
      "          </ul>\r",
      "\r\n",
      "       </div><button id=\"btn-header-font\" title=\"Fuente\" tabindex=\"9\" >\r",
      "\r\n",
      "           <span class=\"fa fa-font\"></span><span class=\"sr-only\">Fuente</span>\r",
      "\r\n",
      "        </button>\r",
      "\r\n",
      "         <div class=\"fontSize\">\r",
      "\r\n",
      "            <button id=\"decreaseFont\" title=\"Reduce el tama�o de la fuente\" >A<sup>-</sup></button>\r",
      "\r\n",
      "            <button id=\"resetFont\" title=\"Inicializa el tama�o de la fuente\" >A</button>\r",
      "\r\n",
      "            <button id=\"increaseFont\" title=\"Incrementa el tama�o de la fuente\" >A<sup>+</sup></button>\r",
      "\r\n",
      "     </div>\r",
      "\r\n",
      "\r",
      "\r\n",
      "    \r",
      "\r\n",
      "\r",
      "\r\n",
      "     <div id=\"tool_idiomes_search\" role=\"navigation\">\r",
      "\r\n",
      "     \t<button id=\"languageButton\" title=\"LANGUAGE\" class=\"visible-phone\"><span class=\"fas fa-globe\"></span></button>\r",
      "\r\n",
      "        <ul id=\"tool_idiomes\" class=\"hidden-phone\">\r",
      "\r\n",
      "        <li><a href=\"https://www.uib.cat/../../personal/ABTIxNTgx/\" title=\"ca\"\r",
      "\r\n",
      "\t\t                   class=\" \" tabindex=\"10\">\r",
      "\r\n",
      "\t\t                    Cat</a>\r",
      "\r\n",
      "\t\t\t\t\t\t  </li>\r",
      "\r\n",
      "\t\t                  <li><a href=\"https://www.uib.eu/../../../personal/ABTIxNTgx/\" lang=\"en\" class=\" \" tabindex=\"11\">\r",
      "\r\n",
      "\t\t                      Eng</a>\r",
      "\r\n",
      "\t\t                    </li>\r",
      "\r\n",
      "\t\t                    </ul>\r",
      "\r\n",
      "      </div>\r",
      "\r\n",
      "\r",
      "\r\n",
      "\r",
      "\r\n",
      "       </nav>\r",
      "\r\n",
      "\r",
      "\r\n",
      "</div><!-- /#uibheader -->\r",
      "\r\n",
      "\r",
      "\r\n",
      "\r\n",
      "<nav class=\"navtop hidden-phone rs_skip  rs_preserve\">\r",
      "\r\n",
      "            <ol id=\"menu-navtop\">\r",
      "\r\n",
      "            <li><a  href=\"https://estudis.uib.es/es/\">Aprende</a><input type=\"checkbox\" id=\"toogle615940\" class=\"openclose\" /><label for=\"toogle615940\">OpenClose</label><div class=\"sub-menu row-fluid\"><section><aside class=\"linkColumns span6\"><div class=\"card-new\"><a href=\"https://bit.ly/3Eh55Lz\"><img src=\"/digitalAssets/663/thumbnail_380_380_663828_RECT_CuboWeb_cas_UIB_Mobilitat_PlacIa.jpg\" alt=\" \"/><span class=\"margin-t-1\">Programas de movilidad 2022</span></a></div><div class=\"card-new\"><a href=\"https://bit.ly/3ABr937\"><img src=\"/digitalAssets/664/thumbnail_380_380_664579_RECT_cubo-web_man-desigual.jpg\" alt=\" \"/><span class=\"margin-t-1\">Curs d'Autoaprenentatge M�n Desigual</span></a></div></aside><ol class=\"span14\"><li><a  href=\"https://estudis.uib.es/es/estudis-de-grau/\">Estudios de grado</a></li><li><a  href=\"https://estudis.uib.es/es/estudis-de-master/\">Estudios de m�ster</a></li><li><a  href=\"https://estudis.uib.es/es/estudis-de-doctorat/\">Estudios de doctorado</a></li><li><a lang=\"ca\" href=\"https://uom.uib.es/\">Universitat Oberta per a Majors</a></li><li><a  href=\"https://estudis.uib.es/es/Estudis-propis/\">Estudios propios</a></li><li><a  href=\"https://estudis.uib.es/es/Cursos-i-tallers/\">Cursos i talleres</a></li><li><a  href=\"https://estudis.uib.es/es/Beques-i-ajuts/\">Becas y ayudas</a></li><li><a  href=\"https://internacional.uib.es/Mobilitat-i-intercanvi/AlumnatUIB/\">Programas de movilidad</a></li><li><a  href=\"https://estudis.uib.es/es/Preguntes-frequents/\">Preguntas frecuentes</a></li><li><a  href=\"https://estudis.uib.es/es/\" title=\"Aprende\">+ informaci�n <span class=\"sr-only\">Aprende</span></a></li></ol></section></div></li>\r\n",
      "<li><a  href=\"/es/recerca/\">I+D+I</a><input type=\"checkbox\" id=\"toogle615942\" class=\"openclose\" /><label for=\"toogle615942\">OpenClose</label><div class=\"sub-menu row-fluid\"><section><aside class=\"linkColumns span6\"><div class=\"card-new\"><a href=\"/es/recerca/Innovam/\"><img src=\"/digitalAssets/610/thumbnail_380_380_610709_RECT_Cubos_Desplegable-ApreIn_2020_InnovacioI.png\" alt=\" \"/><span class=\"margin-t-1\">Innovaci� UIB</span></a></div><div class=\"card-new\"><a href=\"/es/recerca/HRS4R/\"><img src=\"/digitalAssets/639/thumbnail_380_380_639317_RECT_Cubos_Desplegable-ApreIn_2020_Logo-HRS4R.png\" alt=\" \"/><span class=\"margin-t-1\">Estrategia HRS4R</span></a></div></aside><ol class=\"span14\"><li><a  href=\"/es/recerca/estructures/grups/\">Grupos de investigaci�n</a></li><li><a  href=\"/es/recerca/ajuts/\">Ayudas para la investigaci�n</a></li><li><a  href=\"https://ppi.uib.es\">Portal del personal investigador</a></li><li><a  href=\"https://webgrec.uib.es/grec_cas.html\">GREC en la UIB</a></li><li><a  href=\"/es/recerca/HRS4R/\">HRS4R - Estrategia RH</a></li><li><a  href=\"/es/recerca/Innovam/\">Innovaci�n y transferencia</a></li><li><a  href=\"/es/recerca/Emprenem/\">Emprendimiento</a></li><li><a lang=\"ca\" href=\"https://culturacientifica.uib.es/\">Cultura cient�fica</a></li><li><a  href=\"/es/recerca/Innovam/ZZ_Fundacio-Universitat-Empresa/\">Servicios a las empresas </a></li><li><a  href=\"/es/recerca/\" title=\"I+D+I\">+ informaci�n <span class=\"sr-only\">I+D+I</span></a></li></ol></section></div></li>\r\n",
      "<li><a  href=\"/es/lauib/\">Con�cenos</a><input type=\"checkbox\" id=\"toogle615941\" class=\"openclose\" /><label for=\"toogle615941\">OpenClose</label><div class=\"sub-menu row-fluid\"><section><aside class=\"linkColumns span6\"><div class=\"card-new\"><a href=\"https://transparencia.uib.es/\"><img src=\"/digitalAssets/610/thumbnail_380_380_610708_RECT_Cubos_Desplegable-Coneix-nos_2020_Portal-de-transpareIncia.png\" alt=\" \"/><span class=\"margin-t-1\">Portal de transpar�ncia</span></a></div><div class=\"card-new\"><a href=\"/es/lauib/Viu-la-UIB/\"><img src=\"/digitalAssets/610/thumbnail_380_380_610707_RECT_Cubos_Desplegable-Coneix-nos_2020_24-hores.png\" alt=\" \"/><span class=\"margin-t-1\">24 hores a la UIB</span></a></div></aside><ol class=\"span14\"><li><a  href=\"/es/lauib/Visitants/\">Visitantes</a></li><li><a lang=\"ca\" href=\"/es/lauib/Govern-i-organitzacio/Organs-de-govern/rector/\">El Rector</a></li><li><a  href=\"/es/lauib/Govern-i-organitzacio/Organs-de-govern/\">�rganos de gobierno</a></li><li><a  href=\"/es/lauib/Govern-i-organitzacio/estructura/Facultats-i-escoles/\">Facultades y escuelas</a></li><li><a  href=\"/es/lauib/Govern-i-organitzacio/estructura/Departaments/\">Departamentos</a></li><li><a  href=\"/es/lauib/Govern-i-organitzacio/estructura/serveis/\">Servicios</a></li><li><a lang=\"ca\" href=\"/es/lauib/Govern-i-organitzacio/estructura/\">Estructura</a></li><li><a  href=\"/es/lauib/Visitants/localitzacio/\">Localizaci�n</a></li><li><a  href=\"https://transparencia.uib.es/\">Portal de transparencia</a></li><li><a  href=\"/es/lauib/\" title=\"Con�cenos\">+ informaci�n <span class=\"sr-only\">Con�cenos</span></a></li></ol></section></div></li>\r\n",
      "<li><a  href=\"/es/tot/\">Todo</a></li>\r\n",
      "</ol>\r",
      "\r\n",
      "      </nav>\r",
      "\r\n",
      "\r\n",
      "</div>\r",
      "\r\n",
      "\t      </div>\t     \r",
      "\r\n",
      "      </div> \r",
      "\r\n",
      "   <div id=\"uib_grid\" class=\"row-fluid\">\r",
      "\r\n",
      "      \r",
      "\r\n",
      "      <!-- size: 6 -->\r",
      "\r\n",
      "<div id=\"uib_missatges_alerta\">\r",
      "\r\n",
      "\t\t<div class=\"alert alert-green\">\t\r",
      "\r\n",
      "\t\t\t<div class=\"circle circle-info\"></div>\r",
      "\r\n",
      "\t\t\t<a href=\"https://coronavirus.uib.es/\" target=\"_self\">\t\t\t\t\t\r",
      "\r\n",
      "\t\t\t\t\tInformaci�n acad�mica y sanitaria sobre el coronavirus</a>\r",
      "\r\n",
      "\t\t\t\t</div></div>\t\r",
      "\r\n",
      "\r\n",
      "<div class=\"uib_hidden\" id=\"skipnavigation\"><a href=\"#uib_grid_content\" accesskey=\"2\">Saltar la navegaci�n</a></div>\r",
      "\r\n",
      "\t\r",
      "\r\n",
      "\t  \t  <div class=\"row-fluid\" id=\"menu-navegacio-seccio\">\r",
      "\r\n",
      "\t<nav class=\"span20 menubanner\" id=\"uib_banner\" >\t<a href=\"/es/personal/\">Contacta con el personal de la UIB</a>\r",
      "\r\n",
      "\t            <div id=\"menu-navigation\" class=\" menu-navigation\" >\r",
      "\r\n",
      "\t        <span class=\"fas fa-plus\"></span>  \r",
      "\r\n",
      "\t   </div> \r",
      "\r\n",
      "\t</nav>\r",
      "\r\n",
      "\t\r",
      "\r\n",
      "\t<!-- ocultarMenu  -->\r",
      "\r\n",
      "\t\t\r",
      "\r\n",
      "\t\t</div>\r",
      "\r\n",
      "\r\n",
      "<div class=\"row-fluid rs-botons\">\t       \r",
      "\r\n",
      "\t          <div class=\"span20 text-right\">\r",
      "\r\n",
      "\t          \t\t<div id=\"botonsSocials0\" class=\" botonssocials  rs_preserve rs_skip\"  >\r",
      "\r\n",
      "\t\t <div class=\"btn_wrap\">\r",
      "\r\n",
      "                <button class=\"print far fa-file-pdf\" id=\"printer\" title=\"Imprimir\"></button>\r",
      "\r\n",
      "\t        <span>Comparte en el: </span>\r",
      "\r\n",
      "\t        <div class=\"clipzone\">\r",
      "\r\n",
      "\t            <a href=\"https://www.facebook.com/sharer/sharer.php?u=https%3A%2F%2Fwww.uib.es%2Fes%2Fpersonal%2F&t=Contacta+con+el+personal+de+la+UIB\"\t             \r",
      "\r\n",
      "   \t\t\t\t  title=\"Comparte en el Facebook\">\r",
      "\r\n",
      "   \t\t\t\t <span class=\"fab fa-facebook-f\"><span class=\"sr-only\">Facebook</span></span></a>\r",
      "\r\n",
      "\t           \r",
      "\r\n",
      "\t           \r",
      "\r\n",
      "\t            <a href=\"https://twitter.com/intent/tweet?tw_p=tweetbutton&url=https%3A%2F%2Fwww.uib.es%2Fes%2Fpersonal%2F&text=Contacta+con+el+personal+de+la+UIB\"   \t\t\t\t\t\r",
      "\r\n",
      "   \t\t\t\t\t title=\"Comparte en el Twitter\">\r",
      "\r\n",
      "\t\t\t\t\t<span class=\"fab fa-twitter\"><span class=\"sr-only\">Twitter</span></span></a>\r",
      "\r\n",
      "\t\t\t\t\t\r",
      "\r\n",
      "\t\t\t\t<a href=\"https://api.whatsapp.com/send?text=https%3A%2F%2Fwww.uib.es%2Fes%2Fpersonal%2F\" data-action=\"share/whatsapp/share\"\r",
      "\r\n",
      "\t\t\t\t title=\"Comparte en el Whatsapp\">\r",
      "\r\n",
      "\t\t\t\t<span class=\"fab fa-whatsapp\"><span class=\"sr-only\">Whatsapp</span></span></a>\t\t\t\r",
      "\r\n",
      "\t        </div>\r",
      "\r\n",
      "\t    </div>\r",
      "\r\n",
      "\t</div>\r",
      "\r\n",
      "\r\n",
      "<script>\r",
      "\r\n",
      "function doPrint(){\r",
      "\r\n",
      "window.print();\r",
      "\r\n",
      "//printJS({ printable: 'uib_grid', type: 'html', maxWidth:1024, ignoreElements: ['skipnavigation']});\r",
      "\r\n",
      "}\r",
      "\r\n",
      "document.getElementById(\"printer\").addEventListener(\"click\", doPrint);\r",
      "\r\n",
      "</script>\r\n",
      "<script type=\"text/javascript\">\r",
      "\r\n",
      "\t\twindow.rsConf = {params: '//cdn1.readspeaker.com/script/9829/webReader/webReader.js?pids=wr&dload=DocReader.AutoAdd&disable=readhover'};\r",
      "\r\n",
      "\t\r",
      "\r\n",
      "\t\twindow.rsDocReaderConf = {lang: 'es_es' ,voice:'Jordi', img_alt: 'Escuchar el documento'}; \r",
      "\r\n",
      "\t</script>\r",
      "\r\n",
      "\t<div id=\"rspzone\">\t\r",
      "\r\n",
      "\t\t\t\t <div id=\"showPlayerRS2020\">\r",
      "\r\n",
      "\t\t\t\t \t<div id=\"readspeaker_button1\" class=\"rs_skip rsbtn rs_preserve\">\r",
      "\r\n",
      "\t\t\t\t\t\t\r",
      "\r\n",
      "\t\t\t\t\t    <a rel=\"nofollow\" class=\"rsbtn_play\" accesskey=\"L\" title=\"Escuchar\" \r",
      "\r\n",
      "\t\t\t\t\t    href=\"//app-eu.readspeaker.com/cgi-bin/rsent?customerid=9829&amp;lang=es_es&amp;voice=Jordi&amp;readid=uib_banner,content-zone&amp;readclass=contentRS&amp;url=https%3A%2F%2Fwww.uib.es%3A80%2Fes%2Fpersonal%2F\">\r",
      "\r\n",
      "\t\t\t\t\t        <span class=\"rsbtn_left rsimg rspart\"><span class=\"rsbtn_text\"><span>Escuchar</span></span></span>\r",
      "\r\n",
      "\t\t\t\t\t       </a>\r",
      "\r\n",
      "\t\t\t\t\t    <button type=\"button\" class=\"rsbtn_tooltoggle\" title=\"Obre/cierra barra de herramientas\" style=\"display:none\" aria-expanded=\"false\" accesskey=\"r\">\r",
      "\r\n",
      "\t\t\t\t\t\t\t<span class=\"rsicn rsicn-arrow-down\"></span><span class=\"rsbtn_btnlabel\" style=\"width: 0px; height: 0px;\">Obre/cierra barra de herramientas</span>\r",
      "\r\n",
      "\t\t\t\t\t\t</button>\r",
      "\r\n",
      "\t\t\t\t\t</div> \r",
      "\r\n",
      "\t\t\t\t</div>\t\t\r",
      "\r\n",
      "\t\t</div>\r\n",
      "</div>\r",
      "\r\n",
      "\t      </div>      \r",
      "\r\n",
      "       \r",
      "\r\n",
      "      <div class=\"row-fluid\" id=\"content-zone\" style=\"float:left;\">\r",
      "\r\n",
      "        <div id=\"uib_grid_content\" class=\"span20\" role=\"main\"  lang=\"es\">\r",
      "\r\n",
      "\t          <div class=\"row-fluid\">\r",
      "\r\n",
      "\t\t            </div>\r",
      "\r\n",
      "\t\t      <div class=\"row-fluid\">\r",
      "\r\n",
      "\t             <div id=\"uib_style_content\" class=\"titled_box layout3\"  itemprop=\"mainContentOfPage\" >\r",
      "\r\n",
      "\t              <div class=\"row float-left\" id=\"fichapersonal\">\r\n",
      "         <div id=\"tocify\" class=\"col-lg-3 hasTitleContent menuleft menuficha\">\r\n",
      "            <nav class=\"menu-third \" id=\"menuleft-nav\">\r\n",
      "               <div class=\"menuleft_box\"><span class=\"menuleft_titol\"><a title=\"Fitxa\" href=\"./\" class=\"link-selected current-page\" aria-current=\"page\">Fitxa</a></span><input type=\"checkbox\" id=\"toogle136412\" class=\"openclose\"><label for=\"toogle136412\">OpenClose</label><ol class=\"menuleft_list sub-menu\">\r\n",
      "                     <li class=\" haschildren \"><label class=\"item\" for=\"curriculum\" style=\"background-color:#bed8ef\">Curr�culum</label><ol class=\"menuleft_list sub-menu\">\r\n",
      "                           <li><label for=\"curriculum_breu\" class=\"item\">Curr�culum breve</label></li>\r\n",
      "                        </ol>\r\n",
      "                     </li>\r\n",
      "                     <li><label class=\"item\" for=\"docencia\">Docencia</label><ol class=\"menuleft_list sub-menu\">\r\n",
      "                           <li><label for=\"docencia_tutories\" class=\"item\">Horario de tutor�as</label></li>\r\n",
      "                           <li><label for=\"docencia_assignatures\" class=\"item\">Asignaturas</label></li>\r\n",
      "                           <li><label for=\"docencia_antiga_assignatures\" class=\"item\">Docencia de los 5 a�os anteriores</label></li>\r\n",
      "                        </ol>\r\n",
      "                     </li>\r\n",
      "                     <li><label class=\"item\" for=\"recerca\">Investigaci�n</label><ol class=\"menuleft_list sub-menu\">\r\n",
      "                           <li><label for=\"recerca_grups\" class=\"item\">Grupos de investigaci�n</label></li>\r\n",
      "                           <li><label for=\"recerca_especialitats\" class=\"item\">Especialidades</label></li>\r\n",
      "                           <li><label for=\"recerca_1\" class=\"item\">Breu descripci� / Breve descripci�n</label></li>\r\n",
      "                        </ol>\r\n",
      "                     </li>\r\n",
      "                  </ol>\r\n",
      "               </div>\r\n",
      "            </nav>\r\n",
      "            <div class=\"hiddenzone\">&nbsp;</div>\r\n",
      "         </div>\r\n",
      "         <div class=\"col-lg-9\" role=\"main\" lang=\"ca\">\r\n",
      "            <div class=\"row-fluid\">\r\n",
      "               <h1 class=\"titlePage\" itemprop=\"alternateName\" id=\"titleContent\">Dr. Isaac Lera Castro</h1>\r\n",
      "            </div>\r\n",
      "            <div class=\"row-fluid\">\r\n",
      "               <div class=\"titled_box layout1\" itemprop=\"mainContentOfPage\">\r\n",
      "                  <div class=\"row-fluid\">\r\n",
      "                     <div class=\"row\">\r\n",
      "                        <div class=\"col-md-10\"><span class=\"no-mobile-data\"><img class=\"img-left\" src=\"https://www.uib.cat/personal/ABTIxNTgx/image.jpg\" alt=\"Dr. Isaac Lera Castro\"></span><div class=\"uib-style-filaunica\">Profesor titular de universidad </div>\r\n",
      "                           <div class=\"uib-style-filaunica\"><a href=\"https://www.uib.es/es/lauib/Govern-i-organitzacio/estructura/Departaments/dmi/\">Ciencias Matem�ticas e Inform�tica</a></div>\r\n",
      "                           <div class=\"uib-style-filaunica\"><span>Arquitectura y Tecnolog�a de Computadores</span></div>\r\n",
      "                           <div class=\"uib-style-filaunica\"><a href=\"//personal.uib.es/isaac.lera\" rel=\"nofollow\">personal.uib.es/isaac.lera</a></div>\r\n",
      "                        </div>\r\n",
      "                        <div class=\"col-md-2\"></div>\r\n",
      "                     </div>\r\n",
      "                     <div class=\"row\">\r\n",
      "                        <div class=\"col-md-6\">\r\n",
      "                           <ul class=\"UIB_lista_telefons\" style=\"list-style:none; margin:0 0 1em 0;\">\r\n",
      "                              <li><span><i class=\"fa fa-phone visible-desktop hidden-phone hidden-tablet\" aria-hidden=\"true\">&nbsp;</i></span><span class=\"telefon_complet\"><span class=\"visible-desktop hidden-phone hidden-tablet\">971 172005</span><a href=\"tel:+34971172005\" class=\"hidden-desktop visible-phone visible-tablet link_phone\">971172005</a></span><span class=\"extension\"> (2005)\r\n",
      "                                    &nbsp;\r\n",
      "                                    </span></li>\r\n",
      "                           </ul>\r\n",
      "                           <ul class=\"UIB_lista_localitzacions\" style=\"margin: 0;list-style: none;\">\r\n",
      "                              <li><span class=\"lloc\" style=\"display: block;margin-left: 1.25em;\"><i class=\"fa fa-home\" aria-hidden=\"true\" style=\"margin-left: -1.25em;\">&nbsp;</i>Despatx 235</span><span class=\"planta\" style=\"display: block; padding-left: 1.25em\">Segon pis</span><span class=\"edifici\" style=\"display: block; padding-left: 1.25em\">Anselm Turmeda</span></li>\r\n",
      "                           </ul>\r\n",
      "                        </div>\r\n",
      "                        <div class=\"col-md-6\">\r\n",
      "                           <ul style=\"list-style-type:none;margin:0;\">\r\n",
      "                              <li><a href=\"https://github.com/wisaaco\" class=\"link_url\">Web personal</a></li>\r\n",
      "                              <li><a href=\"http://www.uib.es/es/contactePersonal/ABTIxNTgx/\" class=\"link_email\" rel=\"nofollow\">Contacto</a></li>\r\n",
      "                              <li><a href=\"#docencia_tutories\" rel=\"nofollow\"><i class=\"fa fa-calendar\" aria-hidden=\"true\">&nbsp;</i>Horario de tutor�as</a></li>\r\n",
      "                           </ul><br><ul class=\"p_social\">\r\n",
      "                              <li><a href=\"https://scholar.google.es/citations?user=cLVksYoAAAAJ&amp;hl=es\" title=\"Google scholar profile\" class=\"p_scholar\">Google scholar profile\r\n",
      "                                    </a></li>\r\n",
      "                              <li><a href=\"http://orcid.org/0000-0002-2826-5970\" title=\"ORCID profile\" class=\"p_orcid\">ORCID profile</a></li>\r\n",
      "                              <li><a href=\"https://www.researchgate.net/profile/Isaac_Lera\" title=\"ResearchGate profile\" class=\"p_rg\">ResearchGate\r\n",
      "                                    profile\r\n",
      "                                    </a></li>\r\n",
      "                              <li><a href=\"http://www.researcherid.com/rid/E-5467-2011\" title=\"ResearcherID profile\" class=\"p_researchid\">ResearcherID profile\r\n",
      "                                    </a></li>\r\n",
      "                              <li><a href=\"https://www.scopus.com/authid/detail.uri?authorId=8892616300\" title=\"Scopus profile\" class=\"p_scopus\">Scopus\r\n",
      "                                    profile\r\n",
      "                                    </a></li>\r\n",
      "                           </ul>\r\n",
      "                        </div>\r\n",
      "                     </div><input type=\"radio\" id=\"curriculum\" name=\"info_panel_toggle\" class=\"radio_toggle\"><div class=\"global_panel\">\r\n",
      "                        <h2 class=\"section_title\">Curr�culum</h2><input type=\"radio\" id=\"curriculum_breu\" name=\"info_panel_toggle\" class=\"radio_toggle\"><div class=\"info_panel\">\r\n",
      "                           <div id=\"info_curriculum_breu\" class=\"row-fluid\">\r\n",
      "                              <div class=\"span20\">\r\n",
      "                                 <h3>Curr�culum breve</h3>\r\n",
      "                                 <div id=\"cv_breve\"><p>Titular de Universidad (2021),&nbsp;Doctor en Inform�tica por la UIB (2012) e Ingeniero en Inform�tica (2006) por la misma .&nbsp;<br>He&nbsp;pasado por diversas figuras laborales desde&nbsp;el&nbsp;2005 relacionadas con el mundo acad�mico. He&nbsp;impartido clases tanto en licenciatura, grado y master en asignaturas troncales y optativas, como por ejemplo,&nbsp;<em>Arquitectura de Computadores, Evaluaci�n y Explotaci�n de Sistemas Inform�ticos, Web Sem�ntica, Cloud Computing</em>, etc.</p>\r\n",
      "<p>Actualmente, soy&nbsp;codirector del M�ster Universitario de An�lisis de Datos Masivos en Econom�a y Empresa (MADM) (<a href=\"https://cep.uib.cat/master/MADM/\">https://cep.uib.cat/master/MADM/</a> y <a href=\"http://madm.uib.es/\">http://madm.uib.es/</a>). Y subdirector del LAIA (Laboratorio de Aplicaciones de Inteligencia Artificial)</p>\r\n",
      "<p>Adoro la arquitectura de computadores, las simulaciones y programar cosas raras.</p></div>\r\n",
      "                              </div>\r\n",
      "                           </div>\r\n",
      "                        </div>\r\n",
      "                     </div><input type=\"radio\" id=\"docencia\" name=\"info_panel_toggle\" class=\"radio_toggle\"><div class=\"global_panel\">\r\n",
      "                        <h2 class=\"section_title\">Docencia</h2><input type=\"radio\" id=\"docencia_tutories\" name=\"info_panel_toggle\" class=\"radio_toggle\"><div class=\"info_panel\">\r\n",
      "                           <h3>Horario de tutor�as</h3>Hay que concertar cita previa con el profesor para hacer una tutor�a</div><input type=\"radio\" id=\"docencia_assignatures\" name=\"info_panel_toggle\" class=\"radio_toggle\"><div class=\"info_panel\">\r\n",
      "                           <div id=\"docencia2021-22\" class=\"uib_style_partcontent\">\r\n",
      "                              <h3>Asignaturas donde imparte docencia. A�o acad�mico 2021-22</h3>\r\n",
      "                              <ul style=\"padding: 1.5em;\">\r\n",
      "                                 <li><a href=\"https://estudis.uib.es/es/estudis-de-grau/grau/informatica/GIN2-P/21741/\"><strong><span class=\"UIB_codi_assignatura\">21741</span> - Arquitecturas Avanzadas. </strong>Grado en Ingenier�a Inform�tica (Plan 2014) en Mallorca.</a></li>\r\n",
      "                                 <li><a href=\"https://estudis.uib.es/es/estudis-de-grau/grau/informatica/GIN3-P/21741/\"><strong><span class=\"UIB_codi_assignatura\">21741</span> - Arquitecturas Avanzadas. </strong>Grado en Ingenier�a Inform�tica en Mallorca.</a></li>\r\n",
      "                                 <li><a href=\"https://estudis.uib.es/es/estudis-de-master/master/2021-22/MADM/11636/\"><strong><span class=\"UIB_codi_assignatura\">11636</span> - Computaci�n en la Nube (Cloud Computing). </strong>M�ster Universitario en An�lisis de Datos Masivos en Econom�a y Empresa.</a></li>\r\n",
      "                                 <li><a href=\"https://estudis.uib.es/es/estudis-de-master/master/2021-22/MADM/11639/\"><strong><span class=\"UIB_codi_assignatura\">11639</span> - Miner�a de Datos y Texto. </strong>M�ster Universitario en An�lisis de Datos Masivos en Econom�a y Empresa.</a></li>\r\n",
      "                                 <li><a href=\"https://estudis.uib.es/es/estudis-de-master/master/2021-22/MADM/11661/\"><strong><span class=\"UIB_codi_assignatura\">11661</span> - Trabajo de Fin de M�ster. </strong>M�ster Universitario en An�lisis de Datos Masivos en Econom�a y Empresa.</a></li>\r\n",
      "                              </ul>\r\n",
      "                           </div>\r\n",
      "                        </div><input type=\"radio\" id=\"docencia_antiga_assignatures\" name=\"info_panel_toggle\" class=\"radio_toggle\"><div class=\"info_panel docencia_antiga_assignatures\">\r\n",
      "                           <h3>Docencia de los 5 a�os anteriores</h3>\r\n",
      "                           <table class=\"table table-striped tablemobile\">\r\n",
      "                              <tr>\r\n",
      "                                 <th>Asignatura</th>\r\n",
      "                                 <th>Informaci�n en el estudio donde la imparti�</th>\r\n",
      "                              </tr>\r\n",
      "                              <tr>\r\n",
      "                                 <td>11537\r\n",
      "                                    -\r\n",
      "                                    Direcci�n Estrat�gica de Sistemas y Tecnolog�as</td>\r\n",
      "                                 <td>\r\n",
      "                                    <ul>\r\n",
      "                                       <li>M�ster Universitario en Ingenier�a Inform�tica<span class=\"any_aca_docencia_antiga\"><a href=\"http://cep.uib.es/es/master/2016-17/MINF/11537/index.html\">2016-17</a></span></li>\r\n",
      "                                    </ul>\r\n",
      "                                 </td>\r\n",
      "                              </tr>\r\n",
      "                              <tr>\r\n",
      "                                 <td>11571\r\n",
      "                                    -\r\n",
      "                                    Trabajo de Fin de M�ster</td>\r\n",
      "                                 <td>\r\n",
      "                                    <ul>\r\n",
      "                                       <li>M�ster Universitario en Ingenier�a Inform�tica<span class=\"any_aca_docencia_antiga\"><a href=\"http://cep.uib.es/es/master/2016-17/MINF/11571/index.html\">2016-17</a></span></li>\r\n",
      "                                       <li>M�ster Universitario en Ingenier�a Inform�tica (Plan 2014)<span class=\"any_aca_docencia_antiga\"><a href=\"http://cep.uib.es/es/master/2018-19/MINF/11571/index.html\">2018-19</a></span></li>\r\n",
      "                                    </ul>\r\n",
      "                                 </td>\r\n",
      "                              </tr>\r\n",
      "                              <tr>\r\n",
      "                                 <td>11636\r\n",
      "                                    -\r\n",
      "                                    Computaci�n en la Nube (Cloud Computing)</td>\r\n",
      "                                 <td>\r\n",
      "                                    <ul>\r\n",
      "                                       <li>M�ster Universitario en An�lisis de Datos Masivos en Econom�a y Empresa<span class=\"any_aca_docencia_antiga\"><a href=\"http://cep.uib.es/es/master/2018-19/MADM/11636/index.html\">2018-19</a><span>, </span><a href=\"http://cep.uib.es/es/master/2019-20/MADM/11636/index.html\">2019-20</a><span>, </span><a href=\"http://cep.uib.es/es/master/2020-21/MADM/11636/index.html\">2020-21</a></span></li>\r\n",
      "                                    </ul>\r\n",
      "                                 </td>\r\n",
      "                              </tr>\r\n",
      "                              <tr>\r\n",
      "                                 <td>11637\r\n",
      "                                    -\r\n",
      "                                    Tecnolog�as de Informaci�n Sem�ntica</td>\r\n",
      "                                 <td>\r\n",
      "                                    <ul>\r\n",
      "                                       <li>M�ster Universitario en An�lisis de Datos Masivos en Econom�a y Empresa<span class=\"any_aca_docencia_antiga\"><a href=\"http://cep.uib.es/es/master/2016-17/MADM/11637/index.html\">2016-17</a><span>, </span><a href=\"http://cep.uib.es/es/master/2017-18/MADM/11637/index.html\">2017-18</a></span></li>\r\n",
      "                                    </ul>\r\n",
      "                                 </td>\r\n",
      "                              </tr>\r\n",
      "                              <tr>\r\n",
      "                                 <td>11638\r\n",
      "                                    -\r\n",
      "                                    Gesti�n y Almacenamiento de Datos Masivos</td>\r\n",
      "                                 <td>\r\n",
      "                                    <ul>\r\n",
      "                                       <li>M�ster Universitario en An�lisis de Datos Masivos en Econom�a y Empresa<span class=\"any_aca_docencia_antiga\"><a href=\"http://cep.uib.es/es/master/2016-17/MADM/11638/index.html\">2016-17</a><span>, </span><a href=\"http://cep.uib.es/es/master/2017-18/MADM/11638/index.html\">2017-18</a><span>, </span><a href=\"http://cep.uib.es/es/master/2018-19/MADM/11638/index.html\">2018-19</a></span></li>\r\n",
      "                                    </ul>\r\n",
      "                                 </td>\r\n",
      "                              </tr>\r\n",
      "                              <tr>\r\n",
      "                                 <td>11661\r\n",
      "                                    -\r\n",
      "                                    Trabajo de Fin de M�ster</td>\r\n",
      "                                 <td>\r\n",
      "                                    <ul>\r\n",
      "                                       <li>M�ster Universitario en An�lisis de Datos Masivos en Econom�a y Empresa<span class=\"any_aca_docencia_antiga\"><a href=\"http://cep.uib.es/es/master/2017-18/MADM/11661/index.html\">2017-18</a><span>, </span><a href=\"http://cep.uib.es/es/master/2018-19/MADM/11661/index.html\">2018-19</a><span>, </span><a href=\"http://cep.uib.es/es/master/2019-20/MADM/11661/index.html\">2019-20</a><span>, </span><a href=\"http://cep.uib.es/es/master/2020-21/MADM/11661/index.html\">2020-21</a></span></li>\r\n",
      "                                    </ul>\r\n",
      "                                 </td>\r\n",
      "                              </tr>\r\n",
      "                              <tr>\r\n",
      "                                 <td>21719\r\n",
      "                                    -\r\n",
      "                                    Evaluaci�n de Comportamiento de Sistemas Inform�ticos</td>\r\n",
      "                                 <td>\r\n",
      "                                    <ul>\r\n",
      "                                       <li>Grado en Ingenier�a Inform�tica<span class=\"any_aca_docencia_antiga\"><a href=\"http://estudis.uib.es/es/estudis-de-grau/Que-estudiar/cercador/as/2016-17/21719/\">2016-17</a><span>, </span><a href=\"http://estudis.uib.es/es/estudis-de-grau/Que-estudiar/cercador/as/2017-18/21719/\">2017-18</a><span>, </span><a href=\"http://estudis.uib.es/es/estudis-de-grau/Que-estudiar/cercador/as/2018-19/21719/\">2018-19</a><span>, </span><a href=\"http://estudis.uib.es/es/estudis-de-grau/Que-estudiar/cercador/as/2019-20/21719/\">2019-20</a></span></li>\r\n",
      "                                       <li>Grado en Ingenier�a Inform�tica (Plan 2010)<span class=\"any_aca_docencia_antiga\"><a href=\"http://estudis.uib.es/es/estudis-de-grau/Que-estudiar/cercador/as/2016-17/21719/\">2016-17</a><span>, </span><a href=\"http://estudis.uib.es/es/estudis-de-grau/Que-estudiar/cercador/as/2017-18/21719/\">2017-18</a><span>, </span><a href=\"http://estudis.uib.es/es/estudis-de-grau/Que-estudiar/cercador/as/2018-19/21719/\">2018-19</a><span>, </span><a href=\"http://estudis.uib.es/es/estudis-de-grau/Que-estudiar/cercador/as/2019-20/21719/\">2019-20</a></span></li>\r\n",
      "                                       <li>Grado en Ingenier�a Inform�tica (Plan 2014)<span class=\"any_aca_docencia_antiga\"><a href=\"http://estudis.uib.es/es/estudis-de-grau/Que-estudiar/cercador/as/2020-21/21719/\">2020-21</a></span></li>\r\n",
      "                                    </ul>\r\n",
      "                                 </td>\r\n",
      "                              </tr>\r\n",
      "                           </table>\r\n",
      "                        </div>\r\n",
      "                     </div><input type=\"radio\" id=\"recerca\" name=\"info_panel_toggle\" class=\"radio_toggle\"><div class=\"global_panel\">\r\n",
      "                        <h2 class=\"section_title\">Investigaci�n</h2><input type=\"radio\" id=\"recerca_grups\" name=\"info_panel_toggle\" class=\"radio_toggle\"><div class=\"info_panel\">\r\n",
      "                           <div id=\"investigacio\" style=\"display:block\" class=\"uib_style_partcontent\">\r\n",
      "                              <h3>Grupos de investigaci�n</h3>\r\n",
      "                              <table class=\"UIB_columns InfoProfessor\">\r\n",
      "                                 <tr>\r\n",
      "                                    <th>Grupo</th>\r\n",
      "                                    <th>Tipo de participaci�n</th>\r\n",
      "                                 </tr>\r\n",
      "                                 <tr>\r\n",
      "                                    <td><a href=\"https://acsic.uib.es\">Arquitectura y comportamiento de sistemas inform�ticos y de comunicaciones (ACSIC)</a></td>\r\n",
      "                                    <td>Miembro</td>\r\n",
      "                                 </tr>\r\n",
      "                              </table>\r\n",
      "                           </div>\r\n",
      "                        </div><input type=\"radio\" id=\"recerca_especialitats\" name=\"info_panel_toggle\" class=\"radio_toggle\"><div class=\"info_panel\">\r\n",
      "                           <h3>Especialidades</h3>\r\n",
      "                           <div class=\"row-fluid\">\r\n",
      "                              <div class=\"span20\">\r\n",
      "                                 <ul class=\"llista_especialitats\">\r\n",
      "                                    <li><a href=\"https://www.uib.es/es/cerca/experts/330406.html\">Arquitectura de ordenadores</a></li>\r\n",
      "                                 </ul>\r\n",
      "                              </div>\r\n",
      "                           </div>\r\n",
      "                        </div><input type=\"radio\" id=\"recerca_1\" name=\"info_panel_toggle\" class=\"radio_toggle\"><div class=\"info_panel\">\r\n",
      "                           <h3>Breu descripci� / Breve descripci�n</h3><p>Mis l�neas principales de investigaci�n son el rendimiento de sistemas inform�ticos, computaci�n en la nube, computaci�n perimetral (Edge Computing), y web sem�ntica.</p>\r\n",
      "<p>Tengo diversas publicaciones en revistas indexadas JCR-SCI y en m�ltiples congresos nacionales e internacionales.&nbsp; A fecha 2019, las publicaciones JCR se clasifican&nbsp;en 11 muy relevantes (7 en Q1 y 4 en Q2) y 6 relevantes (3 en Q3 y 3 en Q4).&nbsp;</p>\r\n",
      "<p>Destacar�a 4 aportaciones&nbsp;a nivel&nbsp;cronol�gico&nbsp;de investigaci�n:</p>\r\n",
      "<ul>\r\n",
      " <li>Isaac Lera; Carlos Juiz; Ramon Puigjaner. Performance-related ontologies and semantic web applications for on-line performance assessment of intelligent systems. Science of Computer Programming. Vol. 61. Pag. 27&#x2014;37. 2006 https://doi.org/10.1016/j.scico.2005.11.003.</li>\r\n",
      " <li>Isaac Lera; Toni P�rez; Carlos Guerrero; Victor M. Egu�luz; Carlos Juiz. Analysing Human Mobility Patterns of Hiking Activities through Complex Network Theory. Plos One. PLOS ONE 12(5): e0177712. 2017 https://doi.org/10.1371/journal.pone.0177712&nbsp;</li>\r\n",
      " <li>Isaac Lera; Carlos Guerrero; Carlos Juiz Availability-Aware Service Placement Policy in Fog Computing Based on Graph Partitions. IEEE Internet of Things Journal Vol. 6(2) P�g. 3641- 3651. April&nbsp; 2019 https://doi.org/10.1109/JIOT.2018.2889511&nbsp;</li>\r\n",
      " <li>Isaac Lera, Carlos Guerrero, Carlos Juiz. YAFS: A simulator for IoT scenarios in fog computing. IEEE Access. Vol. 7(1), p�g. 91745-91758, 10.1109/ACCESS.2019.2927895, Jul 10 2019.&nbsp;</li>\r\n",
      "</ul></div>\r\n",
      "                     </div>\r\n",
      "                  </div>\r\n",
      "               </div>\r\n",
      "            </div>\r\n",
      "         </div>\r\n",
      "      </div><script type=\"text/javascript\">\r\n",
      "            \r\n",
      "            $(document).ready(function(){\r\n",
      "\r\n",
      "                $(\"#uib_grid_body\").addClass(\"isThreeLevelMenu\");\r\n",
      "\r\n",
      "                $('.radio_toggle').change(function() {\r\n",
      "                    $('label').removeClass(\"current-page\");\r\n",
      "                    $(\"label[for='\"+$(this).attr('id')+\"']\").addClass(\"current-page\");\r\n",
      "                    $('#toogle136412')[0].checked=false;\r\n",
      "                    // if (typeof utilsuib !== 'undefined' )\r\n",
      "                    //   utilsuib.posiciona('#'+$(this).attr('id'));\r\n",
      "                });\r\n",
      "\r\n",
      "                var detectHash = function() {\r\n",
      "                    if(window.location.hash)\r\n",
      "                    {\r\n",
      "                        var id = window.location.hash.slice(1);\r\n",
      "                        var pos = id.indexOf('_');\r\n",
      "                        var section = $('#' + id);\r\n",
      "                        if(section[0])\r\n",
      "                        {\r\n",
      "                            $('.checkbox_toggle').checked = false;\r\n",
      "                            var desplegar = $(\"#\"+ id.slice(0,pos));\r\n",
      "                            if( !(pos == -1) )\r\n",
      "                            {\r\n",
      "                                if(desplegar)\r\n",
      "                                {\r\n",
      "                                    desplegar[0].checked = true;\r\n",
      "                                }\r\n",
      "                            }\r\n",
      "                            section[0].click();\r\n",
      "                        }\r\n",
      "                    }\r\n",
      "                    else {\r\n",
      "                        $(\"input[name='info_panel_toggle']\")[0].click();\r\n",
      "                    }\r\n",
      "                }\r\n",
      "\r\n",
      "                window.onhashchange = detectHash;\r\n",
      "\r\n",
      "                detectHash();\r\n",
      "\r\n",
      "            });\r\n",
      "            \r\n",
      "          </script>\r",
      "\r\n",
      "\t\t\t\t\t\t\r",
      "\r\n",
      "\t                \r",
      "\r\n",
      "\t                \r",
      "\r\n",
      "\t\t\t\t\t\t\r",
      "\r\n",
      "\t\t\t\t\t</div></div></div></div></div><footer class=\"row-fluid\" id=\"peu\">\r",
      "\r\n",
      "\r",
      "\r\n",
      " \t<div class=\"footernews row-fluid\">\r",
      "\r\n",
      "\t<div class=\"row row-cols-md-4 noticiesCards align-items-stretch\" >\r",
      "\r\n",
      "\t\t<div class=\"col-sm-6 col-md\">\r",
      "\r\n",
      "\t\t\t<article class=\"card zEH\">\r",
      "\r\n",
      "\t\t\t\t\t\t<a href=\"https://seras.uib.cat/Estudiar/\" title=\"Estudios de grado de la UIB\">\t\t\t\t\t\t\t\t\t \r",
      "\r\n",
      "\t\t\t\t\t\t\t<div class=\"data \">\r",
      "\r\n",
      "\t\t\t\t\t\t\t\t\t<figure>\r",
      "\r\n",
      "\t\t\t\t\t\t\t\t\t\t<img width=\"258\" height=\"258\" src=\"/digitalAssets/665/thumbnail_350_350_665422_RECT_Cubo1_cas_Graus.png\" alt=\"Estudios de grado de la UIB\"/>\r",
      "\r\n",
      "\t\t\t\t\t\t\t\t\t</figure>\r",
      "\r\n",
      "\t\t\t\t\t\t\t\t\t</div>\r",
      "\r\n",
      "\t\t\t\t\t\t</a>\r",
      "\r\n",
      "\t\t\t\t</article>\r",
      "\r\n",
      "\t\t\t</div>\r",
      "\r\n",
      "\t\t<div class=\"col-sm-6 col-md\">\r",
      "\r\n",
      "\t\t\t<article class=\"card zEH\">\r",
      "\r\n",
      "\t\t\t\t\t\t<a href=\"https://bit.ly/3ABr937\"  title=\"Curs d'Autoaprenentatge M�n Desigual\">\t\t\t\t\t\t\t\t\t \r",
      "\r\n",
      "\t\t\t\t\t\t\t<div class=\"data \">\r",
      "\r\n",
      "\t\t\t\t\t\t\t\t\t<figure>\r",
      "\r\n",
      "\t\t\t\t\t\t\t\t\t\t<img width=\"258\" height=\"258\"  src=\"/digitalAssets/664/thumbnail_350_350_664579_RECT_cubo-web_man-desigual.jpg\" alt=\"Curs d'Autoaprenentatge M�n Desigual\"/>\r",
      "\r\n",
      "\t\t\t\t\t\t\t\t\t</figure>\t\r",
      "\r\n",
      "\t\t\t\t\t\t\t\t\t</div>\r",
      "\r\n",
      "\t\t\t\t\t\t</a>\r",
      "\r\n",
      "\t\t\t\t</article>\r",
      "\r\n",
      "\t\t\t</div>\r",
      "\r\n",
      "\t\t<div class=\"col-sm-6 col-md\">\r",
      "\r\n",
      "\t\t\t<article class=\"card zEH\">\r",
      "\r\n",
      "\t\t\t\t\t\t<a href=\"/es/lauib/Visitants/Mes-per-a-tu/Saludable/\"  title=\"Cuida't i cuida'ns\">\t\t\t\t\t\t\t\t\t \r",
      "\r\n",
      "\t\t\t\t\t\t\t<div class=\"data \">\r",
      "\r\n",
      "\t\t\t\t\t\t\t\t\t<figure>\r",
      "\r\n",
      "\t\t\t\t\t\t\t\t\t\t\t<img width=\"258\" height=\"258\"  src=\"/digitalAssets/614/thumbnail_350_350_614469_RECT_Cubos_Subapartats_2020_Cuidaat-cuidaans_CAST.jpg.png\" alt=\"Cuida't i cuida'ns\"/>\r",
      "\r\n",
      "\t\t\t\t\t\t\t\t\t</figure>\r",
      "\r\n",
      "\t\t\t\t\t\t\t\t\t</div>\r",
      "\r\n",
      "\t\t\t\t\t\t</a>\r",
      "\r\n",
      "\t\t\t\t</article>\r",
      "\r\n",
      "\t\t\t</div>\r",
      "\r\n",
      "\t\t<div class=\"col-sm-6 col-md\">\r",
      "\r\n",
      "\t\t\t<article class=\"card\">\r",
      "\r\n",
      "\t\t\t<div id=\"uib_actualitat_widget\">\r",
      "\r\n",
      " \t<h2>Diario UIB</h2>\r",
      "\r\n",
      " \t<span>\r",
      "\r\n",
      " \t\t<a href=\"https://diari.uib.es/Hemeroteca/La-UIB-torna-al-100-per-cent-de-docencia.cid691010\">La UIB torna al 100 per cent de doc&#xe8;ncia presencial</a>\r",
      "\r\n",
      "\t\t</span>\r",
      "\r\n",
      "\t<span><a href=\"https://diari.uib.es/Hemeroteca/\" class=\"linkmes\">\t\t\t\r",
      "\r\n",
      "\t\t\tM�s noticias</a></span>\r",
      "\r\n",
      "\t</div>\r",
      "\r\n",
      "\r\n",
      "</article>\r",
      "\r\n",
      "\t\t</div>\r",
      "\r\n",
      "\t</div>\r",
      "\r\n",
      "</div>\r",
      "\r\n",
      "\r\n",
      "<div id=\"uib_grid_footer\"  class=\"span20\" >\t\r",
      "\r\n",
      "\t<div id=\"uib_footerLinks\"  class=\"row-fluid  hidden-print\">\t \r",
      "\r\n",
      "\t\t<div class=\"span10\">\r",
      "\r\n",
      "\t\t \t\r",
      "\r\n",
      "\t\t\t<ul id=\"linksnormativa\">\r",
      "\r\n",
      "\t\t\t<li>\t\r",
      "\r\n",
      "\t\t\t\t\t<a href=\"/es/Accessibilitat/\"  target=\"_self\">Accesibilidad</a>\r",
      "\r\n",
      "\t\t\t\t\t</li>\t\t\t\t\r",
      "\r\n",
      "\t\t\t\t<li>\t\r",
      "\r\n",
      "\t\t\t\t\t<span> | </span><a href=\"/es/Avis-legal/\"  target=\"_self\">Aviso legal</a>\r",
      "\r\n",
      "\t\t\t\t\t</li>\t\t\t\t\r",
      "\r\n",
      "\t\t\t\t</ul>\r",
      "\r\n",
      "\t\t\t\t\t\t\r",
      "\r\n",
      "\t\t \t&nbsp; \t\t\r",
      "\r\n",
      "\t\t</div>\r",
      "\r\n",
      "\t\t<div class=\"span10 text-right\">\t\t \t \t\t\t \t\r",
      "\r\n",
      "\t\t\t \t<ul class=\"links\">\r",
      "\r\n",
      "\t\t\t \t\t<li>\t\t\t \t\t\t\t \t\t\t\r",
      "\r\n",
      "\t\t\t \t\t\t<a id=\"df_contacte\" href=\"/es/Contacta-con-la-UIB.cid315174?x_ig_aplicacio=contacte\" title=\"Contacto\">\r",
      "\r\n",
      "\t\t\t \t\t\t<span class=\"far fa-envelope\"></span>\r",
      "\r\n",
      "\t\t\t \t\t\t<span class=\"sr-only\">Contacto</span></a>\t\t \t\t\t\t\t\t \t\r",
      "\r\n",
      "\t\t\t\t \t\t</li>\r",
      "\r\n",
      "\t\t\t \t\t<li>\r",
      "\r\n",
      "\t\t\t \t\t\t<a id=\"df_informacio\" href=\"https://informacio.uib.es/\" title=\"Informaci�n\">\r",
      "\r\n",
      "\t\t\t \t\t\t<span class=\"fas fa-info-circle\"></span>\r",
      "\r\n",
      "\t\t\t \t\t\t<span class=\"sr-only\">Informaci�n</span></a>\r",
      "\r\n",
      "\t\t\t \t\t</li>\r",
      "\r\n",
      "\t\t\t \t\t<li>\r",
      "\r\n",
      "\t\t\t \t\t\t<a id=\"df_faqs\" href=\"https://estudis.uib.es/es/Preguntes-frequents/\" title=\"Preguntas frecuentes\">\r",
      "\r\n",
      "\t\t\t \t\t\t<span class=\"far fa-question-circle\"></span>\r",
      "\r\n",
      "\t\t\t \t\t\t<span class=\"sr-only\">Preguntas frecuentes</span></a>\r",
      "\r\n",
      "\t\t\t \t\t</li>\r",
      "\r\n",
      "\t\t \t\t</ul>\r",
      "\r\n",
      "\t\t</div>\r",
      "\r\n",
      "\r",
      "\r\n",
      "\t\t</div>\r",
      "\r\n",
      "\t<div id=\"uib_grid_footer_withoutbox\" class=\"row-fluid\">\r",
      "\r\n",
      "\t\t\r",
      "\r\n",
      "\t\t&copy;2022&#160;Universitat de les Illes Balears. Cra. de Valldemossa, km 7.5. 07122 Palma (Illes Balears). Tel.: (+34) 971 17 30 00. CIF: Q0718001A</div>\r",
      "\r\n",
      "</div>\r",
      "\r\n",
      "\r\n",
      "</footer>\r",
      "\r\n",
      "  </div><!-- The social media icon bar -->\r",
      "\r\n",
      "<div class=\"social-icon-bar\">\r",
      "\r\n",
      "  <a href=\"https://www.facebook.com/UniversitatUIB/\" class=\"facebook\"><span class=\"fab fa-facebook-f\"></span><span>Facebook de la UIB</span></a>\r",
      "\r\n",
      "  <a href=\"https://twitter.com/UIBuniversitat\" class=\"twitter\"><span class=\"fab fa-twitter\"></span><span>Twitter de la UIB</span></a>  \r",
      "\r\n",
      "  <a href=\"https://www.linkedin.com/edu/school?id=12254\" class=\"linkedin\"><span class=\"fab fa-linkedin\"></span><span>Linkedin de la UIB</span></a>  \r",
      "\r\n",
      "  <a href=\"https://www.instagram.com/uibuniversitat/\" class=\"instagram\"><span class=\"fab fa-instagram\"></span><span>Instagram de la UIB</span></a>\r",
      "\r\n",
      "  <a href=\"https://www.youtube.com/user/UIBuniversitat\" class=\"youtube\"><span class=\"fab fa-youtube\"></span><span>Youtube de la UIB</span></a>\r",
      "\r\n",
      "  <a href=\"https://open.spotify.com/show/5EHem6fubSB8xVm9VX8ObU?si=Xr9lm24jSSyJgid-uCTvog\" class=\"spotify\"><span class=\"fab fa-spotify\"></span><span>Spotify de la UIB</span></a>\r",
      "\r\n",
      "\r",
      "\r\n",
      "</div>\r",
      "\r\n",
      "\r\n",
      "<a href=\"https://plus.google.com/110271182304237658146/\" rel=\"publisher\" class=\"uib_hidden\">Google+ UIB</a>\r",
      "\r\n",
      "  <meta itemprop=\"dateModified\" content=\"2022-02-21 11:38\" />\r",
      "\r\n",
      "  <script type=\"text/javascript\">\r",
      "\r\n",
      "\t    $(function() {   \r",
      "\r\n",
      "\t      scrollTopButton(\"Subir\",\"Cierra\");\r",
      "\r\n",
      "\t         \r",
      "\r\n",
      "\t    });\r",
      "\r\n",
      "\t\t</script>\r",
      "\r\n",
      "  <script>\r",
      "\r\n",
      "\t(function(h,e,a,t,m,p) { m=e.createElement(a);m.async=!0;m.src=t; \r",
      "\r\n",
      "\tp=e.getElementsByTagName(a)[0];p.parentNode.insertBefore(m,p);\r",
      "\r\n",
      "\t})(window,document,'script','https://u.heatmap.it/log.js');\r",
      "\r\n",
      "  </script>\r",
      "\r\n",
      "  \r",
      "\r\n",
      "  <link href=\"/digitalAssets/extensions/615738-cssdircom/readspeaker.css\" rel=\"stylesheet\" type=\"text/css\" >\r\n",
      "\r\n",
      "<script type=\"text/javascript\" src=\"/digitalAssets/extensions/615738-jquery/jquery.utils.uib-min.js?version=20210701.js\"></script>\r\n",
      "<script type=\"text/javascript\" src=\"/digitalAssets/extensions/615738-jquery/jquery.sticky-kit.min.js\"></script>\r\n",
      "<script type=\"text/javascript\" src=\"/digitalAssets/extensions/615738-cssdircom/js/html5shiv_ie9.js\"></script>\r\n",
      "<link href=\"/digitalAssets/extensions/615738-cssdircom/dircom_printer.css\" rel=\"stylesheet\" type=\"text/css\" media=\"print\">\r\n",
      "<style>\r",
      "\r\n",
      "#uib_missatges_alerta .alert-dol a, #uib_missatges_alerta .alert-dol a:hover {\r",
      "\r\n",
      "    color: #FFF !important;\r",
      "\r\n",
      "}\r",
      "\r\n",
      "</style>\r\n",
      "<script src=\"//cdn1.readspeaker.com/script/9829/webReader/webReader.js?pids=wr&dload=DocReader.AutoAdd&disable=readhover\" type=\"text/javascript\"></script>\r",
      "\r\n",
      "<style>\r",
      "\r\n",
      ".rs_addtools a, .rs_addtools span, .rsbtn a, .rsbtn span{color:white;}\r",
      "\r\n",
      ".rsbtn_tools .rsicn,  \r",
      "\r\n",
      ".rsbtn_tools .rsbtn span,\r",
      "\r\n",
      ".rsbtn_tools .rsbtn_btnlabel,\r",
      "\r\n",
      ".rsbtn .rsbtn_toolpanel .rsbtn_tools .rsbtn_tools_inner .rsbtn_toolcontainer .rsbtn_btnlabel {color:black;display:inline-block;}\r",
      "\r\n",
      ".rsbtn .rsbtn_exp .rsbtn_exp_inner .rsbtn_stop span.rsicn,\r",
      "\r\n",
      ".rsbtn .rsbtn_exp .rsbtn_exp_inner .rsbtn_pause span.rsicn{color:white;}\r",
      "\r\n",
      "</style>\r\n",
      "<script type=\"text/javascript\" src=\"/digitalAssets/extensions/615738-jquery/jquery.readspeaker-min.js\"></script>\r\n",
      "<script type=\"text/javascript\" src=\"/digitalAssets/extensions/615738-jquery/jquery.ui.js\"></script>\r\n",
      "</body>\r",
      "\r\n",
      "\r",
      "\r\n",
      "</html>\r",
      "\r\n",
      "\r\n",
      "\r\n"
     ]
    }
   ],
   "source": [
    "!cat personX.txt"
   ]
  },
  {
   "cell_type": "code",
   "execution_count": 246,
   "id": "da3fa366",
   "metadata": {},
   "outputs": [],
   "source": [
    "# DO something"
   ]
  },
  {
   "cell_type": "code",
   "execution_count": null,
   "id": "1cd74616",
   "metadata": {},
   "outputs": [],
   "source": []
  }
 ],
 "metadata": {
  "kernelspec": {
   "display_name": "MyPy397",
   "language": "python",
   "name": "mypy397"
  },
  "language_info": {
   "codemirror_mode": {
    "name": "ipython",
    "version": 3
   },
   "file_extension": ".py",
   "mimetype": "text/x-python",
   "name": "python",
   "nbconvert_exporter": "python",
   "pygments_lexer": "ipython3",
   "version": "3.9.7"
  }
 },
 "nbformat": 4,
 "nbformat_minor": 5
}
