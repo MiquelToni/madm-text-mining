{
 "cells": [
  {
   "cell_type": "markdown",
   "id": "ea6b4f8f",
   "metadata": {},
   "source": [
    "## NLTK"
   ]
  },
  {
   "cell_type": "code",
   "execution_count": null,
   "id": "cfa92f9d",
   "metadata": {},
   "outputs": [],
   "source": [
    "\n",
    "import nltk\n",
    "from nltk.tokenize import word_tokenize\n",
    "from nltk.tag import pos_tag\n",
    "\n",
    "from pprint import pprint"
   ]
  },
  {
   "cell_type": "code",
   "execution_count": null,
   "id": "1ad3ba27",
   "metadata": {},
   "outputs": [],
   "source": [
    "text = \"How do you join NATO and how close is Ukraine to becoming a member? by Orson Wells. Paid 1$\""
   ]
  },
  {
   "cell_type": "code",
   "execution_count": null,
   "id": "39952661",
   "metadata": {},
   "outputs": [],
   "source": [
    "tokens = word_tokenize(text)\n",
    "tags = pos_tag(tokens)"
   ]
  },
  {
   "cell_type": "code",
   "execution_count": null,
   "id": "767f657d",
   "metadata": {},
   "outputs": [],
   "source": [
    "pprint(tags)"
   ]
  },
  {
   "cell_type": "code",
   "execution_count": null,
   "id": "c553b5d6",
   "metadata": {},
   "outputs": [],
   "source": [
    "ne_tree = nltk.ne_chunk(tags)\n",
    "print(ne_tree)"
   ]
  },
  {
   "cell_type": "code",
   "execution_count": null,
   "id": "76e02a4b",
   "metadata": {},
   "outputs": [],
   "source": [
    "# GPE localization\n",
    "# Organization\n",
    "# Person"
   ]
  },
  {
   "cell_type": "code",
   "execution_count": null,
   "id": "db071aa8",
   "metadata": {},
   "outputs": [],
   "source": [
    "for tagged_word in ne_tree:\n",
    "    if hasattr(tagged_word, 'label'):\n",
    "        print(tagged_word.label())\n",
    "        print(tagged_word.leaves())\n"
   ]
  },
  {
   "cell_type": "markdown",
   "id": "aa37f512",
   "metadata": {},
   "source": [
    "## SCAPY"
   ]
  },
  {
   "cell_type": "code",
   "execution_count": null,
   "id": "4911ffdd",
   "metadata": {},
   "outputs": [],
   "source": [
    "import spacy\n",
    "from spacy import displacy\n",
    "from collections import Counter\n",
    "import en_core_web_sm\n",
    "nlp = en_core_web_sm.load()"
   ]
  },
  {
   "cell_type": "code",
   "execution_count": null,
   "id": "683c0163",
   "metadata": {},
   "outputs": [],
   "source": [
    "text = \"How do you join NATO and how close is Ukraine to becoming a member? by Orson Wells Paid with $10.0 in 20/12/2022\""
   ]
  },
  {
   "cell_type": "code",
   "execution_count": null,
   "id": "9b43472b",
   "metadata": {},
   "outputs": [],
   "source": [
    "train = nlp(text)"
   ]
  },
  {
   "cell_type": "code",
   "execution_count": null,
   "id": "3faae104",
   "metadata": {},
   "outputs": [],
   "source": [
    "train.ents"
   ]
  },
  {
   "cell_type": "code",
   "execution_count": null,
   "id": "8e5aa44c",
   "metadata": {},
   "outputs": [],
   "source": [
    "for entity in train.ents:\n",
    "    print(entity.text, entity.label)"
   ]
  },
  {
   "cell_type": "code",
   "execution_count": null,
   "id": "598b6db8",
   "metadata": {},
   "outputs": [],
   "source": [
    "#https://spacy.io/usage/visualizers#ent\n",
    "displacy.render(train, jupyter=True, style=\"ent\")"
   ]
  },
  {
   "cell_type": "markdown",
   "id": "c507285b",
   "metadata": {},
   "source": [
    "# ACTIVITY\n",
    "- Can we apply scapy to NER in other languages (Catala, Spanish,...)?"
   ]
  },
  {
   "cell_type": "code",
   "execution_count": null,
   "id": "319f06dd",
   "metadata": {},
   "outputs": [],
   "source": []
  }
 ],
 "metadata": {
  "kernelspec": {
   "display_name": "MyPy397",
   "language": "python",
   "name": "mypy397"
  },
  "language_info": {
   "codemirror_mode": {
    "name": "ipython",
    "version": 3
   },
   "file_extension": ".py",
   "mimetype": "text/x-python",
   "name": "python",
   "nbconvert_exporter": "python",
   "pygments_lexer": "ipython3",
   "version": "3.9.7"
  }
 },
 "nbformat": 4,
 "nbformat_minor": 5
}
