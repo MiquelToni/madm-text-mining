{
 "cells": [
  {
   "cell_type": "markdown",
   "id": "ea6b4f8f",
   "metadata": {},
   "source": [
    "## NLTK"
   ]
  },
  {
   "cell_type": "code",
   "execution_count": null,
   "id": "cfa92f9d",
   "metadata": {},
   "outputs": [],
   "source": [
    "import nltk\n",
    "from nltk.tokenize import word_tokenize\n",
    "from nltk.tag import pos_tag\n",
    "# nltk.download('maxent_ne_chunker')\n",
    "# nltk.download('words')\n",
    "from pprint import pprint"
   ]
  },
  {
   "cell_type": "code",
   "execution_count": null,
   "id": "1ad3ba27",
   "metadata": {},
   "outputs": [],
   "source": [
    "text = \"How do you join NATO and how close is Ukraine to becoming a member? by Orson Wells. Paid 1$ 19/12/1994\""
   ]
  },
  {
   "cell_type": "code",
   "execution_count": null,
   "id": "39952661",
   "metadata": {},
   "outputs": [],
   "source": [
    "tokens = word_tokenize(text)\n",
    "tags = pos_tag(tokens)"
   ]
  },
  {
   "cell_type": "code",
   "execution_count": null,
   "id": "767f657d",
   "metadata": {},
   "outputs": [],
   "source": [
    "pprint(tags)"
   ]
  },
  {
   "cell_type": "code",
   "execution_count": null,
   "id": "c553b5d6",
   "metadata": {},
   "outputs": [],
   "source": [
    "ne_tree = nltk.ne_chunk(tags)\n",
    "print(ne_tree)"
   ]
  },
  {
   "cell_type": "code",
   "execution_count": null,
   "id": "76e02a4b",
   "metadata": {},
   "outputs": [],
   "source": [
    "# GPE localization\n",
    "# Organization\n",
    "# Person"
   ]
  },
  {
   "cell_type": "code",
   "execution_count": null,
   "id": "db071aa8",
   "metadata": {},
   "outputs": [],
   "source": [
    "for tagged_word in ne_tree:\n",
    "    if hasattr(tagged_word, 'label'):\n",
    "        print(tagged_word.label())\n",
    "        print(tagged_word.leaves())\n"
   ]
  },
  {
   "cell_type": "markdown",
   "id": "aa37f512",
   "metadata": {},
   "source": [
    "## Spacy"
   ]
  },
  {
   "cell_type": "code",
   "execution_count": null,
   "id": "4911ffdd",
   "metadata": {},
   "outputs": [],
   "source": [
    "import spacy\n",
    "from spacy import displacy\n",
    "from collections import Counter\n",
    "import en_core_web_sm\n",
    "nlp = en_core_web_sm.load()"
   ]
  },
  {
   "cell_type": "code",
   "execution_count": null,
   "id": "683c0163",
   "metadata": {},
   "outputs": [],
   "source": [
    "text = \"How do you join NATO and how close is Ukraine to becoming a member? by Orson Wells Paid with $10.0 in 20/12/2022\""
   ]
  },
  {
   "cell_type": "code",
   "execution_count": null,
   "id": "9b43472b",
   "metadata": {},
   "outputs": [],
   "source": [
    "train = nlp(text)"
   ]
  },
  {
   "cell_type": "code",
   "execution_count": null,
   "id": "3faae104",
   "metadata": {},
   "outputs": [],
   "source": [
    "train.ents"
   ]
  },
  {
   "cell_type": "code",
   "execution_count": null,
   "id": "8e5aa44c",
   "metadata": {},
   "outputs": [],
   "source": [
    "for entity in train.ents:\n",
    "    print(entity.text, entity.label)"
   ]
  },
  {
   "cell_type": "code",
   "execution_count": null,
   "id": "598b6db8",
   "metadata": {},
   "outputs": [],
   "source": [
    "#https://spacy.io/usage/visualizers#ent\n",
    "displacy.render(train, jupyter=True, style=\"ent\")"
   ]
  },
  {
   "cell_type": "markdown",
   "id": "c507285b",
   "metadata": {},
   "source": [
    "# ACTIVITY\n",
    "- Can we apply scapy to NER in other languages (Catala, Spanish,...)?"
   ]
  },
  {
   "cell_type": "code",
   "execution_count": null,
   "id": "319f06dd",
   "metadata": {},
   "outputs": [],
   "source": [
    "text = \"La compilació és estructurada de tal manera que abans de cada rondalla s'especifica qui la va contar al recopilador, si la hi contaren diverses persones de diversos pobles i, àdhuc, si els personatges eren d'aqueix poble.\"\n",
    "train = nlp(text)\n",
    "train.ents\n",
    "for entity in train.ents:\n",
    "    print(entity.text, entity.label)\n"
   ]
  },
  {
   "cell_type": "code",
   "execution_count": null,
   "id": "a4849ee9",
   "metadata": {},
   "outputs": [],
   "source": [
    "displacy.render(train, jupyter=True, style=\"ent\")"
   ]
  },
  {
   "cell_type": "markdown",
   "id": "003b8f1d",
   "metadata": {},
   "source": [
    "As we could check, spacy can't read different languages by default. For that matter we must download the correct language package for the task.\n",
    "We can find languages installation guide at [spacy site](https://spacy.io/usage/models)"
   ]
  },
  {
   "cell_type": "code",
   "execution_count": null,
   "id": "8a4ea7ae",
   "metadata": {},
   "outputs": [],
   "source": [
    "# Install catalan language package\n",
    "!python -m spacy download ca_core_news_sm"
   ]
  },
  {
   "cell_type": "code",
   "execution_count": null,
   "id": "c46f093d",
   "metadata": {},
   "outputs": [],
   "source": [
    "# load new language package\n",
    "nlp = spacy.load(\"ca_core_news_sm\")"
   ]
  },
  {
   "cell_type": "code",
   "execution_count": null,
   "id": "88a37f78",
   "metadata": {},
   "outputs": [],
   "source": [
    "train = nlp(text)\n",
    "train.ents\n",
    "for entity in train.ents:\n",
    "    print(entity.text, entity.label)"
   ]
  },
  {
   "cell_type": "code",
   "execution_count": null,
   "id": "6cb4bd35",
   "metadata": {},
   "outputs": [],
   "source": [
    "displacy.render(train, jupyter=True, style=\"ent\")"
   ]
  },
  {
   "cell_type": "markdown",
   "id": "0b695d6f",
   "metadata": {},
   "source": [
    "We could't make work for catalan package. Let's check the spanish package."
   ]
  },
  {
   "cell_type": "code",
   "execution_count": null,
   "id": "05cef600",
   "metadata": {},
   "outputs": [],
   "source": [
    "#!python -m spacy download es_core_news_sm\n",
    "\n",
    "nlp = spacy.load(\"es_core_news_sm\")"
   ]
  },
  {
   "cell_type": "code",
   "execution_count": null,
   "id": "23a7dc0a",
   "metadata": {},
   "outputs": [],
   "source": [
    "text = \"La libertad, Sancho, es uno de los más preciosos dones que a Los Hombres dieron los cielos; con ella no pueden igualarse los tesoros que encierra la tierra ni el mar encubre; por la libertadI así como por la honra se puede y debe aventurar la vida, y, por el contrario, el cautiverio es el mayor mal que puede venir a los hombres.\"\n",
    "train = nlp(text)\n",
    "train.ents\n",
    "for entity in train.ents:\n",
    "    print(entity.text, entity.label)"
   ]
  },
  {
   "cell_type": "code",
   "execution_count": null,
   "id": "6f6e53c4",
   "metadata": {},
   "outputs": [],
   "source": [
    "displacy.render(train, jupyter=True, style=\"ent\")"
   ]
  },
  {
   "cell_type": "markdown",
   "id": "c26435c0",
   "metadata": {},
   "source": [
    "### Activity 6.1: Load activity 6 text and try to get all dates"
   ]
  },
  {
   "cell_type": "markdown",
   "id": "e28b5050",
   "metadata": {},
   "source": [
    "Try with spacy"
   ]
  },
  {
   "cell_type": "code",
   "execution_count": null,
   "id": "10163735",
   "metadata": {},
   "outputs": [],
   "source": [
    "nlp = en_core_web_sm.load()\n",
    "text = open(\"personX.txt\", \"r\").read()\n",
    "train = nlp(text)\n",
    "train.ents"
   ]
  },
  {
   "cell_type": "code",
   "execution_count": null,
   "id": "d4b744a6",
   "metadata": {},
   "outputs": [],
   "source": [
    "for entity in train.ents:\n",
    "  if entity.label_ == \"DATE\":\n",
    "    print(entity.text, entity.label_)"
   ]
  },
  {
   "cell_type": "markdown",
   "id": "fd5705fa",
   "metadata": {},
   "source": [
    "Attempt with NLTK"
   ]
  },
  {
   "cell_type": "code",
   "execution_count": null,
   "id": "dc1a49f1",
   "metadata": {},
   "outputs": [],
   "source": [
    "tokens = word_tokenize(text)\n",
    "tags = pos_tag(tokens)\n",
    "\n",
    "for tag in tags:\n",
    "  if tag[1] == \"CD\":\n",
    "    print(tag)"
   ]
  },
  {
   "cell_type": "markdown",
   "id": "a023e8a3",
   "metadata": {},
   "source": [
    "### Conclusion:\n",
    "\n",
    "Using a high level tool like a nlp for a realy specific task like get dates or a text with a pattern is inacurate and slow. For that matter is better to use a regular expresion."
   ]
  }
 ],
 "metadata": {
  "interpreter": {
   "hash": "a707b6ce8c685eb936424fcc3009d4b4b7a52543c4db09380a3fc49186ceb509"
  },
  "kernelspec": {
   "display_name": "MyPy397",
   "language": "python",
   "name": "python3"
  },
  "language_info": {
   "codemirror_mode": {
    "name": "ipython",
    "version": 3
   },
   "file_extension": ".py",
   "mimetype": "text/x-python",
   "name": "python",
   "nbconvert_exporter": "python",
   "pygments_lexer": "ipython3",
   "version": "3.9.7"
  }
 },
 "nbformat": 4,
 "nbformat_minor": 5
}
