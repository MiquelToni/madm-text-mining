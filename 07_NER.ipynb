{
 "cells": [
  {
   "cell_type": "markdown",
   "id": "ea6b4f8f",
   "metadata": {},
   "source": [
    "## NLTK"
   ]
  },
  {
   "cell_type": "code",
   "execution_count": 42,
   "id": "cfa92f9d",
   "metadata": {},
   "outputs": [],
   "source": [
    "\n",
    "import nltk\n",
    "from nltk.tokenize import word_tokenize\n",
    "from nltk.tag import pos_tag\n",
    "\n",
    "from pprint import pprint"
   ]
  },
  {
   "cell_type": "code",
   "execution_count": 58,
   "id": "1ad3ba27",
   "metadata": {},
   "outputs": [],
   "source": [
    "text = \"How do you join NATO and how close is Ukraine to becoming a member? by Orson Wells. Paid 1$\""
   ]
  },
  {
   "cell_type": "code",
   "execution_count": 59,
   "id": "39952661",
   "metadata": {},
   "outputs": [],
   "source": [
    "tokens = word_tokenize(text)\n",
    "tags = pos_tag(tokens)"
   ]
  },
  {
   "cell_type": "code",
   "execution_count": 60,
   "id": "767f657d",
   "metadata": {},
   "outputs": [
    {
     "name": "stdout",
     "output_type": "stream",
     "text": [
      "[('How', 'WRB'),\n",
      " ('do', 'VB'),\n",
      " ('you', 'PRP'),\n",
      " ('join', 'VB'),\n",
      " ('NATO', 'NNP'),\n",
      " ('and', 'CC'),\n",
      " ('how', 'WRB'),\n",
      " ('close', 'JJ'),\n",
      " ('is', 'VBZ'),\n",
      " ('Ukraine', 'JJ'),\n",
      " ('to', 'TO'),\n",
      " ('becoming', 'VBG'),\n",
      " ('a', 'DT'),\n",
      " ('member', 'NN'),\n",
      " ('?', '.'),\n",
      " ('by', 'IN'),\n",
      " ('Orson', 'NNP'),\n",
      " ('Wells', 'NNP'),\n",
      " ('.', '.'),\n",
      " ('Paid', 'VBD'),\n",
      " ('1', 'CD'),\n",
      " ('$', '$')]\n"
     ]
    }
   ],
   "source": [
    "pprint(tags)"
   ]
  },
  {
   "cell_type": "code",
   "execution_count": 61,
   "id": "c553b5d6",
   "metadata": {},
   "outputs": [
    {
     "name": "stdout",
     "output_type": "stream",
     "text": [
      "(S\n",
      "  How/WRB\n",
      "  do/VB\n",
      "  you/PRP\n",
      "  join/VB\n",
      "  (ORGANIZATION NATO/NNP)\n",
      "  and/CC\n",
      "  how/WRB\n",
      "  close/JJ\n",
      "  is/VBZ\n",
      "  (GPE Ukraine/JJ)\n",
      "  to/TO\n",
      "  becoming/VBG\n",
      "  a/DT\n",
      "  member/NN\n",
      "  ?/.\n",
      "  by/IN\n",
      "  (PERSON Orson/NNP Wells/NNP)\n",
      "  ./.\n",
      "  Paid/VBD\n",
      "  1/CD\n",
      "  $/$)\n"
     ]
    }
   ],
   "source": [
    "ne_tree = nltk.ne_chunk(tags)\n",
    "print(ne_tree)"
   ]
  },
  {
   "cell_type": "code",
   "execution_count": 62,
   "id": "76e02a4b",
   "metadata": {},
   "outputs": [],
   "source": [
    "# GPE localization\n",
    "# Organization\n",
    "# Person"
   ]
  },
  {
   "cell_type": "code",
   "execution_count": 64,
   "id": "db071aa8",
   "metadata": {},
   "outputs": [
    {
     "name": "stdout",
     "output_type": "stream",
     "text": [
      "ORGANIZATION\n",
      "[('NATO', 'NNP')]\n",
      "GPE\n",
      "[('Ukraine', 'JJ')]\n",
      "PERSON\n",
      "[('Orson', 'NNP'), ('Wells', 'NNP')]\n"
     ]
    }
   ],
   "source": [
    "for tagged_word in ne_tree:\n",
    "    if hasattr(tagged_word, 'label'):\n",
    "        print(tagged_word.label())\n",
    "        print(tagged_word.leaves())\n"
   ]
  },
  {
   "cell_type": "markdown",
   "id": "aa37f512",
   "metadata": {},
   "source": [
    "## SCAPY"
   ]
  },
  {
   "cell_type": "code",
   "execution_count": 65,
   "id": "4911ffdd",
   "metadata": {},
   "outputs": [],
   "source": [
    "import spacy\n",
    "from spacy import displacy\n",
    "from collections import Counter\n",
    "import en_core_web_sm\n",
    "nlp = en_core_web_sm.load()"
   ]
  },
  {
   "cell_type": "code",
   "execution_count": 99,
   "id": "683c0163",
   "metadata": {},
   "outputs": [],
   "source": [
    "text = \"How do you join NATO and how close is Ukraine to becoming a member? by Orson Wells Paid with $10.0 in 20/12/2022\""
   ]
  },
  {
   "cell_type": "code",
   "execution_count": 100,
   "id": "9b43472b",
   "metadata": {},
   "outputs": [],
   "source": [
    "train = nlp(text)"
   ]
  },
  {
   "cell_type": "code",
   "execution_count": 101,
   "id": "3faae104",
   "metadata": {},
   "outputs": [
    {
     "data": {
      "text/plain": [
       "(NATO, Ukraine, Orson Wells Paid, 10.0, 20/12/2022)"
      ]
     },
     "execution_count": 101,
     "metadata": {},
     "output_type": "execute_result"
    }
   ],
   "source": [
    "train.ents"
   ]
  },
  {
   "cell_type": "code",
   "execution_count": 102,
   "id": "8e5aa44c",
   "metadata": {},
   "outputs": [
    {
     "name": "stdout",
     "output_type": "stream",
     "text": [
      "NATO 383\n",
      "Ukraine 384\n",
      "Orson Wells Paid 380\n",
      "10.0 394\n",
      "20/12/2022 391\n"
     ]
    }
   ],
   "source": [
    "for entity in train.ents:\n",
    "    print(entity.text, entity.label)"
   ]
  },
  {
   "cell_type": "code",
   "execution_count": 103,
   "id": "598b6db8",
   "metadata": {},
   "outputs": [
    {
     "data": {
      "text/html": [
       "<span class=\"tex2jax_ignore\"><div class=\"entities\" style=\"line-height: 2.5; direction: ltr\">How do you join \n",
       "<mark class=\"entity\" style=\"background: #7aecec; padding: 0.45em 0.6em; margin: 0 0.25em; line-height: 1; border-radius: 0.35em;\">\n",
       "    NATO\n",
       "    <span style=\"font-size: 0.8em; font-weight: bold; line-height: 1; border-radius: 0.35em; vertical-align: middle; margin-left: 0.5rem\">ORG</span>\n",
       "</mark>\n",
       " and how close is \n",
       "<mark class=\"entity\" style=\"background: #feca74; padding: 0.45em 0.6em; margin: 0 0.25em; line-height: 1; border-radius: 0.35em;\">\n",
       "    Ukraine\n",
       "    <span style=\"font-size: 0.8em; font-weight: bold; line-height: 1; border-radius: 0.35em; vertical-align: middle; margin-left: 0.5rem\">GPE</span>\n",
       "</mark>\n",
       " to becoming a member? by \n",
       "<mark class=\"entity\" style=\"background: #aa9cfc; padding: 0.45em 0.6em; margin: 0 0.25em; line-height: 1; border-radius: 0.35em;\">\n",
       "    Orson Wells Paid\n",
       "    <span style=\"font-size: 0.8em; font-weight: bold; line-height: 1; border-radius: 0.35em; vertical-align: middle; margin-left: 0.5rem\">PERSON</span>\n",
       "</mark>\n",
       " with $\n",
       "<mark class=\"entity\" style=\"background: #e4e7d2; padding: 0.45em 0.6em; margin: 0 0.25em; line-height: 1; border-radius: 0.35em;\">\n",
       "    10.0\n",
       "    <span style=\"font-size: 0.8em; font-weight: bold; line-height: 1; border-radius: 0.35em; vertical-align: middle; margin-left: 0.5rem\">MONEY</span>\n",
       "</mark>\n",
       " in \n",
       "<mark class=\"entity\" style=\"background: #bfe1d9; padding: 0.45em 0.6em; margin: 0 0.25em; line-height: 1; border-radius: 0.35em;\">\n",
       "    20/12/2022\n",
       "    <span style=\"font-size: 0.8em; font-weight: bold; line-height: 1; border-radius: 0.35em; vertical-align: middle; margin-left: 0.5rem\">DATE</span>\n",
       "</mark>\n",
       "</div></span>"
      ],
      "text/plain": [
       "<IPython.core.display.HTML object>"
      ]
     },
     "metadata": {},
     "output_type": "display_data"
    }
   ],
   "source": [
    "#https://spacy.io/usage/visualizers#ent\n",
    "displacy.render(train, jupyter=True, style=\"ent\")"
   ]
  },
  {
   "cell_type": "markdown",
   "id": "c507285b",
   "metadata": {},
   "source": [
    "# ACTIVITY\n",
    "- Can we apply scapy to NER in other languages (Catala, Spanish,...)?"
   ]
  },
  {
   "cell_type": "code",
   "execution_count": null,
   "id": "319f06dd",
   "metadata": {},
   "outputs": [],
   "source": []
  }
 ],
 "metadata": {
  "kernelspec": {
   "display_name": "MyPy397",
   "language": "python",
   "name": "mypy397"
  },
  "language_info": {
   "codemirror_mode": {
    "name": "ipython",
    "version": 3
   },
   "file_extension": ".py",
   "mimetype": "text/x-python",
   "name": "python",
   "nbconvert_exporter": "python",
   "pygments_lexer": "ipython3",
   "version": "3.9.7"
  }
 },
 "nbformat": 4,
 "nbformat_minor": 5
}
