{
 "cells": [
  {
   "cell_type": "markdown",
   "id": "ea334fa9",
   "metadata": {},
   "source": [
    "# AllegroGraph and Sparql\n",
    "https://franz.com/agraph/support/documentation/current/python/tutorial.html\n"
   ]
  },
  {
   "cell_type": "markdown",
   "id": "9074371b",
   "metadata": {},
   "source": [
    "### Step.0. Get docker image and Run AllegroGraph image\n",
    "\n",
    "https://franz.com/agraph/support/documentation/current/docker.html\n",
    "\n",
    "```bash\n",
    "docker pull franzinc/agraph \n",
    "\n",
    "docker run -d -e AGRAPH_SUPER_USER=uib -e AGRAPH_SUPER_PASSWORD=uib -p 10000-10035:10000-10035 --shm-size 1g --name agraph --restart=always franzinc/agraph \n",
    "```\n",
    "\n",
    "Open in browser: http://localhost:10035/\n",
    "\n",
    "```bash\n",
    "docker stop\n",
    "docker start\n",
    "```"
   ]
  },
  {
   "cell_type": "code",
   "execution_count": 9,
   "id": "f6f60be3",
   "metadata": {},
   "outputs": [],
   "source": [
    "#Install python connector\n",
    "#!pip install agraph-python"
   ]
  },
  {
   "cell_type": "code",
   "execution_count": 10,
   "id": "546caaa3",
   "metadata": {},
   "outputs": [],
   "source": [
    "from franz.openrdf.connect import ag_connect\n",
    "from franz.openrdf.query.query import QueryLanguage\n",
    "from franz.openrdf.sail.allegrographserver import AllegroGraphServer\n",
    "\n",
    "server = AllegroGraphServer(\"localhost\",10035, \"uib\", \"uib\")"
   ]
  },
  {
   "cell_type": "code",
   "execution_count": 11,
   "id": "1c1e64bf",
   "metadata": {},
   "outputs": [
    {
     "name": "stdout",
     "output_type": "stream",
     "text": [
      "Available repositories in catalog 'None':\n"
     ]
    }
   ],
   "source": [
    "catalog = server.openCatalog('')\n",
    "print(\"Available repositories in catalog '%s':\" % catalog.getName())\n",
    "for repo_name in catalog.listRepositories():\n",
    "    print('  - ' + repo_name)"
   ]
  },
  {
   "cell_type": "code",
   "execution_count": 12,
   "id": "1c152511",
   "metadata": {},
   "outputs": [
    {
     "ename": "ServerException",
     "evalue": "(\"Can't open a triple store named '%s' because there is none.\", 'test')",
     "output_type": "error",
     "traceback": [
      "\u001b[1;31m---------------------------------------------------------------------------\u001b[0m",
      "\u001b[1;31mServerException\u001b[0m                           Traceback (most recent call last)",
      "\u001b[1;32m~\\AppData\\Local\\Temp/ipykernel_1816/2847962863.py\u001b[0m in \u001b[0;36m<module>\u001b[1;34m\u001b[0m\n\u001b[0;32m      2\u001b[0m \u001b[1;33m\u001b[0m\u001b[0m\n\u001b[0;32m      3\u001b[0m \u001b[0mmode\u001b[0m \u001b[1;33m=\u001b[0m \u001b[0mRepository\u001b[0m\u001b[1;33m.\u001b[0m\u001b[0mOPEN\u001b[0m\u001b[1;33m\u001b[0m\u001b[1;33m\u001b[0m\u001b[0m\n\u001b[1;32m----> 4\u001b[1;33m \u001b[0mmy_repository\u001b[0m \u001b[1;33m=\u001b[0m \u001b[0mcatalog\u001b[0m\u001b[1;33m.\u001b[0m\u001b[0mgetRepository\u001b[0m\u001b[1;33m(\u001b[0m\u001b[1;34m'test'\u001b[0m\u001b[1;33m,\u001b[0m \u001b[0mmode\u001b[0m\u001b[1;33m)\u001b[0m\u001b[1;33m\u001b[0m\u001b[1;33m\u001b[0m\u001b[0m\n\u001b[0m",
      "\u001b[1;32mC:\\tools\\Anaconda3\\lib\\site-packages\\franz\\openrdf\\sail\\allegrographserver.py\u001b[0m in \u001b[0;36mgetRepository\u001b[1;34m(self, name, access_verb)\u001b[0m\n\u001b[0;32m    670\u001b[0m         \u001b[1;32mif\u001b[0m \u001b[0maccess_verb\u001b[0m \u001b[1;33m==\u001b[0m \u001b[0mRepository\u001b[0m\u001b[1;33m.\u001b[0m\u001b[0mOPEN\u001b[0m\u001b[1;33m:\u001b[0m\u001b[1;33m\u001b[0m\u001b[1;33m\u001b[0m\u001b[0m\n\u001b[0;32m    671\u001b[0m             \u001b[1;32mif\u001b[0m \u001b[1;32mnot\u001b[0m \u001b[0mexists\u001b[0m\u001b[1;33m:\u001b[0m\u001b[1;33m\u001b[0m\u001b[1;33m\u001b[0m\u001b[0m\n\u001b[1;32m--> 672\u001b[1;33m                 raise ServerException(\n\u001b[0m\u001b[0;32m    673\u001b[0m                     \"Can't open a triple store named '%s' because there is none.\", name)\n\u001b[0;32m    674\u001b[0m \u001b[1;33m\u001b[0m\u001b[0m\n",
      "\u001b[1;31mServerException\u001b[0m: (\"Can't open a triple store named '%s' because there is none.\", 'test')"
     ]
    }
   ],
   "source": [
    "from franz.openrdf.repository.repository import Repository\n",
    "\n",
    "mode = Repository.OPEN\n",
    "my_repository = catalog.getRepository('test', mode)"
   ]
  },
  {
   "cell_type": "code",
   "execution_count": null,
   "id": "30868b53",
   "metadata": {},
   "outputs": [
    {
     "ename": "NameError",
     "evalue": "name 'my_repository' is not defined",
     "output_type": "error",
     "traceback": [
      "\u001b[1;31m---------------------------------------------------------------------------\u001b[0m",
      "\u001b[1;31mNameError\u001b[0m                                 Traceback (most recent call last)",
      "\u001b[1;32m~\\AppData\\Local\\Temp/ipykernel_1816/2382971708.py\u001b[0m in \u001b[0;36m<module>\u001b[1;34m\u001b[0m\n\u001b[1;32m----> 1\u001b[1;33m \u001b[0mconn\u001b[0m \u001b[1;33m=\u001b[0m \u001b[0mmy_repository\u001b[0m\u001b[1;33m.\u001b[0m\u001b[0mgetConnection\u001b[0m\u001b[1;33m(\u001b[0m\u001b[1;33m)\u001b[0m\u001b[1;33m\u001b[0m\u001b[1;33m\u001b[0m\u001b[0m\n\u001b[0m\u001b[0;32m      2\u001b[0m \u001b[0mprint\u001b[0m\u001b[1;33m(\u001b[0m\u001b[1;34m'Repository %s is up!'\u001b[0m \u001b[1;33m%\u001b[0m \u001b[0mmy_repository\u001b[0m\u001b[1;33m.\u001b[0m\u001b[0mgetDatabaseName\u001b[0m\u001b[1;33m(\u001b[0m\u001b[1;33m)\u001b[0m\u001b[1;33m)\u001b[0m\u001b[1;33m\u001b[0m\u001b[1;33m\u001b[0m\u001b[0m\n\u001b[0;32m      3\u001b[0m \u001b[0mprint\u001b[0m\u001b[1;33m(\u001b[0m\u001b[1;34m'It contains %d statement(s).'\u001b[0m \u001b[1;33m%\u001b[0m \u001b[0mconn\u001b[0m\u001b[1;33m.\u001b[0m\u001b[0msize\u001b[0m\u001b[1;33m(\u001b[0m\u001b[1;33m)\u001b[0m\u001b[1;33m)\u001b[0m\u001b[1;33m\u001b[0m\u001b[1;33m\u001b[0m\u001b[0m\n",
      "\u001b[1;31mNameError\u001b[0m: name 'my_repository' is not defined"
     ]
    }
   ],
   "source": [
    "conn = my_repository.getConnection()\n",
    "print('Repository %s is up!' % my_repository.getDatabaseName())\n",
    "print('It contains %d statement(s).' % conn.size())"
   ]
  },
  {
   "cell_type": "code",
   "execution_count": null,
   "id": "411da046",
   "metadata": {},
   "outputs": [],
   "source": [
    "query_string = \"SELECT ?s ?p ?o  WHERE {?s ?p ?o . }\""
   ]
  },
  {
   "cell_type": "code",
   "execution_count": null,
   "id": "ca857e8b",
   "metadata": {},
   "outputs": [],
   "source": [
    "tuple_query = conn.prepareTupleQuery(QueryLanguage.SPARQL, query_string)\n",
    "result = tuple_query.evaluate()"
   ]
  },
  {
   "cell_type": "code",
   "execution_count": null,
   "id": "fbbf0fac",
   "metadata": {},
   "outputs": [
    {
     "name": "stdout",
     "output_type": "stream",
     "text": [
      "<http://www.uib.cat/ourmodel> <http://www.w3.org/1999/02/22-rdf-syntax-ns#type> <http://www.w3.org/2002/07/owl#Ontology>\n",
      "<http://www.uib.cat/ourmodel#Mamifero> <http://www.w3.org/1999/02/22-rdf-syntax-ns#type> <http://www.w3.org/2002/07/owl#Class>\n",
      "<http://www.uib.cat/ourmodel#Mamifero> <http://www.w3.org/2000/01/rdf-schema#subClassOf> <http://www.uib.cat/ourmodel#Person>\n",
      "<http://www.uib.cat/ourmodel#Person> <http://www.w3.org/1999/02/22-rdf-syntax-ns#type> <http://www.w3.org/2002/07/owl#Class>\n",
      "<http://www.uib.cat/ourmodel#MickyMouse> <http://www.w3.org/1999/02/22-rdf-syntax-ns#type> <http://www.w3.org/2002/07/owl#NamedIndividual>\n",
      "<http://www.uib.cat/ourmodel#MickyMouse> <http://www.w3.org/1999/02/22-rdf-syntax-ns#type> <http://www.uib.cat/ourmodel#Mamifero>\n"
     ]
    }
   ],
   "source": [
    "with result:\n",
    "   for binding_set in result:\n",
    "        s = binding_set.getValue(\"s\")\n",
    "        p = binding_set.getValue(\"p\")\n",
    "        o = binding_set.getValue(\"o\")\n",
    "        print(\"%s %s %s\" % (s, p, o))"
   ]
  },
  {
   "cell_type": "code",
   "execution_count": null,
   "id": "e69d9624",
   "metadata": {},
   "outputs": [
    {
     "data": {
      "text/plain": [
       "['__class__',\n",
       " '__delattr__',\n",
       " '__dir__',\n",
       " '__doc__',\n",
       " '__eq__',\n",
       " '__format__',\n",
       " '__ge__',\n",
       " '__getattribute__',\n",
       " '__gt__',\n",
       " '__hash__',\n",
       " '__init__',\n",
       " '__init_subclass__',\n",
       " '__le__',\n",
       " '__lt__',\n",
       " '__module__',\n",
       " '__ne__',\n",
       " '__new__',\n",
       " '__reduce__',\n",
       " '__reduce_ex__',\n",
       " '__repr__',\n",
       " '__setattr__',\n",
       " '__sizeof__',\n",
       " '__slots__',\n",
       " '__str__',\n",
       " '__subclasshook__',\n",
       " '__weakref__',\n",
       " '_instances',\n",
       " '_is_canonical',\n",
       " '_uri',\n",
       " 'getLocalName',\n",
       " 'getNamespace',\n",
       " 'getURI',\n",
       " 'getValue',\n",
       " 'get_cmp_key',\n",
       " 'localname',\n",
       " 'namespace',\n",
       " 'split',\n",
       " 'toNTriples',\n",
       " 'to_json_ld',\n",
       " 'to_json_ld_key',\n",
       " 'uri',\n",
       " 'value']"
      ]
     },
     "execution_count": 9,
     "metadata": {},
     "output_type": "execute_result"
    }
   ],
   "source": [
    "dir(s)"
   ]
  },
  {
   "cell_type": "code",
   "execution_count": null,
   "id": "54bf712e",
   "metadata": {},
   "outputs": [
    {
     "name": "stdout",
     "output_type": "stream",
     "text": [
      "ourmodel   - type       - Ontology  \n",
      "Mamifero   - type       - Class     \n",
      "Mamifero   - subClassOf - Person    \n",
      "Person     - type       - Class     \n",
      "MickyMouse - type       - NamedIndividual\n",
      "MickyMouse - type       - Mamifero  \n"
     ]
    }
   ],
   "source": [
    "tuple_query = conn.prepareTupleQuery(QueryLanguage.SPARQL, query_string)\n",
    "result = tuple_query.evaluate()\n",
    "with result:\n",
    "   for binding_set in result:\n",
    "        s = binding_set.getValue(\"s\")\n",
    "        p = binding_set.getValue(\"p\")\n",
    "        o = binding_set.getValue(\"o\")\n",
    "        print(f'{s.localname:10} - {p.localname:10} - {o.localname:10}')"
   ]
  },
  {
   "cell_type": "markdown",
   "id": "6f37958e",
   "metadata": {},
   "source": [
    "# Reasoning - Inference"
   ]
  },
  {
   "cell_type": "code",
   "execution_count": null,
   "id": "3e0bb894",
   "metadata": {},
   "outputs": [],
   "source": [
    "from franz.openrdf.sail.spec import reason\n",
    "\n",
    "# Open session with reasoning enabled on repository 'repo'.\n",
    "conn = server.openSession(reason('<test>'))\n"
   ]
  },
  {
   "cell_type": "code",
   "execution_count": null,
   "id": "ea91c59e",
   "metadata": {},
   "outputs": [
    {
     "name": "stdout",
     "output_type": "stream",
     "text": [
      "ourmodel   - type       - Ontology  \n",
      "Mamifero   - type       - Class     \n",
      "Mamifero   - subClassOf - Person    \n",
      "Person     - type       - Class     \n",
      "MickyMouse - type       - NamedIndividual\n",
      "MickyMouse - type       - Mamifero  \n",
      "MickyMouse - type       - Person    \n"
     ]
    }
   ],
   "source": [
    "tuple_query = conn.prepareTupleQuery(QueryLanguage.SPARQL, query_string)\n",
    "result = tuple_query.evaluate()\n",
    "with result:\n",
    "   for binding_set in result:\n",
    "        s = binding_set.getValue(\"s\")\n",
    "        p = binding_set.getValue(\"p\")\n",
    "        o = binding_set.getValue(\"o\")\n",
    "        print(f'{s.localname:10} - {p.localname:10} - {o.localname:10}')"
   ]
  },
  {
   "cell_type": "code",
   "execution_count": null,
   "id": "fee6e10f",
   "metadata": {},
   "outputs": [],
   "source": []
  }
 ],
 "metadata": {
  "interpreter": {
   "hash": "a707b6ce8c685eb936424fcc3009d4b4b7a52543c4db09380a3fc49186ceb509"
  },
  "kernelspec": {
   "display_name": "MyPy397",
   "language": "python",
   "name": "python3"
  },
  "language_info": {
   "codemirror_mode": {
    "name": "ipython",
    "version": 3
   },
   "file_extension": ".py",
   "mimetype": "text/x-python",
   "name": "python",
   "nbconvert_exporter": "python",
   "pygments_lexer": "ipython3",
   "version": "3.9.7"
  }
 },
 "nbformat": 4,
 "nbformat_minor": 5
}
