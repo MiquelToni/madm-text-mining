{
 "cells": [
  {
   "cell_type": "markdown",
   "id": "2b5f0489",
   "metadata": {},
   "source": [
    "# Sparqlwrapper\n",
    "https://sparqlwrapper.readthedocs.io/en/stable/"
   ]
  },
  {
   "cell_type": "code",
   "execution_count": 1,
   "id": "ae93ed4d",
   "metadata": {},
   "outputs": [
    {
     "name": "stdout",
     "output_type": "stream",
     "text": [
      "Collecting sparqlwrapper\n",
      "  Downloading SPARQLWrapper-2.0.0-py3-none-any.whl (28 kB)\n",
      "Collecting rdflib>=6.1.1\n",
      "  Downloading rdflib-6.1.1-py3-none-any.whl (482 kB)\n",
      "Collecting isodate\n",
      "  Downloading isodate-0.6.1-py2.py3-none-any.whl (41 kB)\n",
      "Requirement already satisfied: pyparsing in c:\\tools\\anaconda3\\lib\\site-packages (from rdflib>=6.1.1->sparqlwrapper) (3.0.4)\n",
      "Requirement already satisfied: setuptools in c:\\tools\\anaconda3\\lib\\site-packages (from rdflib>=6.1.1->sparqlwrapper) (58.0.4)\n",
      "Requirement already satisfied: six in c:\\tools\\anaconda3\\lib\\site-packages (from isodate->rdflib>=6.1.1->sparqlwrapper) (1.16.0)\n",
      "Installing collected packages: isodate, rdflib, sparqlwrapper\n",
      "Successfully installed isodate-0.6.1 rdflib-6.1.1 sparqlwrapper-2.0.0\n"
     ]
    }
   ],
   "source": [
    "#!pip install sparqlwrapper"
   ]
  },
  {
   "cell_type": "code",
   "execution_count": 2,
   "id": "d31fcc9d",
   "metadata": {},
   "outputs": [],
   "source": [
    "from SPARQLWrapper import SPARQLWrapper, JSON\n",
    "\n",
    "sparql = SPARQLWrapper(\"http://dbpedia.org/sparql\")\n",
    "sparql.setQuery(\"\"\"\n",
    "    PREFIX rdfs: <http://www.w3.org/2000/01/rdf-schema#>\n",
    "    SELECT *\n",
    "\n",
    "    WHERE { <http://dbpedia.org/resource/Fish> rdfs:label ?name }\n",
    "    LIMIT 10\n",
    "\"\"\")\n",
    "sparql.setReturnFormat(JSON)"
   ]
  },
  {
   "cell_type": "code",
   "execution_count": 3,
   "id": "d8620f80",
   "metadata": {},
   "outputs": [
    {
     "name": "stdout",
     "output_type": "stream",
     "text": [
      "{'name': {'type': 'literal', 'xml:lang': 'en', 'value': 'Fish'}}\n",
      "{'name': {'type': 'literal', 'xml:lang': 'ar', 'value': 'سمك'}}\n",
      "{'name': {'type': 'literal', 'xml:lang': 'ca', 'value': 'Peixos'}}\n",
      "{'name': {'type': 'literal', 'xml:lang': 'cs', 'value': 'Rybovití obratlovci'}}\n",
      "{'name': {'type': 'literal', 'xml:lang': 'de', 'value': 'Fische'}}\n",
      "{'name': {'type': 'literal', 'xml:lang': 'el', 'value': 'Ψάρι'}}\n",
      "{'name': {'type': 'literal', 'xml:lang': 'eo', 'value': 'Fiŝoj'}}\n",
      "{'name': {'type': 'literal', 'xml:lang': 'es', 'value': 'Pez'}}\n",
      "{'name': {'type': 'literal', 'xml:lang': 'eu', 'value': 'Arrain'}}\n",
      "{'name': {'type': 'literal', 'xml:lang': 'ga', 'value': 'Iasc'}}\n"
     ]
    }
   ],
   "source": [
    "try:\n",
    "    ret = sparql.queryAndConvert()\n",
    "\n",
    "    for r in ret[\"results\"][\"bindings\"]:\n",
    "        print(r)\n",
    "        \n",
    "except Exception as e:\n",
    "    print(e)"
   ]
  },
  {
   "cell_type": "code",
   "execution_count": 4,
   "id": "d1f6bb5a",
   "metadata": {},
   "outputs": [
    {
     "name": "stdout",
     "output_type": "stream",
     "text": [
      "en, Asturias\n",
      "ar, أشتورية\n",
      "ca, Astúries\n"
     ]
    }
   ],
   "source": [
    "from SPARQLWrapper import SPARQLWrapper2\n",
    "\n",
    "sparql = SPARQLWrapper2(\"http://dbpedia.org/sparql\")\n",
    "sparql.setQuery(\"\"\"\n",
    "    PREFIX dbp:  <http://dbpedia.org/resource/>\n",
    "    PREFIX rdfs: <http://www.w3.org/2000/01/rdf-schema#>\n",
    "\n",
    "    SELECT ?label\n",
    "    WHERE {\n",
    "        dbp:Asturias rdfs:label ?label\n",
    "    }\n",
    "    LIMIT 3\n",
    "    \"\"\"\n",
    "                )\n",
    "\n",
    "for result in sparql.query().bindings:\n",
    "    print(f\"{result['label'].lang}, {result['label'].value}\")"
   ]
  },
  {
   "cell_type": "code",
   "execution_count": 5,
   "id": "cb7d2954",
   "metadata": {},
   "outputs": [],
   "source": [
    "# Prefixes and Class based from https://github.com/ejrav/pydbpedia\n",
    "from SPARQLWrapper import SPARQLWrapper, JSON\n",
    "import sys\n",
    "import pprint\n",
    "class SparqlEndpoint(object):\n",
    "\n",
    "    def __init__(self, endpoint, prefixes={}):\n",
    "        self.sparql = SPARQLWrapper(endpoint)\n",
    "        self.prefixes = {\n",
    "            \"dbpedia-owl\": \"http://dbpedia.org/ontology/\",\n",
    "            \"owl\": \"http://www.w3.org/2002/07/owl#\",\n",
    "            \"xsd\": \"http://www.w3.org/2001/XMLSchema#\",\n",
    "            \"rdfs\": \"http://www.w3.org/2000/01/rdf-schema#\",\n",
    "            \"rdf\": \"http://www.w3.org/1999/02/22-rdf-syntax-ns#\",\n",
    "            \"foaf\": \"http://xmlns.com/foaf/0.1/\",\n",
    "            \"dc\": \"http://purl.org/dc/elements/1.1/\",\n",
    "            \"dbpedia2\": \"http://dbpedia.org/property/\",\n",
    "            \"dbpedia\": \"http://dbpedia.org/\",\n",
    "            \"skos\": \"http://www.w3.org/2004/02/skos/core#\",\n",
    "            \"foaf\": \"http://xmlns.com/foaf/0.1/\",\n",
    "            }\n",
    "        self.prefixes.update(prefixes)\n",
    "        self.sparql.setReturnFormat(JSON)\n",
    "\n",
    "    def query(self, q):\n",
    "        lines = [\"PREFIX %s: <%s>\" % (k, r) for k, r in self.prefixes.items()]\n",
    "        lines.extend(q.split(\"\\n\"))\n",
    "        query = \"\\n\".join(lines)\n",
    "        #comment      \n",
    "        print(\"*\"*40)\n",
    "        print(query)\n",
    "        print(\"*\"*40)\n",
    "        \n",
    "        self.sparql.setQuery(query)\n",
    "        results = self.sparql.query().convert()\n",
    "        return results[\"results\"][\"bindings\"]\n",
    "\n",
    "\n",
    "class DBpediaEndpoint(SparqlEndpoint):\n",
    "    def __init__(self, endpoint, prefixes = {}):\n",
    "        super(DBpediaEndpoint, self).__init__(endpoint, prefixes)\n",
    "\n"
   ]
  },
  {
   "cell_type": "markdown",
   "id": "36215a3a",
   "metadata": {},
   "source": [
    "https://es.dbpedia.org/sparql\n",
    "```\n",
    "PREFIX dbpedia-owl: <http://dbpedia.org/ontology/>\n",
    "SELECT * WHERE {\n",
    "    ?movie a dbpedia-owl:Film .\n",
    "    ?movie dbpedia-owl:country ?country .\n",
    "}\n",
    "LIMIT 5\n",
    "```"
   ]
  },
  {
   "cell_type": "code",
   "execution_count": 6,
   "id": "eadc4fba",
   "metadata": {},
   "outputs": [
    {
     "name": "stdout",
     "output_type": "stream",
     "text": [
      "****************************************\n",
      "PREFIX dbpedia-owl: <http://dbpedia.org/ontology/>\n",
      "PREFIX owl: <http://www.w3.org/2002/07/owl#>\n",
      "PREFIX xsd: <http://www.w3.org/2001/XMLSchema#>\n",
      "PREFIX rdfs: <http://www.w3.org/2000/01/rdf-schema#>\n",
      "PREFIX rdf: <http://www.w3.org/1999/02/22-rdf-syntax-ns#>\n",
      "PREFIX foaf: <http://xmlns.com/foaf/0.1/>\n",
      "PREFIX dc: <http://purl.org/dc/elements/1.1/>\n",
      "PREFIX dbpedia2: <http://dbpedia.org/property/>\n",
      "PREFIX dbpedia: <http://dbpedia.org/>\n",
      "PREFIX skos: <http://www.w3.org/2004/02/skos/core#>\n",
      "\n",
      "        SELECT * WHERE {\n",
      "            ?movie a dbpedia-owl:Film .\n",
      "            ?movie dbpedia-owl:country ?country .\n",
      "        }\n",
      "        LIMIT 5\n",
      "    \n",
      "****************************************\n",
      "{'movie': {'type': 'uri', 'value': 'http://dbpedia.org/resource/ABBA:_The_Movie'}, 'country': {'type': 'uri', 'value': 'http://dbpedia.org/resource/Australia'}}\n",
      "{'movie': {'type': 'uri', 'value': 'http://dbpedia.org/resource/A_Gentleman_of_Paris_(1927_film)'}, 'country': {'type': 'uri', 'value': 'http://dbpedia.org/resource/United_States'}}\n",
      "{'movie': {'type': 'uri', 'value': 'http://dbpedia.org/resource/Aa_Jaa_Sanam'}, 'country': {'type': 'uri', 'value': 'http://dbpedia.org/resource/India'}}\n",
      "{'movie': {'type': 'uri', 'value': 'http://dbpedia.org/resource/Aaj_Ka_Andha_Kanoon'}, 'country': {'type': 'uri', 'value': 'http://dbpedia.org/resource/India'}}\n",
      "{'movie': {'type': 'uri', 'value': 'http://dbpedia.org/resource/Aakhri_Daku'}, 'country': {'type': 'uri', 'value': 'http://dbpedia.org/resource/India'}}\n"
     ]
    }
   ],
   "source": [
    "s = DBpediaEndpoint(endpoint = \"http://dbpedia.org/sparql\")\n",
    "\n",
    "results = s.query(\"\"\"\n",
    "        SELECT * WHERE {\n",
    "            ?movie a dbpedia-owl:Film .\n",
    "            ?movie dbpedia-owl:country ?country .\n",
    "        }\n",
    "        LIMIT 5\n",
    "    \"\"\")\n",
    "\n",
    "for d in results:\n",
    "    print(d)"
   ]
  },
  {
   "cell_type": "code",
   "execution_count": null,
   "id": "66b0d40b",
   "metadata": {},
   "outputs": [],
   "source": []
  }
 ],
 "metadata": {
  "interpreter": {
   "hash": "a707b6ce8c685eb936424fcc3009d4b4b7a52543c4db09380a3fc49186ceb509"
  },
  "kernelspec": {
   "display_name": "MyPy397",
   "language": "python",
   "name": "python3"
  },
  "language_info": {
   "codemirror_mode": {
    "name": "ipython",
    "version": 3
   },
   "file_extension": ".py",
   "mimetype": "text/x-python",
   "name": "python",
   "nbconvert_exporter": "python",
   "pygments_lexer": "ipython3",
   "version": "3.9.7"
  }
 },
 "nbformat": 4,
 "nbformat_minor": 5
}
