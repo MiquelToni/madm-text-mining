{
 "cells": [
  {
   "cell_type": "markdown",
   "id": "58e52498",
   "metadata": {},
   "source": [
    "https://pypi.org/project/Owlready2/\n",
    "\n",
    "https://owlready2.readthedocs.io/en/latest/intro.html\n",
    "\n"
   ]
  },
  {
   "cell_type": "code",
   "execution_count": 8,
   "id": "93048357",
   "metadata": {},
   "outputs": [],
   "source": [
    "#!pip install Owlready2"
   ]
  },
  {
   "cell_type": "code",
   "execution_count": 9,
   "id": "c637aa8e",
   "metadata": {},
   "outputs": [],
   "source": [
    "from owlready2 import *\n",
    "\n",
    "#Creamos una ontología\n",
    "onto = get_ontology(\"http://test.org/onto.owl\")"
   ]
  },
  {
   "cell_type": "code",
   "execution_count": 10,
   "id": "3db1ee3e",
   "metadata": {},
   "outputs": [
    {
     "name": "stdout",
     "output_type": "stream",
     "text": [
      "http://test.org/onto.owl#Drug\n"
     ]
    }
   ],
   "source": [
    "#Siguiendo el estilo de Python, podemos definir clases de una ontología\n",
    "class Drug(Thing):\n",
    "    namespace = onto\n",
    "print(Drug.iri)"
   ]
  },
  {
   "cell_type": "code",
   "execution_count": 11,
   "id": "ab2baf45",
   "metadata": {},
   "outputs": [],
   "source": [
    "class DrugAssociation(Drug): \n",
    "    pass"
   ]
  },
  {
   "cell_type": "code",
   "execution_count": 12,
   "id": "de8aceef",
   "metadata": {},
   "outputs": [
    {
     "name": "stdout",
     "output_type": "stream",
     "text": [
      "[onto.Drug]\n"
     ]
    }
   ],
   "source": [
    "print(DrugAssociation.is_a)"
   ]
  },
  {
   "cell_type": "code",
   "execution_count": 13,
   "id": "14d32b92",
   "metadata": {},
   "outputs": [
    {
     "name": "stdout",
     "output_type": "stream",
     "text": [
      "[onto.DrugAssociation]\n"
     ]
    }
   ],
   "source": [
    "print(list(Drug.subclasses()))"
   ]
  },
  {
   "cell_type": "code",
   "execution_count": 14,
   "id": "6e933d60",
   "metadata": {},
   "outputs": [
    {
     "name": "stdout",
     "output_type": "stream",
     "text": [
      "http://test.org/onto.owl#my_drug\n"
     ]
    }
   ],
   "source": [
    "#creación de individuales\n",
    "my_drug = Drug(\"my_drug\")\n",
    "print(my_drug.iri)"
   ]
  },
  {
   "cell_type": "code",
   "execution_count": 15,
   "id": "5493924c",
   "metadata": {},
   "outputs": [
    {
     "name": "stdout",
     "output_type": "stream",
     "text": [
      "c:\\Users\\miqut\\Projects\\TextMining\\madm-text-mining\n"
     ]
    }
   ],
   "source": [
    "#Ok, salvemos la ontología, donde... PATH?\n",
    "import os\n",
    "print(os.getcwd())"
   ]
  },
  {
   "cell_type": "code",
   "execution_count": 18,
   "id": "b1b15391",
   "metadata": {},
   "outputs": [],
   "source": [
    "onto.save(file=\"./owl/myOntology.xml\", format = \"rdfxml\")"
   ]
  },
  {
   "cell_type": "code",
   "execution_count": null,
   "id": "39fb8604",
   "metadata": {},
   "outputs": [],
   "source": [
    "#se puede abrir con protege!"
   ]
  },
  {
   "cell_type": "code",
   "execution_count": null,
   "id": "ad8b99e5",
   "metadata": {},
   "outputs": [
    {
     "name": "stdout",
     "output_type": "stream",
     "text": [
      "<?xml version=\"1.0\"?>\r\n",
      "<rdf:RDF xmlns:rdf=\"http://www.w3.org/1999/02/22-rdf-syntax-ns#\"\r\n",
      "         xmlns:xsd=\"http://www.w3.org/2001/XMLSchema#\"\r\n",
      "         xmlns:rdfs=\"http://www.w3.org/2000/01/rdf-schema#\"\r\n",
      "         xmlns:owl=\"http://www.w3.org/2002/07/owl#\"\r\n",
      "         xml:base=\"http://test.org/onto.owl\"\r\n",
      "         xmlns=\"http://test.org/onto.owl#\">\r\n",
      "\r\n",
      "<owl:Ontology rdf:about=\"http://test.org/onto.owl\"/>\r\n",
      "\r\n",
      "<owl:Class rdf:about=\"#Drug\">\r\n",
      "  <rdfs:subClassOf rdf:resource=\"http://www.w3.org/2002/07/owl#Thing\"/>\r\n",
      "</owl:Class>\r\n",
      "\r\n",
      "<owl:Class rdf:about=\"#DrugAssociation\">\r\n",
      "  <rdfs:subClassOf rdf:resource=\"#Drug\"/>\r\n",
      "</owl:Class>\r\n",
      "\r\n",
      "<Drug rdf:about=\"#my_drug\">\r\n",
      "  <rdf:type rdf:resource=\"http://www.w3.org/2002/07/owl#NamedIndividual\"/>\r\n",
      "</Drug>\r\n",
      "\r\n",
      "\r\n",
      "</rdf:RDF>\r\n"
     ]
    }
   ],
   "source": [
    "!cat /Users/isaaclera/Downloads/myOntology.xml"
   ]
  },
  {
   "cell_type": "code",
   "execution_count": null,
   "id": "b2f03801",
   "metadata": {},
   "outputs": [],
   "source": []
  }
 ],
 "metadata": {
  "interpreter": {
   "hash": "a707b6ce8c685eb936424fcc3009d4b4b7a52543c4db09380a3fc49186ceb509"
  },
  "kernelspec": {
   "display_name": "MyPy397",
   "language": "python",
   "name": "python3"
  },
  "language_info": {
   "codemirror_mode": {
    "name": "ipython",
    "version": 3
   },
   "file_extension": ".py",
   "mimetype": "text/x-python",
   "name": "python",
   "nbconvert_exporter": "python",
   "pygments_lexer": "ipython3",
   "version": "3.9.7"
  }
 },
 "nbformat": 4,
 "nbformat_minor": 5
}
